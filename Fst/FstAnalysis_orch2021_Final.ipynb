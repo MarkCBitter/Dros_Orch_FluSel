{
 "cells": [
  {
   "cell_type": "code",
   "execution_count": 54,
   "metadata": {
    "collapsed": true
   },
   "outputs": [],
   "source": [
    "#Fst analysis of 2021 orchard data "
   ]
  },
  {
   "cell_type": "code",
   "execution_count": 1,
   "metadata": {
    "collapsed": true
   },
   "outputs": [],
   "source": [
    "source(\"/home/users/mcbitter/OrchardProject/Code/config.R\")\n",
    "source(\"/home/users/mcbitter/OrchardProject/Code/general_cage_functions.R\")\n",
    "setwd('/scratch/groups/dpetrov/MarkB/Orchard2021Data/FST/')\n"
   ]
  },
  {
   "cell_type": "markdown",
   "metadata": {},
   "source": [
    "# Analysis/plotting of Fst results"
   ]
  },
  {
   "cell_type": "code",
   "execution_count": 5,
   "metadata": {
    "collapsed": true
   },
   "outputs": [],
   "source": [
    "#Time points vs. baseline\n",
    "df = read.csv('./Meta_ECage_Fst_orch2021.csv')\n",
    "df.base = df %>%\n",
    "    filter(type %in% c(\"tech.rep\", \"biol.rep\", \"Base.TP\")) %>%\n",
    "    mutate(time.seg = case_when(\n",
    "        time.seg == 'tech.rep' ~ 'Technical Reps.'  , \n",
    "        time.seg == 'biol.rep' ~ 'Biological Reps.',\n",
    "        time.seg == '0_1' ~ 'Base vs. Tpt. 1', \n",
    "        time.seg == '0_2' ~ 'Base vs. Tpt. 2', \n",
    "        time.seg == '0_3' ~ 'Base vs. Tpt. 3', \n",
    "        time.seg == '0_4' ~ 'Base vs. Tpt. 4', \n",
    "        time.seg == '0_5' ~ 'Base vs. Tpt. 5', \n",
    "        time.seg == '0_6' ~ 'Base vs. Tpt. 6', \n",
    "        time.seg == '0_7' ~ 'Base vs. Tpt. 7', \n",
    "        time.seg == '0_8' ~ 'Base vs. Tpt. 8', \n",
    "        time.seg == '0_9' ~ 'Base vs. Tpt. 9', \n",
    "        time.seg == '0_10' ~ 'Base vs. Tpt. 10', \n",
    "        time.seg == '0_11' ~ 'Base vs. Tpt. 11', \n",
    "        time.seg == '0_12' ~ 'Base vs. Tpt. 12', \n",
    "                               ))"
   ]
  },
  {
   "cell_type": "code",
   "execution_count": 7,
   "metadata": {},
   "outputs": [
    {
     "data": {
      "image/png": "[encoded data removed]",
      "text/plain": [
       "plot without title"
      ]
     },
     "metadata": {
      "image/png": {
       "height": 420,
       "width": 420
      }
     },
     "output_type": "display_data"
    }
   ],
   "source": [
    "p.base = ggplot(df.base, aes(x = time.seg, y = fst)) + \n",
    "    geom_boxplot() +\n",
    "    scale_x_discrete(limits = c('Technical Reps.', 'Biological Reps.', 'Base vs. Tpt. 1', 'Base vs. Tpt. 2' ,'Base vs. Tpt. 3',   \n",
    "                                'Base vs. Tpt. 4',  'Base vs. Tpt. 5',  'Base vs. Tpt. 6',  'Base vs. Tpt. 7',  \n",
    "                                'Base vs. Tpt. 8',  'Base vs. Tpt. 9', 'Base vs. Tpt. 10', 'Base vs. Tpt. 11', 'Base vs. Tpt. 12')) +\n",
    "    theme_bw(base_size = 16) +\n",
    "    ylim(0, 0.0045) +\n",
    "    xlab(\"\") +\n",
    "    ylab(\"Fst\") \n",
    "   # geom_signif(comparisons = list(c(\"Sequencing Reps.\", \"Cage Reps.\"), c(\"Cage Reps.\", \"Base vs. Tpt. 1\"),\n",
    "    #                               c(\"Cage Reps.\", \"Base vs. Tpt. 2\"),  c(\"Cage Reps.\", \"Base vs. Tpt. 3\"),\n",
    "     #                              c(\"Cage Reps.\", \"Base vs. Tpt. 4\"),  c(\"Cage Reps.\", \"Base vs. Tpt. 5\"),\n",
    "     #                              c(\"Cage Reps.\", \"Base vs. Tpt. 6\"),  c(\"Cage Reps.\", \"Base vs. Tpt. 7\"),\n",
    "    #                               c(\"Cage Reps.\", \"Base vs. Tpt. 8\"),  c(\"Cage Reps.\", \"Base vs. Tpt. 9\"),\n",
    "      #                             c(\"Cage Reps.\", \"Base vs. Tpt. 10\"), c(\"Cage Reps.\", \"Base vs. Tpt. 11\")\n",
    "       #                           ), \n",
    "         #     map_signif_level=TRUE, test = 't.test')\n",
    "p.base\n",
    "ggsave(filename = \"../Figures/Fst/base.fst.ecage.pdf\", p.base, width = 20, height = 7)\n"
   ]
  },
  {
   "cell_type": "markdown",
   "metadata": {},
   "source": [
    "# Statistics"
   ]
  },
  {
   "cell_type": "code",
   "execution_count": 15,
   "metadata": {},
   "outputs": [
    {
     "data": {
      "text/html": [
       "<style>\n",
       ".list-inline {list-style: none; margin:0; padding: 0}\n",
       ".list-inline>li {display: inline-block}\n",
       ".list-inline>li:not(:last-child)::after {content: \"\\00b7\"; padding: 0 .5ex}\n",
       "</style>\n",
       "<ol class=list-inline><li>25</li><li>2</li></ol>\n"
      ],
      "text/latex": [
       "\\begin{enumerate*}\n",
       "\\item 25\n",
       "\\item 2\n",
       "\\end{enumerate*}\n"
      ],
      "text/markdown": [
       "1. 25\n",
       "2. 2\n",
       "\n",
       "\n"
      ],
      "text/plain": [
       "[1] 25  2"
      ]
     },
     "metadata": {},
     "output_type": "display_data"
    },
    {
     "data": {
      "text/html": [
       "<style>\n",
       ".list-inline {list-style: none; margin:0; padding: 0}\n",
       ".list-inline>li {display: inline-block}\n",
       ".list-inline>li:not(:last-child)::after {content: \"\\00b7\"; padding: 0 .5ex}\n",
       "</style>\n",
       "<ol class=list-inline><li>25</li><li>2</li></ol>\n"
      ],
      "text/latex": [
       "\\begin{enumerate*}\n",
       "\\item 25\n",
       "\\item 2\n",
       "\\end{enumerate*}\n"
      ],
      "text/markdown": [
       "1. 25\n",
       "2. 2\n",
       "\n",
       "\n"
      ],
      "text/plain": [
       "[1] 25  2"
      ]
     },
     "metadata": {},
     "output_type": "display_data"
    }
   ],
   "source": [
    "#####Stats on biol. vs. tech reps; biol reps vs. each base vs. tp\n",
    "df = read.csv('./Meta_ECage_Fst_orch2021.csv')\n",
    "##biol vs. tech. reps\n",
    "df.reps = df %>% filter(type %in% c('biol.rep', 'tech.rep'))\n",
    "df.reps.stats = data.frame()\n",
    "comp = \"Reps\"\n",
    "pval = t.test((df.reps %>% filter(type == 'tech.rep'))$fst, (df.reps %>% filter(type == 'biol.rep'))$fst)$p.value\n",
    "d = cbind(comp, pval)\n",
    "df.reps.stats = rbind(df.reps.stats, d)\n",
    "\n",
    "\n",
    "\n",
    "df.tps = df %>% filter(type == 'Base.TP')\n",
    "df.tps.stats = data.frame()\n",
    "for (tp in as.character(unique((df.tps %>% filter(type == \"Base.TP\"))$time.seg))){\n",
    "    comp = paste0('Biol.Rep vs ', tp)\n",
    "    df.reps = df %>% filter(type == 'biol.rep')\n",
    "    df.comp = df.tps %>% filter(time.seg == tp)\n",
    "    pval = t.test(df.comp$fst, df.reps$fst)$p.value\n",
    "    d = cbind(comp, pval)\n",
    "    df.tps.stats = rbind(df.tps.stats, d)\n",
    "}\n",
    "\n",
    "\n",
    "df.tps = df %>% filter(type == 'Base.TP')\n",
    "df.tps.tech.stats = data.frame()\n",
    "for (tp in as.character(unique((df.tps %>% filter(type == \"Base.TP\"))$time.seg))){\n",
    "    comp = paste0('Tech.Rep vs ', tp)\n",
    "    df.reps = df %>% filter(type == 'tech.rep')\n",
    "    df.comp = df.tps %>% filter(time.seg == tp)\n",
    "    pval = t.test(df.comp$fst, df.reps$fst, alternative = 'greater')$p.value\n",
    "    d = cbind(comp, pval)\n",
    "    df.tps.tech.stats = rbind(df.tps.tech.stats, d)\n",
    "}\n",
    "\n",
    "\n",
    "\n",
    "df.stats = rbind(df.reps.stats, df.tps.stats, df.tps.tech.stats)\n",
    "write.csv(df.stats, 'fst.stats.ecage.orch21.csv', row.names = FALSE)\n",
    "\n",
    "df.stats = df.stats %>% mutate(pval = as.numeric(as.character(pval)))\n",
    "dim(df.stats)\n",
    "dim(df.stats %>% filter(pval < 0.01)) ###All comparisons significant (tech reps vs. base -> tp and biol reps vs. base ->tp)\n",
    "\n"
   ]
  },
  {
   "cell_type": "code",
   "execution_count": 14,
   "metadata": {},
   "outputs": [
    {
     "data": {
      "text/plain": [
       "\n",
       "Call:  glm(formula = fst ~ tpt, family = gaussian(link = \"logit\"), data = df)\n",
       "\n",
       "Coefficients:\n",
       "(Intercept)          tpt  \n",
       "   -6.29965      0.03947  \n",
       "\n",
       "Degrees of Freedom: 555 Total (i.e. Null);  554 Residual\n",
       "Null Deviance:\t    0.0001287 \n",
       "Residual Deviance: 7.628e-05 \tAIC: -7202"
      ]
     },
     "metadata": {},
     "output_type": "display_data"
    }
   ],
   "source": [
    "#Does Fst change as a funciton of time? \n",
    "##here use glm with logistic link function\n",
    "df = read.csv('./Meta_ECage_Fst_orch2021.csv')\n",
    "df = df %>% filter(type == 'Base.TP')\n",
    "df = df %>% separate(time.seg, into = c(NA, \"tpt\"), sep = \"_\") %>%\n",
    "    mutate(tpt = as.numeric(tpt))\n",
    "glm(fst ~ tpt, family = gaussian(link = 'logit'), data = df)\n",
    "\n",
    "###pval = 0.039"
   ]
  },
  {
   "cell_type": "code",
   "execution_count": 16,
   "metadata": {},
   "outputs": [
    {
     "data": {
      "text/html": [
       "<table class=\"dataframe\">\n",
       "<caption>A data.frame: 6 × 4</caption>\n",
       "<thead>\n",
       "\t<tr><th></th><th scope=col>cage</th><th scope=col>fst</th><th scope=col>tpt</th><th scope=col>type</th></tr>\n",
       "\t<tr><th></th><th scope=col>&lt;fct&gt;</th><th scope=col>&lt;dbl&gt;</th><th scope=col>&lt;dbl&gt;</th><th scope=col>&lt;fct&gt;</th></tr>\n",
       "</thead>\n",
       "<tbody>\n",
       "\t<tr><th scope=row>1</th><td>tp1_F1_E1_downsamped </td><td>0.002769937</td><td>1</td><td>Base.TP</td></tr>\n",
       "\t<tr><th scope=row>2</th><td>tp1_F1_E10_downsamped</td><td>0.002562860</td><td>1</td><td>Base.TP</td></tr>\n",
       "\t<tr><th scope=row>3</th><td>tp1_F1_E11_downsamped</td><td>0.002205998</td><td>1</td><td>Base.TP</td></tr>\n",
       "\t<tr><th scope=row>4</th><td>tp1_F1_E12_downsamped</td><td>0.002784526</td><td>1</td><td>Base.TP</td></tr>\n",
       "\t<tr><th scope=row>5</th><td>tp1_F1_E2_downsamped </td><td>0.001937727</td><td>1</td><td>Base.TP</td></tr>\n",
       "\t<tr><th scope=row>6</th><td>tp1_F1_E4_downsamped </td><td>0.001681600</td><td>1</td><td>Base.TP</td></tr>\n",
       "</tbody>\n",
       "</table>\n"
      ],
      "text/latex": [
       "A data.frame: 6 × 4\n",
       "\\begin{tabular}{r|llll}\n",
       "  & cage & fst & tpt & type\\\\\n",
       "  & <fct> & <dbl> & <dbl> & <fct>\\\\\n",
       "\\hline\n",
       "\t1 & tp1\\_F1\\_E1\\_downsamped  & 0.002769937 & 1 & Base.TP\\\\\n",
       "\t2 & tp1\\_F1\\_E10\\_downsamped & 0.002562860 & 1 & Base.TP\\\\\n",
       "\t3 & tp1\\_F1\\_E11\\_downsamped & 0.002205998 & 1 & Base.TP\\\\\n",
       "\t4 & tp1\\_F1\\_E12\\_downsamped & 0.002784526 & 1 & Base.TP\\\\\n",
       "\t5 & tp1\\_F1\\_E2\\_downsamped  & 0.001937727 & 1 & Base.TP\\\\\n",
       "\t6 & tp1\\_F1\\_E4\\_downsamped  & 0.001681600 & 1 & Base.TP\\\\\n",
       "\\end{tabular}\n"
      ],
      "text/markdown": [
       "\n",
       "A data.frame: 6 × 4\n",
       "\n",
       "| <!--/--> | cage &lt;fct&gt; | fst &lt;dbl&gt; | tpt &lt;dbl&gt; | type &lt;fct&gt; |\n",
       "|---|---|---|---|---|\n",
       "| 1 | tp1_F1_E1_downsamped  | 0.002769937 | 1 | Base.TP |\n",
       "| 2 | tp1_F1_E10_downsamped | 0.002562860 | 1 | Base.TP |\n",
       "| 3 | tp1_F1_E11_downsamped | 0.002205998 | 1 | Base.TP |\n",
       "| 4 | tp1_F1_E12_downsamped | 0.002784526 | 1 | Base.TP |\n",
       "| 5 | tp1_F1_E2_downsamped  | 0.001937727 | 1 | Base.TP |\n",
       "| 6 | tp1_F1_E4_downsamped  | 0.001681600 | 1 | Base.TP |\n",
       "\n"
      ],
      "text/plain": [
       "  cage                  fst         tpt type   \n",
       "1 tp1_F1_E1_downsamped  0.002769937 1   Base.TP\n",
       "2 tp1_F1_E10_downsamped 0.002562860 1   Base.TP\n",
       "3 tp1_F1_E11_downsamped 0.002205998 1   Base.TP\n",
       "4 tp1_F1_E12_downsamped 0.002784526 1   Base.TP\n",
       "5 tp1_F1_E2_downsamped  0.001937727 1   Base.TP\n",
       "6 tp1_F1_E4_downsamped  0.001681600 1   Base.TP"
      ]
     },
     "metadata": {},
     "output_type": "display_data"
    }
   ],
   "source": [
    "#Does Fst change as a funciton of time? - use linear mixed effects model \n",
    "####-- RUN ON LOCAL COMPUTER B/C lme4 incompatible with cluster version of R\n",
    "df = read.csv('./Meta_ECage_Fst_orch2021.csv')\n",
    "df = df %>% filter(type == 'Base.TP')\n",
    "df = df %>% separate(time.seg, into = c(NA, \"tpt\"), sep = \"_\") %>%\n",
    "    mutate(tpt = as.numeric(tpt))\n",
    "#mod.full = lmer(fst ~ tpt + (1|cage), data = df, REML = FALSE)\n",
    "#mod.null = lmer(fst ~  (1|cage), data = df, REML = FALSE)\n",
    "#anova(mod.full, mod.null)[2,8]\n",
    "\n",
    "###pval < 0.001"
   ]
  },
  {
   "cell_type": "markdown",
   "metadata": {},
   "source": [
    "# Code for generating Fst data files"
   ]
  },
  {
   "cell_type": "code",
   "execution_count": null,
   "metadata": {
    "collapsed": true
   },
   "outputs": [],
   "source": [
    "###Fst between biological replicates - run on cluster BiolReps_ECage_Fst.R\n",
    "setwd('/scratch/groups/dpetrov/MarkB/Orchard2021Data/RData/Downsampled/')\n",
    "source(\"/home/users/mcbitter/OrchardProject/Code/config.R\")\n",
    "source(\"/home/users/mcbitter/OrchardProject/Code/general_cage_functions.R\")\n",
    "\n",
    "load('./orch2021_Downsampled_BiolReps_ECages.RData')\n",
    "rep.samps = unique(samps$sample)\n",
    "\n",
    "\n",
    "data = data.frame()\n",
    "for (samp in rep.samps){\n",
    "    load('./orch2021_Downsampled_BiolReps_ECages.RData')\n",
    "    df = cbind(samps, t(afmat))\n",
    "    df = df %>%\n",
    "        filter(sample == samp)\n",
    "    df = df[,-(1:ncol(samps))]\n",
    "    df = t(df)\n",
    "    rep = samp\n",
    "    fst.mat = Fst.mat(df)\n",
    "    fst.val = fst.mat[1, 2]\n",
    "    fst.df = cbind(rep, fst.val)\n",
    "    fst.df = fst.df %>% as.data.frame(fst.df) %>%\n",
    "                rename(fst = fst.val, cage = rep) %>%\n",
    "                mutate(type = \"biol.rep\") %>%\n",
    "                mutate(time.seg = \"biol.rep\") %>%\n",
    "                dplyr::select(cage, fst, time.seg, type)\n",
    "    data = rbind(data, fst.df)\n",
    "}\n",
    "\n",
    "\n",
    "write.csv(data, \"../../FST/BiolReps_ECage_Fst_orch2021.csv\", row.names = FALSE"
   ]
  },
  {
   "cell_type": "code",
   "execution_count": null,
   "metadata": {
    "collapsed": true
   },
   "outputs": [],
   "source": [
    "###Fst between E Cage technical replicates - run on cluster TechReps_ECages_Fst.R\n",
    "setwd('/scratch/groups/dpetrov/MarkB/Orchard2021Data/RData/Downsampled/')\n",
    "source(\"/home/users/mcbitter/OrchardProject/Code/config.R\")\n",
    "source(\"/home/users/mcbitter/OrchardProject/Code/general_cage_functions.R\")\n",
    "\n",
    "load('./orch2021_Downsampled_TechReps_ECages.RData')\n",
    "rep.samps = unique(samps$sample)\n",
    "\n",
    "data = data.frame()\n",
    "for (samp in rep.samps){\n",
    "    load('./orch2021_Downsampled_TechReps_ECages.RData')\n",
    "    df = cbind(samps, t(afmat))\n",
    "    df = df %>%\n",
    "        filter(sample == samp)\n",
    "    df = df[,-(1:ncol(samps))]\n",
    "    df = t(df)\n",
    "    rep = samp\n",
    "    fst.mat = Fst.mat(df)\n",
    "    fst.val = fst.mat[1, 2]\n",
    "    fst.df = cbind(rep, fst.val)\n",
    "    fst.df = fst.df %>% as.data.frame(fst.df) %>%\n",
    "                rename(fst = fst.val, cage = rep) %>%\n",
    "                mutate(type = \"tech.rep\") %>%\n",
    "                mutate(time.seg = \"tech.rep\") %>%\n",
    "                dplyr::select(cage, fst, time.seg, type)\n",
    "    data = rbind(data, fst.df)\n",
    "}\n",
    "\n",
    "\n",
    "write.csv(data,\"../../FST/TechReps_ECage_Fst_orch2021.csv\", row.names = FALSE)"
   ]
  },
  {
   "cell_type": "code",
   "execution_count": 2,
   "metadata": {
    "collapsed": true
   },
   "outputs": [],
   "source": [
    "##Getting baseline vs. Ecage\n",
    "\n",
    "setwd('/scratch/groups/dpetrov/MarkB/Orchard2021Data/RData/Downsampled/')\n",
    "source(\"/home/users/mcbitter/OrchardProject/Code/config.R\")\n",
    "source(\"/home/users/mcbitter/OrchardProject/Code/general_cage_functions.R\")\n",
    "\n",
    "TP = c(1, 2, 3, 4, 5, 6, 7, 8, 9, 10, 11, 12)\n",
    "\n",
    "\n",
    "data = data.frame()\n",
    "\n",
    "for (tp in TP){\n",
    "    load('./orch2021_Downsampled_ECage_Filtered_SUB.RData')\n",
    "    df = cbind(samps, t(afmat))\n",
    "    df = df %>%\n",
    "    filter(tpt == tp)\n",
    "    df = df[,-(1:ncol(samps))]\n",
    "    df = t(df)\n",
    "    load('./orch2021_Baseline_Downsampled_Filtered_SUB.RData')\n",
    "    df.fst = cbind(afmat.base, df)\n",
    "    fst.mat = Fst.mat(df.fst)\n",
    "    fst.mat = (fst.mat[-c(5:nrow(fst.mat)),-c(1:4)])\n",
    "    fst.vec = as.vector(fst.mat)\n",
    "    cages = colnames(df)\n",
    "    time.seg = paste0(\"0_\", tp)\n",
    "    type = 'Base.TP'\n",
    "    fst.df = as.data.frame(fst.vec)\n",
    "    fst.df$cage = rep(cages, 4)\n",
    "    fst.df$time.seg = time.seg\n",
    "    fst.df$type = type\n",
    "    fst.df = fst.df %>%\n",
    "        rename(fst = fst.vec) %>%\n",
    "        dplyr::select(cage, fst, time.seg, type)\n",
    "    data = rbind(data, fst.df)\n",
    "\n",
    "}\n",
    "write.csv(data, '../../FST/BaselineTP_Fst_ECage_Orch2021.csv', row.names = FALSE)"
   ]
  },
  {
   "cell_type": "code",
   "execution_count": null,
   "metadata": {
    "collapsed": true
   },
   "outputs": [],
   "source": [
    "##Getting baseline vs. Ecage  -- BY CHROM -- run on cluster Baseline_Fst_ByChrom.R\n",
    "setwd('/scratch/groups/dpetrov/MarkB/Orchard2021Data/RData/Downsampled/')\n",
    "source(\"/home/users/mcbitter/OrchardProject/Code/config.R\")\n",
    "source(\"/home/users/mcbitter/OrchardProject/Code/general_cage_functions.R\")\n",
    "\n",
    "\n",
    "\n",
    "chroms = c('2L', '2R', '3L', '3R', 'X')\n",
    "TP = c(1, 2, 3, 4, 5, 6, 7, 8, 9, 10, 11, 12)\n",
    "\n",
    "data.meta = data.frame()\n",
    "for (chr in chroms){\n",
    "    data.chrom = data.frame()\n",
    "    for (tp in TP){\n",
    "        load('./orch2021_Downsampled_ECage_Filtered.RData')\n",
    "        d = cbind(sites, afmat)\n",
    "        d = d %>% filter(chrom == chr)\n",
    "        afmat = d %>% dplyr::select(-chrom, -pos)\n",
    "        df = cbind(samps, t(afmat))\n",
    "        df = df %>% filter(tpt == tp)\n",
    "        df = df[,-(1:ncol(samps))]\n",
    "        df = t(df)\n",
    "        load('./orch2021_Baseline_Downsampled_Filtered.RData')\n",
    "        afmat.base = cbind(sites.base, afmat.base)\n",
    "        afmat.base = afmat.base %>% filter(chrom == chr) %>% dplyr::select(-chrom, -pos)\n",
    "        df.fst = cbind(afmat.base, df)\n",
    "        fst.mat = Fst.mat(df.fst)\n",
    "        fst.mat = (fst.mat[-c(5:nrow(fst.mat)),-c(1:4)])\n",
    "        fst.vec = as.vector(fst.mat)\n",
    "        cages = colnames(df)\n",
    "        time.seg = paste0(\"0_\", tp)\n",
    "        type = 'Base.TP'\n",
    "        fst.df = as.data.frame(fst.vec)\n",
    "        fst.df$cage = rep(cages, 4)\n",
    "        fst.df$time.seg = time.seg\n",
    "        fst.df$type = type\n",
    "        fst.df = fst.df %>%\n",
    "            rename(fst = fst.vec) %>%\n",
    "            dplyr::select(cage, fst, time.seg, type)\n",
    "        fst.df$chrom = chr\n",
    "        data.chrom = rbind(data.chrom, fst.df)\n",
    "    }\n",
    "    data.meta = rbind(data.meta, data.chrom)\n",
    "    }\n",
    "data.meta\n",
    "write.csv(data, '../../FST/BaselineTP_Fst_ByChrom_ECage_Orch2021.csv', row.names = FALSE)"
   ]
  },
  {
   "cell_type": "markdown",
   "metadata": {
    "collapsed": true
   },
   "source": [
    "# Data Wrangling/Concatenating Output (of files used above)\n",
    "\n",
    "\n"
   ]
  },
  {
   "cell_type": "code",
   "execution_count": 2,
   "metadata": {
    "collapsed": true
   },
   "outputs": [],
   "source": [
    "setwd('/scratch/groups/dpetrov/MarkB/Orchard2021Data/FST/')"
   ]
  },
  {
   "cell_type": "code",
   "execution_count": 5,
   "metadata": {
    "collapsed": true
   },
   "outputs": [],
   "source": [
    "##Base + reps\n",
    "base = read.csv(\"./BaselineTP_Fst_ECage_Orch2021.csv\")\n",
    "bio.reps = read.csv('./BiolReps_ECage_Fst_orch2021.csv')\n",
    "tech.reps = read.csv('./TechReps_ECage_Fst_orch2021.csv')"
   ]
  },
  {
   "cell_type": "code",
   "execution_count": 6,
   "metadata": {
    "collapsed": true
   },
   "outputs": [],
   "source": [
    "meta.fst = rbind(base, bio.reps, tech.reps) \n",
    "write.csv(meta.fst, \"./Meta_ECage_Fst_orch2021.csv\", row.names = FALSE)"
   ]
  }
 ],
 "metadata": {
  "kernelspec": {
   "display_name": "R",
   "language": "R",
   "name": "ir"
  },
  "language_info": {
   "codemirror_mode": "r",
   "file_extension": ".r",
   "mimetype": "text/x-r-source",
   "name": "R",
   "pygments_lexer": "r",
   "version": "3.5.1"
  }
 },
 "nbformat": 4,
 "nbformat_minor": 2
}
