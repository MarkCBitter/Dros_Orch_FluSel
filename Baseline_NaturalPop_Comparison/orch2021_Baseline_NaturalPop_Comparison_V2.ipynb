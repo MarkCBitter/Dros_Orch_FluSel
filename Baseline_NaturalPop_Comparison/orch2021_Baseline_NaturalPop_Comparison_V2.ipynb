{
 "cells": [
  {
   "cell_type": "code",
   "execution_count": 1,
   "id": "84932589",
   "metadata": {},
   "outputs": [],
   "source": [
    "##Exploring how representative baseline population is to a natural D. melanogaster populations"
   ]
  },
  {
   "cell_type": "code",
   "execution_count": 1,
   "id": "4378df9d",
   "metadata": {},
   "outputs": [],
   "source": [
    "source(\"/home/users/mcbitter/OrchardProject/Code/config.R\")\n",
    "source(\"/home/users/mcbitter/OrchardProject/Code/helper_functions.R\")\n",
    "source(\"/home/users/mcbitter/OrchardProject/Code/load_packages.R\")\n",
    "source(\"/home/users/mcbitter/OrchardProject/Code/plotting_functions.R\")\n",
    "source(\"/home/users/mcbitter/OrchardProject/Code/workflow_functions.R\")\n",
    "source(\"/home/users/mcbitter/OrchardProject/Code/general_cage_functions.R\")\n",
    "source(\"/home/users/mcbitter/OrchardProject/Code/Orchard2021_Scripts/LOA/loa.orch2021.functions.R\")\n",
    "source(\"/home/users/mcbitter/OrchardProject/Code/Orchard2021_Scripts/FinalScripts/orch2021_functions.R\")\n",
    "setwd('~/dpetrov/MarkB/Orchard2021Data/')"
   ]
  },
  {
   "cell_type": "code",
   "execution_count": 41,
   "id": "e8a8e4f5",
   "metadata": {},
   "outputs": [],
   "source": [
    "##Adding baseline data to Machado et al. (https://doi.org/10.7554/eLife.67577) -"
   ]
  },
  {
   "cell_type": "code",
   "execution_count": 93,
   "id": "8257a892",
   "metadata": {},
   "outputs": [
    {
     "name": "stdout",
     "output_type": "stream",
     "text": [
      "Loading objects:\n",
      "  eec.base\n",
      "  sites.base\n",
      "  samps.base\n",
      "  afmat.base\n",
      "Loading objects:\n",
      "  dp\n",
      "  freq\n",
      "  info\n",
      "  popinfo\n"
     ]
    },
    {
     "name": "stderr",
     "output_type": "stream",
     "text": [
      "\u001b[1m\u001b[22mJoining with `by = join_by(chrom, pos)`\n"
     ]
    }
   ],
   "source": [
    "#Filtered sites \n",
    "load('./RData/Downsampled/orch2021_Baseline_Downsampled_Filtered.RData', verbose = TRUE)\n",
    "load('./mel_freqdp_042016_Ne_fixed_correctBAVI.Rdata', verbose = TRUE)\n",
    "\n",
    "base.filt = cbind(sites.base, afmat.base)\n",
    "samps.base.filt = as.data.frame(cbind(c('base.1', 'base.2', 'base.3', 'base.4'),rep('orch', 4),\n",
    "                      rep('21', 4), rep('orch', 4), rep('s.f', 4), rep('orch.base.21', 4),\n",
    "                      rep('FALSE', 4),rep('FALSE', 4)))\n",
    "names(samps.base.filt) = colnames(popinfo)\n",
    "\n",
    "info = info %>% dplyr::select(X.CHROM, POS) %>% rename(chrom = X.CHROM, pos = POS)\n",
    "mach.data = cbind(info, freq)\n",
    "filt.data = left_join(base.filt, mach.data)\n",
    "filt.data = na.omit(filt.data)\n",
    "\n",
    "filt.sites = filt.data %>% dplyr::select(chrom, pos)\n",
    "filt.freqs = filt.data %>% dplyr::select(-chrom, -pos)\n",
    "filt.samps = rbind(samps.base.filt, popinfo)\n",
    "save(filt.sites, filt.freqs, filt.samps, file = './orch.base21.Filtered.machado.combined.RData')"
   ]
  },
  {
   "cell_type": "code",
   "execution_count": null,
   "id": "8e146cab",
   "metadata": {},
   "outputs": [],
   "source": [
    "#MEAN BASELINE SITES\n",
    "#Filtered sites\n",
    "load('./RData/Downsampled/orch2021_Baseline_Downsampled_Filtered_Mean.RData', verbose = TRUE)\n",
    "load('./mel_freqdp_042016_Ne_fixed_correctBAVI.Rdata', verbose = TRUE)\n",
    "base.mean = cbind(sites.base, afmat.base.mean)\n",
    "samps.base.mean = as.data.frame(cbind('base.mean', 'orch', '21', 'orch', 's.f', \n",
    "                                      'orch.base.21', 'FALSE', 'FALSE'))\n",
    "names(samps.base.mean) = colnames(popinfo)\n",
    "\n",
    "info = info %>% dplyr::select(X.CHROM, POS) %>% rename(chrom = X.CHROM, pos = POS)\n",
    "mach.data = cbind(info, freq)\n",
    "mean.data = left_join(base.mean, mach.data)\n",
    "mean.data = na.omit(mean.data)\n",
    "\n",
    "mean.sites = mean.data %>% dplyr::select(chrom, pos)\n",
    "mean.freqs = mean.data %>% dplyr::select(-chrom, -pos)\n",
    "mean.samps = rbind(samps.base.mean, popinfo)\n",
    "save(mean.sites, mean.freqs, mean.samps, file = './orch.base21.Mean.machado.combined.RData')"
   ]
  },
  {
   "cell_type": "code",
   "execution_count": 3,
   "id": "7c8d9a81",
   "metadata": {},
   "outputs": [
    {
     "name": "stdout",
     "output_type": "stream",
     "text": [
      "Loading objects:\n",
      "  filt.sites\n",
      "  filt.freqs\n",
      "  filt.samps\n"
     ]
    }
   ],
   "source": [
    "#Fst between four baseline reps\n",
    "load('./orch.base21.Filtered.machado.combined.RData', verbose = TRUE)\n",
    "fst.mat = Fst.mat(filt.freqs)\n",
    "write.csv(fst.mat, './17_BaseVNaturalPopComp/FiltBase.NaturalPop.fst.csv', row.names = FALSE)\n",
    "\n"
   ]
  },
  {
   "cell_type": "code",
   "execution_count": 73,
   "id": "19156ac1",
   "metadata": {},
   "outputs": [],
   "source": [
    "fst.mat  = read.csv('./17_BaseVNaturalPopComp/FiltBase.NaturalPop.fst.csv')\n"
   ]
  },
  {
   "cell_type": "code",
   "execution_count": 74,
   "id": "3434a2f7",
   "metadata": {},
   "outputs": [
    {
     "data": {
      "text/html": [
       "<style>\n",
       ".list-inline {list-style: none; margin:0; padding: 0}\n",
       ".list-inline>li {display: inline-block}\n",
       ".list-inline>li:not(:last-child)::after {content: \"\\00b7\"; padding: 0 .5ex}\n",
       "</style>\n",
       "<ol class=list-inline><li>5</li><li>6</li><li>7</li><li>8</li><li>9</li><li>10</li><li>11</li><li>12</li><li>13</li><li>14</li><li>15</li><li>16</li><li>17</li><li>18</li><li>19</li><li>20</li><li>21</li></ol>\n"
      ],
      "text/latex": [
       "\\begin{enumerate*}\n",
       "\\item 5\n",
       "\\item 6\n",
       "\\item 7\n",
       "\\item 8\n",
       "\\item 9\n",
       "\\item 10\n",
       "\\item 11\n",
       "\\item 12\n",
       "\\item 13\n",
       "\\item 14\n",
       "\\item 15\n",
       "\\item 16\n",
       "\\item 17\n",
       "\\item 18\n",
       "\\item 19\n",
       "\\item 20\n",
       "\\item 21\n",
       "\\end{enumerate*}\n"
      ],
      "text/markdown": [
       "1. 5\n",
       "2. 6\n",
       "3. 7\n",
       "4. 8\n",
       "5. 9\n",
       "6. 10\n",
       "7. 11\n",
       "8. 12\n",
       "9. 13\n",
       "10. 14\n",
       "11. 15\n",
       "12. 16\n",
       "13. 17\n",
       "14. 18\n",
       "15. 19\n",
       "16. 20\n",
       "17. 21\n",
       "\n",
       "\n"
      ],
      "text/plain": [
       " [1]  5  6  7  8  9 10 11 12 13 14 15 16 17 18 19 20 21"
      ]
     },
     "metadata": {},
     "output_type": "display_data"
    },
    {
     "data": {
      "text/html": [
       "<style>\n",
       ".list-inline {list-style: none; margin:0; padding: 0}\n",
       ".list-inline>li {display: inline-block}\n",
       ".list-inline>li:not(:last-child)::after {content: \"\\00b7\"; padding: 0 .5ex}\n",
       "</style>\n",
       "<ol class=list-inline><li>'27'</li><li>'33'</li><li>'34'</li><li>'35'</li><li>'36'</li><li>'37'</li><li>'39'</li><li>'40'</li><li>'42'</li><li>'51'</li><li>'61'</li><li>'62'</li><li>'70'</li><li>'71'</li></ol>\n"
      ],
      "text/latex": [
       "\\begin{enumerate*}\n",
       "\\item '27'\n",
       "\\item '33'\n",
       "\\item '34'\n",
       "\\item '35'\n",
       "\\item '36'\n",
       "\\item '37'\n",
       "\\item '39'\n",
       "\\item '40'\n",
       "\\item '42'\n",
       "\\item '51'\n",
       "\\item '61'\n",
       "\\item '62'\n",
       "\\item '70'\n",
       "\\item '71'\n",
       "\\end{enumerate*}\n"
      ],
      "text/markdown": [
       "1. '27'\n",
       "2. '33'\n",
       "3. '34'\n",
       "4. '35'\n",
       "5. '36'\n",
       "6. '37'\n",
       "7. '39'\n",
       "8. '40'\n",
       "9. '42'\n",
       "10. '51'\n",
       "11. '61'\n",
       "12. '62'\n",
       "13. '70'\n",
       "14. '71'\n",
       "\n",
       "\n"
      ],
      "text/plain": [
       " [1] \"27\" \"33\" \"34\" \"35\" \"36\" \"37\" \"39\" \"40\" \"42\" \"51\" \"61\" \"62\" \"70\" \"71\""
      ]
     },
     "metadata": {},
     "output_type": "display_data"
    }
   ],
   "source": [
    "#what does distribution of Fst values look like between baseline and CA, Europe, and PA?\n",
    "###what are indices of ca, europe (VI, OUK,BA ) and PA?\n",
    "##CA - ca.cols = (filt.samps %>% filter(R %in% c('ca')))$col.num\n",
    "##PA - pa.cols = as.character((filt.samps %>% filter(P %in% c('PA')))$col.num)\n",
    "##EU - 19, 20, 41, 42, 45, 49\n",
    "filt.samps$index = row.names(filt.samps)\n",
    "filt.samps$col.num = c(1:nrow(filt.samps))\n",
    "as.vector((filt.samps %>% filter(R %in% c('ca')))$col.num)\n",
    "as.vector(as.character((filt.samps %>% filter(P %in% c('PA')))$col.num))\n",
    "##CA - ca.cols = (filt.samps %>% filter(R %in% c('ca')))$col.num\n",
    "##PA - pa.cols = as.character((filt.samps %>% filter(P %in% c('PA')))$col.num)\n",
    "##EU - 19, 20, 41, 42, 45, 49\n",
    "\n",
    "fst.pa = as.data.frame(t(fst.mat[1:4, c(27, 33, 34, 35, 36, 37, 39, 40, 42, 51, 61, 62, 70, 71)]))\n",
    "names(fst.pa) = c('fst.base1', 'fst.base2', 'fst.base3', 'fst.base4')\n",
    "fst.pa$comp = 'PA'\n",
    "fst.pa = fst.pa %>% gather(1:4, key = 'base.samp', value = fst)\n",
    "\n",
    "\n",
    "fst.ca = as.data.frame(t(fst.mat[1:4, c(5,6,7,8,9,10,11,12,13,14,15,16,17,18,19,20,21)]))\n",
    "names(fst.ca) = c('fst.base1', 'fst.base2', 'fst.base3', 'fst.base4')\n",
    "fst.ca$comp = 'CA'\n",
    "fst.ca = fst.ca %>% gather(1:4, key = 'base.samp', value = fst)\n",
    "\n",
    "fst.eu = as.data.frame(t(fst.mat[1:4, c(22,23,44,45,48,52)]))\n",
    "names(fst.eu) = c('fst.base1', 'fst.base2', 'fst.base3', 'fst.base4')\n",
    "fst.eu$comp = 'EU'\n",
    "fst.eu = fst.eu %>% gather(1:4, key = 'base.samp', value = fst)\n",
    "\n",
    "\n",
    "fst = rbind(fst.pa, fst.ca, fst.eu)"
   ]
  },
  {
   "cell_type": "code",
   "execution_count": 75,
   "id": "87bc0912",
   "metadata": {},
   "outputs": [
    {
     "data": {
      "image/png": "[encoded data removed]",
      "text/plain": [
       "plot without title"
      ]
     },
     "metadata": {
      "image/png": {
       "height": 420,
       "width": 420
      }
     },
     "output_type": "display_data"
    }
   ],
   "source": [
    "ggplot(fst, aes(x = comp, y = fst)) +\n",
    "    geom_boxplot() +\n",
    "    scale_x_discrete(limits = c('PA', 'CA', 'EU')) +\n",
    "    theme_bw(base_size = 15)"
   ]
  },
  {
   "cell_type": "code",
   "execution_count": 76,
   "id": "57dd01cd",
   "metadata": {},
   "outputs": [
    {
     "data": {
      "text/plain": [
       "\n",
       "\tWelch Two Sample t-test\n",
       "\n",
       "data:  (fst %>% filter(comp == \"PA\"))$fst and (fst %>% filter(comp == \"CA\"))$fst\n",
       "t = -6.0091, df = 82.394, p-value = 2.434e-08\n",
       "alternative hypothesis: true difference in means is less than 0\n",
       "95 percent confidence interval:\n",
       "         -Inf -0.001310498\n",
       "sample estimates:\n",
       " mean of x  mean of y \n",
       "0.01516590 0.01697808 \n"
      ]
     },
     "metadata": {},
     "output_type": "display_data"
    },
    {
     "data": {
      "text/plain": [
       "\n",
       "\tWelch Two Sample t-test\n",
       "\n",
       "data:  (fst %>% filter(comp == \"PA\"))$fst and (fst %>% filter(comp == \"EU\"))$fst\n",
       "t = -16.506, df = 29.855, p-value < 2.2e-16\n",
       "alternative hypothesis: true difference in means is less than 0\n",
       "95 percent confidence interval:\n",
       "        -Inf -0.01121974\n",
       "sample estimates:\n",
       " mean of x  mean of y \n",
       "0.01516590 0.02767177 \n"
      ]
     },
     "metadata": {},
     "output_type": "display_data"
    }
   ],
   "source": [
    "#stats - orchard baseline vs. PA Fst, compared to Orhcard v. CA and EU populations\n",
    "t.test((fst %>% filter(comp == 'PA'))$fst, (fst %>% filter(comp == 'CA'))$fst , alternative = 'less' )\n",
    "t.test((fst %>% filter(comp == 'PA'))$fst, (fst %>% filter(comp == 'EU'))$fst , alternative = 'less' )"
   ]
  },
  {
   "cell_type": "code",
   "execution_count": 77,
   "id": "6863ceca",
   "metadata": {},
   "outputs": [],
   "source": [
    "#what about PA vs northeast pops, CA, and EU?\n",
    "#get PA rows"
   ]
  },
  {
   "cell_type": "code",
   "execution_count": 78,
   "id": "750306be",
   "metadata": {},
   "outputs": [
    {
     "data": {
      "text/html": [
       "<style>\n",
       ".list-inline {list-style: none; margin:0; padding: 0}\n",
       ".list-inline>li {display: inline-block}\n",
       ".list-inline>li:not(:last-child)::after {content: \"\\00b7\"; padding: 0 .5ex}\n",
       "</style>\n",
       "<ol class=list-inline><li>24</li><li>25</li><li>26</li><li>28</li><li>29</li><li>30</li><li>31</li><li>32</li><li>38</li><li>41</li><li>43</li><li>46</li><li>47</li><li>49</li><li>50</li><li>53</li><li>54</li><li>55</li><li>56</li><li>57</li><li>58</li><li>59</li><li>60</li><li>63</li><li>64</li><li>65</li><li>66</li><li>67</li><li>68</li><li>69</li><li>72</li><li>73</li><li>74</li><li>75</li><li>76</li><li>77</li></ol>\n"
      ],
      "text/latex": [
       "\\begin{enumerate*}\n",
       "\\item 24\n",
       "\\item 25\n",
       "\\item 26\n",
       "\\item 28\n",
       "\\item 29\n",
       "\\item 30\n",
       "\\item 31\n",
       "\\item 32\n",
       "\\item 38\n",
       "\\item 41\n",
       "\\item 43\n",
       "\\item 46\n",
       "\\item 47\n",
       "\\item 49\n",
       "\\item 50\n",
       "\\item 53\n",
       "\\item 54\n",
       "\\item 55\n",
       "\\item 56\n",
       "\\item 57\n",
       "\\item 58\n",
       "\\item 59\n",
       "\\item 60\n",
       "\\item 63\n",
       "\\item 64\n",
       "\\item 65\n",
       "\\item 66\n",
       "\\item 67\n",
       "\\item 68\n",
       "\\item 69\n",
       "\\item 72\n",
       "\\item 73\n",
       "\\item 74\n",
       "\\item 75\n",
       "\\item 76\n",
       "\\item 77\n",
       "\\end{enumerate*}\n"
      ],
      "text/markdown": [
       "1. 24\n",
       "2. 25\n",
       "3. 26\n",
       "4. 28\n",
       "5. 29\n",
       "6. 30\n",
       "7. 31\n",
       "8. 32\n",
       "9. 38\n",
       "10. 41\n",
       "11. 43\n",
       "12. 46\n",
       "13. 47\n",
       "14. 49\n",
       "15. 50\n",
       "16. 53\n",
       "17. 54\n",
       "18. 55\n",
       "19. 56\n",
       "20. 57\n",
       "21. 58\n",
       "22. 59\n",
       "23. 60\n",
       "24. 63\n",
       "25. 64\n",
       "26. 65\n",
       "27. 66\n",
       "28. 67\n",
       "29. 68\n",
       "30. 69\n",
       "31. 72\n",
       "32. 73\n",
       "33. 74\n",
       "34. 75\n",
       "35. 76\n",
       "36. 77\n",
       "\n",
       "\n"
      ],
      "text/plain": [
       " [1] 24 25 26 28 29 30 31 32 38 41 43 46 47 49 50 53 54 55 56 57 58 59 60 63 64\n",
       "[26] 65 66 67 68 69 72 73 74 75 76 77"
      ]
     },
     "metadata": {},
     "output_type": "display_data"
    }
   ],
   "source": [
    "#what are indices of eastern NA pops?\n",
    "as.vector(filt.samps %>% filter(!R %in% c('orch', 'ca', 'pa')) %>% filter(!P %in% c('VI', 'BA', 'OUK')))$col.num"
   ]
  },
  {
   "cell_type": "code",
   "execution_count": 82,
   "id": "6dabb768",
   "metadata": {},
   "outputs": [],
   "source": [
    "fst.pa = fst.mat[c(27, 33, 34, 35, 36, 37, 39, 40, 42, 51, 61, 62, 70, 71),]\n",
    "\n",
    "fst.pa.ena = as.data.frame(as.vector(as.matrix(fst.pa[, c(24, 25, 26, 28, 29, 30, 31, 32, 38, 41, 43, 46,\n",
    "                                                         47, 49, 50, 53, 54, 55, 56, 57, 58, 59, 60,\n",
    "                                                         63, 64, 65, 66, 67, 68, 69, 72, 73, 74, 75, 76, 77)])))\n",
    "names(fst.pa.ena) = c('fst')\n",
    "fst.pa.ena$comp = 'East.NA'\n",
    "\n",
    "fst.pa.ca = as.data.frame(as.vector(as.matrix(fst.pa[, c(5,6,7,8,9,10,11,12,13,14,15,16,17,18,19,20,21)])))\n",
    "names(fst.pa.ca) = c('fst')\n",
    "fst.pa.ca$comp = 'CA'\n",
    "\n",
    "fst.pa.eu = as.data.frame(as.vector(as.matrix(fst.pa[, c(22,23,44,45,48,52)])))\n",
    "names(fst.pa.eu) = c('fst')\n",
    "fst.pa.eu$comp = 'EU'\n"
   ]
  },
  {
   "cell_type": "code",
   "execution_count": 83,
   "id": "2ba240ca",
   "metadata": {},
   "outputs": [],
   "source": [
    "fst.pa = rbind(fst.pa.ca,fst.pa.ena, fst.pa.eu)"
   ]
  },
  {
   "cell_type": "code",
   "execution_count": 84,
   "id": "4fff99a1",
   "metadata": {},
   "outputs": [
    {
     "data": {
      "image/png": "[encoded data removed]",
      "text/plain": [
       "plot without title"
      ]
     },
     "metadata": {
      "image/png": {
       "height": 420,
       "width": 420
      }
     },
     "output_type": "display_data"
    }
   ],
   "source": [
    "ggplot(fst.pa, aes(x = comp, y = fst)) +\n",
    "    geom_boxplot() +\n",
    "    scale_x_discrete(limits = c('East.NA', 'CA', 'EU')) +\n",
    "    theme_bw(base_size = 15)"
   ]
  },
  {
   "cell_type": "code",
   "execution_count": 85,
   "id": "3782454c",
   "metadata": {},
   "outputs": [
    {
     "data": {
      "text/plain": [
       "\n",
       "\tWelch Two Sample t-test\n",
       "\n",
       "data:  (fst.pa %>% filter(comp == \"East.NA\"))$fst and (fst.pa %>% filter(comp == \"CA\"))$fst\n",
       "t = -6.5235, df = 726.25, p-value = 6.438e-11\n",
       "alternative hypothesis: true difference in means is less than 0\n",
       "95 percent confidence interval:\n",
       "         -Inf -0.001040974\n",
       "sample estimates:\n",
       " mean of x  mean of y \n",
       "0.01617851 0.01757105 \n"
      ]
     },
     "metadata": {},
     "output_type": "display_data"
    },
    {
     "data": {
      "text/plain": [
       "\n",
       "\tWelch Two Sample t-test\n",
       "\n",
       "data:  (fst.pa %>% filter(comp == \"East.NA\"))$fst and (fst.pa %>% filter(comp == \"EU\"))$fst\n",
       "t = -21.966, df = 108.64, p-value < 2.2e-16\n",
       "alternative hypothesis: true difference in means is less than 0\n",
       "95 percent confidence interval:\n",
       "         -Inf -0.009525441\n",
       "sample estimates:\n",
       " mean of x  mean of y \n",
       "0.01617851 0.02648214 \n"
      ]
     },
     "metadata": {},
     "output_type": "display_data"
    }
   ],
   "source": [
    "#stats\n",
    "t.test((fst.pa %>% filter(comp == 'East.NA'))$fst, (fst.pa %>% filter(comp == 'CA'))$fst , alternative = 'less' )\n",
    "t.test((fst.pa %>% filter(comp == 'East.NA'))$fst, (fst.pa %>% filter(comp == 'EU'))$fst , alternative = 'less' )"
   ]
  },
  {
   "cell_type": "code",
   "execution_count": 86,
   "id": "646c4995",
   "metadata": {},
   "outputs": [],
   "source": [
    "##Now, combine dataframes and generate figures for paper\n",
    "fst.pa = fst.pa %>% mutate(comp = case_when(comp == 'East.NA' ~ 'PA Pop:East NA Pops',\n",
    "                                           comp == 'CA' ~ 'PA Pop:CA Pop',\n",
    "                                           comp == 'EU' ~ 'PA Pop:EU Pops')\n",
    "                          )\n",
    "\n",
    "fst = fst %>% dplyr::select(comp, fst) %>%\n",
    "    mutate(comp = case_when(comp == 'PA' ~ 'Baseline:PA Pop',\n",
    "                           comp == 'CA' ~ 'Baseline:CA Pop',\n",
    "                           comp == 'EU' ~ 'Baseline:EU Pop'))\n",
    "fst.meta = rbind(fst, fst.pa)"
   ]
  },
  {
   "cell_type": "code",
   "execution_count": 98,
   "id": "1fb9103e",
   "metadata": {},
   "outputs": [],
   "source": [
    "p = ggplot(fst.meta, aes(x = comp, y = fst)) +\n",
    "    geom_boxplot() +\n",
    "    scale_x_discrete(limits = c('Baseline:PA Pop', 'Baseline:CA Pop', 'Baseline:EU Pop',\n",
    "                               'PA Pop:East NA Pops','PA Pop:CA Pop', 'PA Pop:EU Pops')) +\n",
    "    theme_bw(base_size = 15) +\n",
    "    xlab('') +\n",
    "    ylab('Fst') \n",
    "\n",
    "\n",
    "ggsave('./Figures/Fst/Baseline.NatPop.Fst.pdf',p ,height = 12, width = 16)\n"
   ]
  },
  {
   "cell_type": "code",
   "execution_count": 99,
   "id": "6f42bec1",
   "metadata": {},
   "outputs": [
    {
     "data": {
      "text/html": [
       "<table class=\"dataframe\">\n",
       "<caption>A data.frame: 6 × 2</caption>\n",
       "<thead>\n",
       "\t<tr><th></th><th scope=col>comp</th><th scope=col>fst</th></tr>\n",
       "\t<tr><th></th><th scope=col>&lt;chr&gt;</th><th scope=col>&lt;dbl&gt;</th></tr>\n",
       "</thead>\n",
       "<tbody>\n",
       "\t<tr><th scope=row>1</th><td>Baseline:PA Pop</td><td>0.01459560</td></tr>\n",
       "\t<tr><th scope=row>2</th><td>Baseline:PA Pop</td><td>0.01512485</td></tr>\n",
       "\t<tr><th scope=row>3</th><td>Baseline:PA Pop</td><td>0.01701553</td></tr>\n",
       "\t<tr><th scope=row>4</th><td>Baseline:PA Pop</td><td>0.01586006</td></tr>\n",
       "\t<tr><th scope=row>5</th><td>Baseline:PA Pop</td><td>0.02126576</td></tr>\n",
       "\t<tr><th scope=row>6</th><td>Baseline:PA Pop</td><td>0.01561024</td></tr>\n",
       "</tbody>\n",
       "</table>\n"
      ],
      "text/latex": [
       "A data.frame: 6 × 2\n",
       "\\begin{tabular}{r|ll}\n",
       "  & comp & fst\\\\\n",
       "  & <chr> & <dbl>\\\\\n",
       "\\hline\n",
       "\t1 & Baseline:PA Pop & 0.01459560\\\\\n",
       "\t2 & Baseline:PA Pop & 0.01512485\\\\\n",
       "\t3 & Baseline:PA Pop & 0.01701553\\\\\n",
       "\t4 & Baseline:PA Pop & 0.01586006\\\\\n",
       "\t5 & Baseline:PA Pop & 0.02126576\\\\\n",
       "\t6 & Baseline:PA Pop & 0.01561024\\\\\n",
       "\\end{tabular}\n"
      ],
      "text/markdown": [
       "\n",
       "A data.frame: 6 × 2\n",
       "\n",
       "| <!--/--> | comp &lt;chr&gt; | fst &lt;dbl&gt; |\n",
       "|---|---|---|\n",
       "| 1 | Baseline:PA Pop | 0.01459560 |\n",
       "| 2 | Baseline:PA Pop | 0.01512485 |\n",
       "| 3 | Baseline:PA Pop | 0.01701553 |\n",
       "| 4 | Baseline:PA Pop | 0.01586006 |\n",
       "| 5 | Baseline:PA Pop | 0.02126576 |\n",
       "| 6 | Baseline:PA Pop | 0.01561024 |\n",
       "\n"
      ],
      "text/plain": [
       "  comp            fst       \n",
       "1 Baseline:PA Pop 0.01459560\n",
       "2 Baseline:PA Pop 0.01512485\n",
       "3 Baseline:PA Pop 0.01701553\n",
       "4 Baseline:PA Pop 0.01586006\n",
       "5 Baseline:PA Pop 0.02126576\n",
       "6 Baseline:PA Pop 0.01561024"
      ]
     },
     "metadata": {},
     "output_type": "display_data"
    }
   ],
   "source": [
    "head(fst.meta)"
   ]
  },
  {
   "cell_type": "code",
   "execution_count": null,
   "id": "1e64629d",
   "metadata": {},
   "outputs": [],
   "source": [
    "#stats - is baseline significantly more differentiated from local PA pop is than PA pop is to other Eastern NA pops?\n",
    "\n",
    "#No!\n",
    "t.test((fst.meta %>% filter(comp == 'Baseline:PA Pop'))$fst, \n",
    "       (fst.meta %>% filter(comp == 'PA Pop:East NA Pops'))$fst, alternative = 'greater')"
   ]
  },
  {
   "cell_type": "code",
   "execution_count": 2,
   "id": "8be7df50",
   "metadata": {},
   "outputs": [],
   "source": [
    "##comparison of common and rare alleles w/ PA wild population\n",
    "#1. get representative linvilla sample - spring 2015 and fall 2015\n",
    "#2. ID all snps w/ maf > 20%; btwn 5 and 20% and; below 5%\n",
    "#3. compare w/ orchard baseline mean\n"
   ]
  },
  {
   "cell_type": "code",
   "execution_count": 3,
   "id": "b1daffa2",
   "metadata": {},
   "outputs": [
    {
     "name": "stdout",
     "output_type": "stream",
     "text": [
      "Loading objects:\n",
      "  mean.sites\n",
      "  mean.freqs\n",
      "  mean.samps\n"
     ]
    }
   ],
   "source": [
    "load('./orch.base21.Mean.machado.combined.RData', verbose = TRUE)"
   ]
  },
  {
   "cell_type": "code",
   "execution_count": 4,
   "id": "8e3e4bd5",
   "metadata": {},
   "outputs": [],
   "source": [
    "df.base = mean.freqs[,1]\n",
    "df.base = cbind(mean.sites, df.base)\n",
    "df.base = df.base %>% mutate(snp = paste0(chrom, pos))\n",
    "names(df.base) = c('chrom', 'pos', 'freq', 'snp')\n",
    "df.base.co = (df.base %>% filter(freq >= 0.2) %>% filter(freq <= 0.8))$snp\n",
    "df.base.ra = (df.base %>% filter(freq < 0.2 | freq > 0.8))$snp"
   ]
  },
  {
   "cell_type": "code",
   "execution_count": 5,
   "id": "99b92230",
   "metadata": {},
   "outputs": [],
   "source": [
    "df.ln.15 = cbind(mean.samps, t(mean.freqs))\n",
    "df.ln.15 = df.ln.15 %>% filter(pops %in% c('mel15LN10_FAT', 'mel15LN7_SPT'))\n",
    "df.ln.15 = df.ln.15[,-c(1:ncol(mean.samps))]\n",
    "df.ln.15 = t(df.ln.15)\n",
    "df.ln.15 = cbind(mean.sites, df.ln.15)\n",
    "df.ln.15.fa = df.ln.15[,c(1, 2, 3)]\n",
    "df.ln.15.sp = df.ln.15[,c(1, 2, 4)]\n",
    "\n",
    "names(df.ln.15.fa) = c('chrom', 'pos', 'freq')\n",
    "df.ln.15.fa = df.ln.15.fa %>% mutate(snp = paste0(chrom, pos))\n",
    "names(df.ln.15.sp) = c('chrom', 'pos', 'freq')\n",
    "df.ln.15.sp = df.ln.15.sp %>% mutate(snp = paste0(chrom, pos))"
   ]
  },
  {
   "cell_type": "code",
   "execution_count": 6,
   "id": "337105a4",
   "metadata": {},
   "outputs": [],
   "source": [
    "sites.fa.com = (df.ln.15.fa %>% filter(freq >= 0.2) %>% filter(freq <= 0.8))$snp\n",
    "sites.fa.ra = (df.ln.15.fa %>% filter(freq < 0.2 | freq > 0.8))$snp\n",
    "sites.sp.com = (df.ln.15.sp %>% filter(freq >= 0.2) %>% filter(freq <= 0.8))$snp\n",
    "sites.sp.ra = (df.ln.15.sp %>% filter(freq < 0.2 | freq > 0.8))$snp"
   ]
  },
  {
   "cell_type": "code",
   "execution_count": 7,
   "id": "feacdb72",
   "metadata": {},
   "outputs": [
    {
     "data": {
      "text/html": [
       "0.865594401481961"
      ],
      "text/latex": [
       "0.865594401481961"
      ],
      "text/markdown": [
       "0.865594401481961"
      ],
      "text/plain": [
       "[1] 0.8655944"
      ]
     },
     "metadata": {},
     "output_type": "display_data"
    },
    {
     "data": {
      "text/html": [
       "0.845206750084871"
      ],
      "text/latex": [
       "0.845206750084871"
      ],
      "text/markdown": [
       "0.845206750084871"
      ],
      "text/plain": [
       "[1] 0.8452068"
      ]
     },
     "metadata": {},
     "output_type": "display_data"
    },
    {
     "data": {
      "text/html": [
       "0.885358431172754"
      ],
      "text/latex": [
       "0.885358431172754"
      ],
      "text/markdown": [
       "0.885358431172754"
      ],
      "text/plain": [
       "[1] 0.8853584"
      ]
     },
     "metadata": {},
     "output_type": "display_data"
    },
    {
     "data": {
      "text/html": [
       "0.877322027781695"
      ],
      "text/latex": [
       "0.877322027781695"
      ],
      "text/markdown": [
       "0.877322027781695"
      ],
      "text/plain": [
       "[1] 0.877322"
      ]
     },
     "metadata": {},
     "output_type": "display_data"
    }
   ],
   "source": [
    "##Get percentage overlapping of common and rare snps of baseline and the spring and fall linvilla samples:\n",
    "(length(intersect(df.base.co, sites.sp.com)))/length(df.base.co)\n",
    "(length(intersect(df.base.co, sites.fa.com)))/length(df.base.co)\n",
    "(length(intersect(df.base.ra, sites.sp.ra)))/length(df.base.ra)\n",
    "(length(intersect(df.base.ra, sites.fa.ra)))/length(df.base.ra)"
   ]
  },
  {
   "cell_type": "code",
   "execution_count": 8,
   "id": "18688a51",
   "metadata": {},
   "outputs": [
    {
     "data": {
      "text/html": [
       "0.862000972054687"
      ],
      "text/latex": [
       "0.862000972054687"
      ],
      "text/markdown": [
       "0.862000972054687"
      ],
      "text/plain": [
       "[1] 0.862001"
      ]
     },
     "metadata": {},
     "output_type": "display_data"
    },
    {
     "data": {
      "text/html": [
       "0.910249944619097"
      ],
      "text/latex": [
       "0.910249944619097"
      ],
      "text/markdown": [
       "0.910249944619097"
      ],
      "text/plain": [
       "[1] 0.9102499"
      ]
     },
     "metadata": {},
     "output_type": "display_data"
    }
   ],
   "source": [
    "#Get percentage overlapping of overlapping spring to fall \n",
    "(length(intersect(sites.fa.com, sites.sp.com)))/length(sites.fa.com)\n",
    "(length(intersect(sites.fa.ra, sites.sp.ra)))/length(sites.fa.ra)\n"
   ]
  },
  {
   "cell_type": "code",
   "execution_count": 16,
   "id": "a4742018",
   "metadata": {},
   "outputs": [
    {
     "data": {
      "text/html": [
       "323818"
      ],
      "text/latex": [
       "323818"
      ],
      "text/markdown": [
       "323818"
      ],
      "text/plain": [
       "[1] 323818"
      ]
     },
     "metadata": {},
     "output_type": "display_data"
    },
    {
     "ename": "ERROR",
     "evalue": "Error in base::setdiff(x, y, ...): argument \"y\" is missing, with no default\n",
     "output_type": "error",
     "traceback": [
      "Error in base::setdiff(x, y, ...): argument \"y\" is missing, with no default\nTraceback:\n",
      "1. setdiff(intersect(df.base.co, sites.sp.com))",
      "2. setdiff.default(intersect(df.base.co, sites.sp.com))",
      "3. base::setdiff(x, y, ...)",
      "4. as.vector(y)"
     ]
    }
   ],
   "source": [
    "#Stats - is overlap between baseline and spring pop less than spring v. fall pop?\n",
    "    ###NO - no need for stats b/c the percentage/ratio is even greater for the baseline v. spring than spring v. fall\n"
   ]
  },
  {
   "cell_type": "code",
   "execution_count": 30,
   "id": "4cda7f53",
   "metadata": {},
   "outputs": [
    {
     "data": {
      "text/html": [
       "<table class=\"dataframe\">\n",
       "<caption>A data.frame: 2 × 2</caption>\n",
       "<thead>\n",
       "\t<tr><th></th><th scope=col>V1</th><th scope=col>V2</th></tr>\n",
       "\t<tr><th></th><th scope=col>&lt;int&gt;</th><th scope=col>&lt;int&gt;</th></tr>\n",
       "</thead>\n",
       "<tbody>\n",
       "\t<tr><th scope=row>base.ln.co</th><td>323818</td><td>50281</td></tr>\n",
       "\t<tr><th scope=row>lnsp.lnfa.co</th><td>342298</td><td>54799</td></tr>\n",
       "</tbody>\n",
       "</table>\n"
      ],
      "text/latex": [
       "A data.frame: 2 × 2\n",
       "\\begin{tabular}{r|ll}\n",
       "  & V1 & V2\\\\\n",
       "  & <int> & <int>\\\\\n",
       "\\hline\n",
       "\tbase.ln.co & 323818 & 50281\\\\\n",
       "\tlnsp.lnfa.co & 342298 & 54799\\\\\n",
       "\\end{tabular}\n"
      ],
      "text/markdown": [
       "\n",
       "A data.frame: 2 × 2\n",
       "\n",
       "| <!--/--> | V1 &lt;int&gt; | V2 &lt;int&gt; |\n",
       "|---|---|---|\n",
       "| base.ln.co | 323818 | 50281 |\n",
       "| lnsp.lnfa.co | 342298 | 54799 |\n",
       "\n"
      ],
      "text/plain": [
       "             V1     V2   \n",
       "base.ln.co   323818 50281\n",
       "lnsp.lnfa.co 342298 54799"
      ]
     },
     "metadata": {},
     "output_type": "display_data"
    },
    {
     "data": {
      "text/html": [
       "2.1748854852825e-06"
      ],
      "text/latex": [
       "2.1748854852825e-06"
      ],
      "text/markdown": [
       "2.1748854852825e-06"
      ],
      "text/plain": [
       "[1] 2.174885e-06"
      ]
     },
     "metadata": {},
     "output_type": "display_data"
    }
   ],
   "source": [
    "base.ln.co = c(length(intersect(df.base.co, sites.sp.com)), \n",
    "              length(setdiff(df.base.co, sites.sp.com)))\n",
    "lnsp.lnfa.co = c((length(intersect(sites.fa.com, sites.sp.com))), \n",
    "                length(setdiff(sites.fa.com, sites.sp.com)))\n",
    "data.co = as.data.frame(rbind(base.ln.co, lnsp.lnfa.co))\n",
    "data.co\n",
    "result.co = chisq.test(data.co)\n",
    "result.co$p.value/2\n",
    "\n",
    "##siginificantly greater overlap between baseline and spring, than spring v. baseline"
   ]
  },
  {
   "cell_type": "code",
   "execution_count": 31,
   "id": "85e1d714",
   "metadata": {},
   "outputs": [
    {
     "data": {
      "text/html": [
       "<table class=\"dataframe\">\n",
       "<caption>A data.frame: 2 × 2</caption>\n",
       "<thead>\n",
       "\t<tr><th></th><th scope=col>V1</th><th scope=col>V2</th></tr>\n",
       "\t<tr><th></th><th scope=col>&lt;int&gt;</th><th scope=col>&lt;int&gt;</th></tr>\n",
       "</thead>\n",
       "<tbody>\n",
       "\t<tr><th scope=row>base.ln.ra</th><td>583893</td><td>75606</td></tr>\n",
       "\t<tr><th scope=row>lnsp.lnfa.ra</th><td>579375</td><td>57126</td></tr>\n",
       "</tbody>\n",
       "</table>\n"
      ],
      "text/latex": [
       "A data.frame: 2 × 2\n",
       "\\begin{tabular}{r|ll}\n",
       "  & V1 & V2\\\\\n",
       "  & <int> & <int>\\\\\n",
       "\\hline\n",
       "\tbase.ln.ra & 583893 & 75606\\\\\n",
       "\tlnsp.lnfa.ra & 579375 & 57126\\\\\n",
       "\\end{tabular}\n"
      ],
      "text/markdown": [
       "\n",
       "A data.frame: 2 × 2\n",
       "\n",
       "| <!--/--> | V1 &lt;int&gt; | V2 &lt;int&gt; |\n",
       "|---|---|---|\n",
       "| base.ln.ra | 583893 | 75606 |\n",
       "| lnsp.lnfa.ra | 579375 | 57126 |\n",
       "\n"
      ],
      "text/plain": [
       "             V1     V2   \n",
       "base.ln.ra   583893 75606\n",
       "lnsp.lnfa.ra 579375 57126"
      ]
     },
     "metadata": {},
     "output_type": "display_data"
    },
    {
     "data": {
      "text/html": [
       "0"
      ],
      "text/latex": [
       "0"
      ],
      "text/markdown": [
       "0"
      ],
      "text/plain": [
       "[1] 0"
      ]
     },
     "metadata": {},
     "output_type": "display_data"
    }
   ],
   "source": [
    "base.ln.ra = c(length(intersect(df.base.ra, sites.sp.ra)), \n",
    "              length(setdiff(df.base.ra, sites.sp.ra)))\n",
    "lnsp.lnfa.ra = c((length(intersect(sites.fa.ra, sites.sp.ra))), \n",
    "                length(setdiff(sites.fa.ra, sites.sp.ra)))\n",
    "data.ra = as.data.frame(rbind(base.ln.ra, lnsp.lnfa.ra))\n",
    "data.ra\n",
    "result.ra = chisq.test(data.ra)\n",
    "result.ra$p.value/2\n"
   ]
  },
  {
   "cell_type": "code",
   "execution_count": null,
   "id": "37a8fdb5",
   "metadata": {},
   "outputs": [],
   "source": []
  }
 ],
 "metadata": {
  "kernelspec": {
   "display_name": "R",
   "language": "R",
   "name": "ir"
  },
  "language_info": {
   "codemirror_mode": "r",
   "file_extension": ".r",
   "mimetype": "text/x-r-source",
   "name": "R",
   "pygments_lexer": "r",
   "version": "3.5.1"
  }
 },
 "nbformat": 4,
 "nbformat_minor": 5
}
