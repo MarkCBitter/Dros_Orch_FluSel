{
 "cells": [
  {
   "cell_type": "code",
   "execution_count": 2,
   "metadata": {},
   "outputs": [
    {
     "name": "stderr",
     "output_type": "stream",
     "text": [
      "\n",
      "Attaching package: ‘data.table’\n",
      "\n",
      "\n",
      "The following objects are masked from ‘package:dplyr’:\n",
      "\n",
      "    between, first, last\n",
      "\n",
      "\n",
      "The following object is masked from ‘package:purrr’:\n",
      "\n",
      "    transpose\n",
      "\n",
      "\n"
     ]
    }
   ],
   "source": [
    "#Renaming Bam files in a manner that allows for HAFpipe to be run"
   ]
  },
  {
   "cell_type": "code",
   "execution_count": 1,
   "metadata": {},
   "outputs": [
    {
     "name": "stderr",
     "output_type": "stream",
     "text": [
      "── \u001b[1mAttaching packages\u001b[22m ─────────────────────────────────────── tidyverse 1.3.1 ──\n",
      "\n",
      "\u001b[32m✔\u001b[39m \u001b[34mggplot2\u001b[39m 3.3.6     \u001b[32m✔\u001b[39m \u001b[34mpurrr  \u001b[39m 0.3.4\n",
      "\u001b[32m✔\u001b[39m \u001b[34mtibble \u001b[39m 3.1.7     \u001b[32m✔\u001b[39m \u001b[34mdplyr  \u001b[39m 1.0.9\n",
      "\u001b[32m✔\u001b[39m \u001b[34mtidyr  \u001b[39m 1.2.0     \u001b[32m✔\u001b[39m \u001b[34mstringr\u001b[39m 1.4.0\n",
      "\u001b[32m✔\u001b[39m \u001b[34mreadr  \u001b[39m 2.1.2     \u001b[32m✔\u001b[39m \u001b[34mforcats\u001b[39m 0.5.1\n",
      "\n",
      "── \u001b[1mConflicts\u001b[22m ────────────────────────────────────────── tidyverse_conflicts() ──\n",
      "\u001b[31m✖\u001b[39m \u001b[34mdplyr\u001b[39m::\u001b[32mfilter()\u001b[39m masks \u001b[34mstats\u001b[39m::filter()\n",
      "\u001b[31m✖\u001b[39m \u001b[34mdplyr\u001b[39m::\u001b[32mlag()\u001b[39m    masks \u001b[34mstats\u001b[39m::lag()\n",
      "\n",
      "\n",
      "Attaching package: ‘data.table’\n",
      "\n",
      "\n",
      "The following objects are masked from ‘package:dplyr’:\n",
      "\n",
      "    between, first, last\n",
      "\n",
      "\n",
      "The following object is masked from ‘package:purrr’:\n",
      "\n",
      "    transpose\n",
      "\n",
      "\n"
     ]
    }
   ],
   "source": [
    "library(tidyverse)\n",
    "library(data.table)"
   ]
  },
  {
   "cell_type": "code",
   "execution_count": 4,
   "metadata": {
    "collapsed": true,
    "jupyter": {
     "outputs_hidden": true
    }
   },
   "outputs": [],
   "source": [
    "###Round 1 Sequencing\n",
    "setwd('/scratch/groups/dpetrov/MarkB/Orchard2021Data/03_bams/RD1/')\n",
    "##Renaming bam files\n",
    "bam.files = list.files(path = \"./\", pattern = '.filtered.sorted.deduped.bam$')\n",
    "\n",
    "for (file in bam.files){\n",
    "    seq = strsplit(file, \".filtered.sorted.deduped.bam\")[[1]][1]\n",
    "    seq = strsplit(seq, \"_S\")[[1]][1]\n",
    "    names = read.csv(\"./Samples_Round1.csv\")\n",
    "    names = names %>%\n",
    "        filter(Number == seq) \n",
    "    new.name = as.character(names$BamName)\n",
    "    file.rename(file, new.name)\n",
    "}"
   ]
  },
  {
   "cell_type": "code",
   "execution_count": 2,
   "metadata": {
    "collapsed": true,
    "jupyter": {
     "outputs_hidden": true
    }
   },
   "outputs": [],
   "source": [
    "###Round 1 Sequencing\n",
    "setwd('/scratch/groups/dpetrov/MarkB/Orchard2021Data/03_bams/RD1/')\n",
    "##Renaming bam files\n",
    "bam.files = list.files(path = \"./\", pattern = '.filtered.sorted.deduped.bam$')\n",
    "\n",
    "for (file in bam.files){\n",
    "    seq = strsplit(file, \".filtered.sorted.deduped.bam\")[[1]][1]\n",
    "    seq = strsplit(seq, \"_S\")[[1]][1]\n",
    "    names = read.csv(\"./Samples_Round1.csv\")\n",
    "    names = names %>%\n",
    "        filter(Number == seq) \n",
    "    new.name = as.character(names$BamName)\n",
    "    file.rename(file, new.name)\n",
    "}\n",
    "\n",
    "##Renaming bai files\n",
    "bai.files = list.files(path = \"./\", pattern = '.filtered.sorted.deduped.bam.bai$')\n",
    "\n",
    "for (file in bai.files){\n",
    "    seq = strsplit(file, \".filtered.sorted.deduped.bam.bai\")[[1]][1]\n",
    "    seq = strsplit(seq, \"_S\")[[1]][1]\n",
    "    names = read.csv(\"./Samples_Round1.csv\")\n",
    "    names = names %>%\n",
    "        filter(Number == seq) \n",
    "    new.name = as.character(names$BaiName)\n",
    "    file.rename(file, new.name)\n",
    "}\n",
    "\n",
    "##Renaming dp files\n",
    "dp.files = list.files(path = \"./\", pattern = '.dp.txt$')\n",
    "\n",
    "for (file in dp.files){\n",
    "    seq = strsplit(file, \".dp.txt\")[[1]][1]\n",
    "    seq = strsplit(seq, \"_S\")[[1]][1]\n",
    "    names = read.csv(\"./Samples_Round1.csv\")\n",
    "    names = names %>%\n",
    "        filter(Number == seq) \n",
    "    new.name = as.character(names$DPName)\n",
    "    file.rename(file, new.name)\n",
    "}\n",
    "\n",
    "\n",
    "##Renaming Align Stats files\n",
    "align.stats = list.files(path = \"./\", pattern = 'AlignStats.txt$')\n",
    "\n",
    "for (file in align.stats){\n",
    "    seq = strsplit(file, \"AlignStats.txt\")[[1]][1]\n",
    "    seq = strsplit(seq, \"_S\")[[1]][1]\n",
    "    names = read.csv(\"./Samples_Round1.csv\")\n",
    "    names = names %>%\n",
    "        filter(Number == seq) \n",
    "    new.name = as.character(names$AlignStats)\n",
    "    file.rename(file, new.name)\n",
    "}"
   ]
  },
  {
   "cell_type": "code",
   "execution_count": null,
   "metadata": {
    "collapsed": true,
    "jupyter": {
     "outputs_hidden": true
    }
   },
   "outputs": [],
   "source": [
    "###Round 2 Sequencing\n",
    "setwd('/scratch/groups/dpetrov/MarkB/Orchard2021Data/03_bams/RD2/')\n",
    "##Renaming bam files\n",
    "library('tidyverse')\n",
    "bam.files = list.files(path = \"./\", pattern = '.filtered.sorted.deduped.bam$')\n",
    "\n",
    "for (file in bam.files){\n",
    "    seq = strsplit(file, \".filtered.sorted.deduped.bam\")[[1]][1]\n",
    "    seq = strsplit(seq, \"_S\")[[1]][1]\n",
    "    names = read.csv(\"./Samples_Round2.csv\")\n",
    "    names = names %>%\n",
    "        filter(SequencingID == seq) \n",
    "    new.name = as.character(names$BamName)\n",
    "    file.rename(file, new.name)\n",
    "}"
   ]
  },
  {
   "cell_type": "code",
   "execution_count": 25,
   "metadata": {
    "collapsed": true
   },
   "outputs": [],
   "source": [
    "#Round 3 Sequencing\n",
    "setwd('/scratch/groups/dpetrov/MarkB/Orchard2021Data/03_bams/RD3/')\n",
    "##Renaming bam files\n",
    "bam.files = list.files(path = \"./\", pattern = '18032FL-120-03-08_S24_L001.filtered.sorted.deduped.bam')\n",
    "\n",
    "for (file in bam.files){\n",
    "    seq = strsplit(file, \".filtered.sorted.deduped.bam\")[[1]][1]\n",
    "    seq = strsplit(seq, \"_S\")[[1]][1]\n",
    "    names = read.csv(\"./SequencingFileNames_Round3.csv\")\n",
    "    names = names %>%\n",
    "        filter(AdmeraSequencingID == seq) \n",
    "    new.name = as.character(names$BamName)\n",
    "    file.rename(file, new.name)\n",
    "}\n"
   ]
  },
  {
   "cell_type": "code",
   "execution_count": 17,
   "metadata": {},
   "outputs": [
    {
     "data": {
      "text/html": [
       "'18032FL-120-03-08'"
      ],
      "text/latex": [
       "'18032FL-120-03-08'"
      ],
      "text/markdown": [
       "'18032FL-120-03-08'"
      ],
      "text/plain": [
       "[1] \"18032FL-120-03-08\""
      ]
     },
     "metadata": {},
     "output_type": "display_data"
    },
    {
     "data": {
      "text/html": [
       "<table class=\"dataframe\">\n",
       "<caption>A data.frame: 2 × 10</caption>\n",
       "<thead>\n",
       "\t<tr><th scope=col>AdmeraSequencingID</th><th scope=col>Sample_ID</th><th scope=col>Name</th><th scope=col>bam</th><th scope=col>BamName</th><th scope=col>BaiName</th><th scope=col>DPName</th><th scope=col>AlignStats</th><th scope=col>MeanDP</th><th scope=col>ChromDP</th></tr>\n",
       "\t<tr><th scope=col>&lt;fct&gt;</th><th scope=col>&lt;int&gt;</th><th scope=col>&lt;fct&gt;</th><th scope=col>&lt;fct&gt;</th><th scope=col>&lt;fct&gt;</th><th scope=col>&lt;fct&gt;</th><th scope=col>&lt;fct&gt;</th><th scope=col>&lt;fct&gt;</th><th scope=col>&lt;fct&gt;</th><th scope=col>&lt;fct&gt;</th></tr>\n",
       "</thead>\n",
       "<tbody>\n",
       "\t<tr><td>18032FL-120-03-08</td><td>540</td><td>B4-3</td><td>.bam</td><td>B4-3.bam</td><td>B4-3.bam.bai</td><td>B4-3.dp.txt</td><td>B4-3.AlignStats.txt</td><td>B4-3.MeanDPtxt</td><td>B4-3.MeanChromDP.txt</td></tr>\n",
       "\t<tr><td>18032FL-120-03-08</td><td>540</td><td>B4-3</td><td>.bam</td><td>B4-3.bam</td><td>B4-3.bam.bai</td><td>B4-3.dp.txt</td><td>B4-3.AlignStats.txt</td><td>B4-3.MeanDPtxt</td><td>B4-3.MeanChromDP.txt</td></tr>\n",
       "</tbody>\n",
       "</table>\n"
      ],
      "text/latex": [
       "A data.frame: 2 × 10\n",
       "\\begin{tabular}{llllllllll}\n",
       " AdmeraSequencingID & Sample\\_ID & Name & bam & BamName & BaiName & DPName & AlignStats & MeanDP & ChromDP\\\\\n",
       " <fct> & <int> & <fct> & <fct> & <fct> & <fct> & <fct> & <fct> & <fct> & <fct>\\\\\n",
       "\\hline\n",
       "\t 18032FL-120-03-08 & 540 & B4-3 & .bam & B4-3.bam & B4-3.bam.bai & B4-3.dp.txt & B4-3.AlignStats.txt & B4-3.MeanDPtxt & B4-3.MeanChromDP.txt\\\\\n",
       "\t 18032FL-120-03-08 & 540 & B4-3 & .bam & B4-3.bam & B4-3.bam.bai & B4-3.dp.txt & B4-3.AlignStats.txt & B4-3.MeanDPtxt & B4-3.MeanChromDP.txt\\\\\n",
       "\\end{tabular}\n"
      ],
      "text/markdown": [
       "\n",
       "A data.frame: 2 × 10\n",
       "\n",
       "| AdmeraSequencingID &lt;fct&gt; | Sample_ID &lt;int&gt; | Name &lt;fct&gt; | bam &lt;fct&gt; | BamName &lt;fct&gt; | BaiName &lt;fct&gt; | DPName &lt;fct&gt; | AlignStats &lt;fct&gt; | MeanDP &lt;fct&gt; | ChromDP &lt;fct&gt; |\n",
       "|---|---|---|---|---|---|---|---|---|---|\n",
       "| 18032FL-120-03-08 | 540 | B4-3 | .bam | B4-3.bam | B4-3.bam.bai | B4-3.dp.txt | B4-3.AlignStats.txt | B4-3.MeanDPtxt | B4-3.MeanChromDP.txt |\n",
       "| 18032FL-120-03-08 | 540 | B4-3 | .bam | B4-3.bam | B4-3.bam.bai | B4-3.dp.txt | B4-3.AlignStats.txt | B4-3.MeanDPtxt | B4-3.MeanChromDP.txt |\n",
       "\n"
      ],
      "text/plain": [
       "  AdmeraSequencingID Sample_ID Name bam  BamName  BaiName      DPName     \n",
       "1 18032FL-120-03-08  540       B4-3 .bam B4-3.bam B4-3.bam.bai B4-3.dp.txt\n",
       "2 18032FL-120-03-08  540       B4-3 .bam B4-3.bam B4-3.bam.bai B4-3.dp.txt\n",
       "  AlignStats          MeanDP         ChromDP             \n",
       "1 B4-3.AlignStats.txt B4-3.MeanDPtxt B4-3.MeanChromDP.txt\n",
       "2 B4-3.AlignStats.txt B4-3.MeanDPtxt B4-3.MeanChromDP.txt"
      ]
     },
     "metadata": {},
     "output_type": "display_data"
    }
   ],
   "source": [
    "seq\n",
    "names"
   ]
  },
  {
   "cell_type": "code",
   "execution_count": 24,
   "metadata": {
    "collapsed": true
   },
   "outputs": [],
   "source": [
    "df = read.csv('./SequencingFileNames_Round3.csv')\n",
    "df = unique(df)\n",
    "write.csv(df, './SequencingFileNames_Round3.csv', row.names = FALSE)"
   ]
  },
  {
   "cell_type": "code",
   "execution_count": null,
   "metadata": {
    "collapsed": true
   },
   "outputs": [],
   "source": [
    "#Round 3 Sequencing\n",
    "setwd('/scratch/groups/dpetrov/MarkB/Orchard2021Data/03_bams/RD3/')\n",
    "##Renaming bam files\n",
    "bam.files = list.files(path = \"./\", pattern = '.filtered.sorted.deduped.bam$')\n",
    "\n",
    "for (file in bam.files){\n",
    "    seq = strsplit(file, \".filtered.sorted.deduped.bam\")[[1]][1]\n",
    "    seq = strsplit(seq, \"_S\")[[1]][1]\n",
    "    names = read.csv(\"./SequencingFileNames_Round3.csv\")\n",
    "    names = names %>%\n",
    "        filter(AdmeraSequencingID == seq) \n",
    "    new.name = as.character(names$BamName)\n",
    "    file.rename(file, new.name)\n",
    "}"
   ]
  },
  {
   "cell_type": "code",
   "execution_count": 4,
   "metadata": {},
   "outputs": [],
   "source": [
    "#Round 3 Sequencing\n",
    "setwd('/scratch/groups/dpetrov/MarkB/Orchard2021Data/03_bams/RD3/SamFiles/')\n",
    "##Renaming bam files\n",
    "bam.files = list.files(path = \"./\", pattern = '.filtered.sorted.deduped.bam$')\n",
    "\n",
    "for (file in bam.files){\n",
    "    seq = strsplit(file, \".filtered.sorted.deduped.bam\")[[1]][1]\n",
    "    seq = strsplit(seq, \"_S\")[[1]][1]\n",
    "    names = read.csv(\"./SequencingFileNames_Round3.csv\")\n",
    "    names = names %>%\n",
    "        filter(AdmeraSequencingID == seq) \n",
    "    new.name = as.character(names$BamName)\n",
    "    file.rename(file, new.name)\n",
    "}"
   ]
  },
  {
   "cell_type": "code",
   "execution_count": null,
   "metadata": {
    "collapsed": true
   },
   "outputs": [],
   "source": []
  }
 ],
 "metadata": {
  "kernelspec": {
   "display_name": "R",
   "language": "R",
   "name": "ir"
  },
  "language_info": {
   "codemirror_mode": "r",
   "file_extension": ".r",
   "mimetype": "text/x-r-source",
   "name": "R",
   "pygments_lexer": "r",
   "version": "3.5.1"
  }
 },
 "nbformat": 4,
 "nbformat_minor": 4
}
