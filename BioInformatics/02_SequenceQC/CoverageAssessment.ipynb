{
 "cells": [
  {
   "cell_type": "code",
   "execution_count": null,
   "metadata": {
    "collapsed": true
   },
   "outputs": [],
   "source": [
    "#Assessing coverage across successful samples\n"
   ]
  },
  {
   "cell_type": "code",
   "execution_count": 1,
   "metadata": {},
   "outputs": [
    {
     "name": "stderr",
     "output_type": "stream",
     "text": [
      "── \u001b[1mAttaching packages\u001b[22m ─────────────────────────────────────── tidyverse 1.3.1 ──\n",
      "\n",
      "\u001b[32m✔\u001b[39m \u001b[34mggplot2\u001b[39m 3.3.6     \u001b[32m✔\u001b[39m \u001b[34mpurrr  \u001b[39m 0.3.4\n",
      "\u001b[32m✔\u001b[39m \u001b[34mtibble \u001b[39m 3.1.7     \u001b[32m✔\u001b[39m \u001b[34mdplyr  \u001b[39m 1.0.9\n",
      "\u001b[32m✔\u001b[39m \u001b[34mtidyr  \u001b[39m 1.2.0     \u001b[32m✔\u001b[39m \u001b[34mstringr\u001b[39m 1.4.0\n",
      "\u001b[32m✔\u001b[39m \u001b[34mreadr  \u001b[39m 2.1.2     \u001b[32m✔\u001b[39m \u001b[34mforcats\u001b[39m 0.5.1\n",
      "\n",
      "── \u001b[1mConflicts\u001b[22m ────────────────────────────────────────── tidyverse_conflicts() ──\n",
      "\u001b[31m✖\u001b[39m \u001b[34mdplyr\u001b[39m::\u001b[32mfilter()\u001b[39m masks \u001b[34mstats\u001b[39m::filter()\n",
      "\u001b[31m✖\u001b[39m \u001b[34mdplyr\u001b[39m::\u001b[32mlag()\u001b[39m    masks \u001b[34mstats\u001b[39m::lag()\n",
      "\n",
      "\n",
      "Attaching package: ‘data.table’\n",
      "\n",
      "\n",
      "The following objects are masked from ‘package:dplyr’:\n",
      "\n",
      "    between, first, last\n",
      "\n",
      "\n",
      "The following object is masked from ‘package:purrr’:\n",
      "\n",
      "    transpose\n",
      "\n",
      "\n"
     ]
    }
   ],
   "source": [
    "library('tidyverse')\n",
    "library('data.table')"
   ]
  },
  {
   "cell_type": "code",
   "execution_count": 16,
   "metadata": {
    "collapsed": true
   },
   "outputs": [],
   "source": [
    "setwd(\"/scratch/groups/dpetrov/MarkB/Orchard2021Data/03_bams/MeanDP/\")\n",
    "files = list.files(path = \"./\", pattern = \"*.txt\")\n",
    "meta.data = data.frame()\n",
    "for (file in files){\n",
    "    sample = strsplit(file, \"txt\" )[[1]][1]\n",
    "    data = fread(file)\n",
    "    dp = data[1,1]\n",
    "    sample.data = cbind(sample, dp)\n",
    "    meta.data =  rbind(meta.data, sample.data)\n",
    "}\n"
   ]
  },
  {
   "cell_type": "code",
   "execution_count": 17,
   "metadata": {
    "collapsed": true
   },
   "outputs": [],
   "source": [
    "colnames(meta.data) = c('sample', 'depth')"
   ]
  },
  {
   "cell_type": "code",
   "execution_count": 18,
   "metadata": {},
   "outputs": [
    {
     "data": {
      "text/html": [
       "<table class=\"dataframe\">\n",
       "<caption>A data.frame: 1 × 3</caption>\n",
       "<thead>\n",
       "\t<tr><th scope=col>mean</th><th scope=col>median</th><th scope=col>min</th></tr>\n",
       "\t<tr><th scope=col>&lt;dbl&gt;</th><th scope=col>&lt;dbl&gt;</th><th scope=col>&lt;dbl&gt;</th></tr>\n",
       "</thead>\n",
       "<tbody>\n",
       "\t<tr><td>37.07781</td><td>24.1269</td><td>8.54724</td></tr>\n",
       "</tbody>\n",
       "</table>\n"
      ],
      "text/latex": [
       "A data.frame: 1 × 3\n",
       "\\begin{tabular}{lll}\n",
       " mean & median & min\\\\\n",
       " <dbl> & <dbl> & <dbl>\\\\\n",
       "\\hline\n",
       "\t 37.07781 & 24.1269 & 8.54724\\\\\n",
       "\\end{tabular}\n"
      ],
      "text/markdown": [
       "\n",
       "A data.frame: 1 × 3\n",
       "\n",
       "| mean &lt;dbl&gt; | median &lt;dbl&gt; | min &lt;dbl&gt; |\n",
       "|---|---|---|\n",
       "| 37.07781 | 24.1269 | 8.54724 |\n",
       "\n"
      ],
      "text/plain": [
       "  mean     median  min    \n",
       "1 37.07781 24.1269 8.54724"
      ]
     },
     "metadata": {},
     "output_type": "display_data"
    }
   ],
   "source": [
    "sum.depth = meta.data %>%\n",
    "    summarise(mean = mean(depth),\n",
    "             median = median(depth),\n",
    "             min = min(depth))\n",
    "sum.depth"
   ]
  },
  {
   "cell_type": "code",
   "execution_count": 19,
   "metadata": {},
   "outputs": [
    {
     "data": {
      "text/html": [
       "<table class=\"dataframe\">\n",
       "<caption>A data.table: 6 × 2</caption>\n",
       "<thead>\n",
       "\t<tr><th scope=col>sample</th><th scope=col>depth</th></tr>\n",
       "\t<tr><th scope=col>&lt;chr&gt;</th><th scope=col>&lt;dbl&gt;</th></tr>\n",
       "</thead>\n",
       "<tbody>\n",
       "\t<tr><td>Orch2021_base_1_MeanDP.</td><td> 25.9794</td></tr>\n",
       "\t<tr><td>Orch2021_base_2_MeanDP.</td><td> 10.7216</td></tr>\n",
       "\t<tr><td>Orch2021_base_3_MeanDP.</td><td> 20.4914</td></tr>\n",
       "\t<tr><td>Orch2021_base_4_MeanDP.</td><td> 22.1753</td></tr>\n",
       "\t<tr><td>tp1_F1_E1_MeanDP.      </td><td>110.4770</td></tr>\n",
       "\t<tr><td>tp1_F1_E10_MeanDP.     </td><td> 19.0602</td></tr>\n",
       "</tbody>\n",
       "</table>\n"
      ],
      "text/latex": [
       "A data.table: 6 × 2\n",
       "\\begin{tabular}{ll}\n",
       " sample & depth\\\\\n",
       " <chr> & <dbl>\\\\\n",
       "\\hline\n",
       "\t Orch2021\\_base\\_1\\_MeanDP. &  25.9794\\\\\n",
       "\t Orch2021\\_base\\_2\\_MeanDP. &  10.7216\\\\\n",
       "\t Orch2021\\_base\\_3\\_MeanDP. &  20.4914\\\\\n",
       "\t Orch2021\\_base\\_4\\_MeanDP. &  22.1753\\\\\n",
       "\t tp1\\_F1\\_E1\\_MeanDP.       & 110.4770\\\\\n",
       "\t tp1\\_F1\\_E10\\_MeanDP.      &  19.0602\\\\\n",
       "\\end{tabular}\n"
      ],
      "text/markdown": [
       "\n",
       "A data.table: 6 × 2\n",
       "\n",
       "| sample &lt;chr&gt; | depth &lt;dbl&gt; |\n",
       "|---|---|\n",
       "| Orch2021_base_1_MeanDP. |  25.9794 |\n",
       "| Orch2021_base_2_MeanDP. |  10.7216 |\n",
       "| Orch2021_base_3_MeanDP. |  20.4914 |\n",
       "| Orch2021_base_4_MeanDP. |  22.1753 |\n",
       "| tp1_F1_E1_MeanDP.       | 110.4770 |\n",
       "| tp1_F1_E10_MeanDP.      |  19.0602 |\n",
       "\n"
      ],
      "text/plain": [
       "  sample                  depth   \n",
       "1 Orch2021_base_1_MeanDP.  25.9794\n",
       "2 Orch2021_base_2_MeanDP.  10.7216\n",
       "3 Orch2021_base_3_MeanDP.  20.4914\n",
       "4 Orch2021_base_4_MeanDP.  22.1753\n",
       "5 tp1_F1_E1_MeanDP.       110.4770\n",
       "6 tp1_F1_E10_MeanDP.       19.0602"
      ]
     },
     "metadata": {},
     "output_type": "display_data"
    }
   ],
   "source": [
    "head(meta.data)"
   ]
  },
  {
   "cell_type": "code",
   "execution_count": 28,
   "metadata": {
    "collapsed": true
   },
   "outputs": [],
   "source": [
    "df = meta.data %>%\n",
    "    mutate(depth = as.numeric(as.character(depth)))"
   ]
  },
  {
   "cell_type": "code",
   "execution_count": 30,
   "metadata": {
    "collapsed": true
   },
   "outputs": [],
   "source": [
    "df = df %>%\n",
    "    mutate(amount.down = \n",
    "            case_when(depth < 8.5 ~ 1,\n",
    "                     depth >= 8.5 ~ 8.5/depth)) %>%\n",
    "    mutate(amount.down = round(amount.down, digit = 2)) %>%\n",
    "    mutate(downsamp.dp = depth * amount.down)\n",
    "    \n"
   ]
  },
  {
   "cell_type": "code",
   "execution_count": 36,
   "metadata": {
    "collapsed": true
   },
   "outputs": [],
   "source": [
    "df = df %>% rowwise() %>%\n",
    "    mutate(sample = strsplit(sample, \"_MeanDP.\")[[1]][1]) %>%\n",
    "    mutate(bam = \".bam\") %>%\n",
    "    mutate(BamName = paste0(sample, bam)) %>%\n",
    "    dplyr::select(-bam)\n",
    "\n"
   ]
  },
  {
   "cell_type": "code",
   "execution_count": 46,
   "metadata": {},
   "outputs": [
    {
     "data": {
      "text/html": [
       "324"
      ],
      "text/latex": [
       "324"
      ],
      "text/markdown": [
       "324"
      ],
      "text/plain": [
       "[1] 324"
      ]
     },
     "metadata": {},
     "output_type": "display_data"
    }
   ],
   "source": [
    "223+44+57"
   ]
  },
  {
   "cell_type": "code",
   "execution_count": 37,
   "metadata": {
    "collapsed": true
   },
   "outputs": [],
   "source": [
    "write.csv(df, \"./Orchard2021Coverage.csv\", row.names = FALSE)\n"
   ]
  },
  {
   "cell_type": "code",
   "execution_count": 38,
   "metadata": {
    "collapsed": true
   },
   "outputs": [],
   "source": [
    "df.2 = df %>%\n",
    "    dplyr::select(BamName, amount.down)\n",
    "write.table(df.2, \"./Round1DownSampParams.txt\",  row.names = FALSE, quote = FALSE)"
   ]
  },
  {
   "cell_type": "code",
   "execution_count": 40,
   "metadata": {
    "collapsed": true
   },
   "outputs": [],
   "source": [
    "df = read.table('./Round1DownSampParams.txt')\n",
    "df = df[-1,]\n",
    "write.table(df, \"./Round1DownSampParams.txt\",  row.names = FALSE, quote = FALSE)"
   ]
  },
  {
   "cell_type": "code",
   "execution_count": 44,
   "metadata": {
    "collapsed": true
   },
   "outputs": [],
   "source": [
    "write.table(df, \"./Orch2021DownSampParams.txt\",  row.names = FALSE, quote = FALSE)"
   ]
  },
  {
   "cell_type": "code",
   "execution_count": 45,
   "metadata": {},
   "outputs": [
    {
     "data": {
      "text/html": [
       "<table class=\"dataframe\">\n",
       "<caption>A data.table: 322 × 2</caption>\n",
       "<thead>\n",
       "\t<tr><th scope=col>V1</th><th scope=col>V2</th></tr>\n",
       "\t<tr><th scope=col>&lt;chr&gt;</th><th scope=col>&lt;dbl&gt;</th></tr>\n",
       "</thead>\n",
       "<tbody>\n",
       "\t<tr><td>Orch2021_base_1.bam</td><td>0.33</td></tr>\n",
       "\t<tr><td>Orch2021_base_2.bam</td><td>0.79</td></tr>\n",
       "\t<tr><td>Orch2021_base_3.bam</td><td>0.41</td></tr>\n",
       "\t<tr><td>Orch2021_base_4.bam</td><td>0.38</td></tr>\n",
       "\t<tr><td>tp1_F1_E1.bam      </td><td>0.08</td></tr>\n",
       "\t<tr><td>tp1_F1_E10.bam     </td><td>0.45</td></tr>\n",
       "\t<tr><td>tp1_F1_E11.bam     </td><td>0.38</td></tr>\n",
       "\t<tr><td>tp1_F1_E12.bam     </td><td>0.32</td></tr>\n",
       "\t<tr><td>tp1_F1_E2.bam      </td><td>0.40</td></tr>\n",
       "\t<tr><td>tp1_F1_E4.bam      </td><td>0.28</td></tr>\n",
       "\t<tr><td>tp1_F1_E5.bam      </td><td>0.35</td></tr>\n",
       "\t<tr><td>tp1_F1_E6.bam      </td><td>0.34</td></tr>\n",
       "\t<tr><td>tp1_F1_E8.bam      </td><td>0.49</td></tr>\n",
       "\t<tr><td>tp1_F1_E9.bam      </td><td>0.28</td></tr>\n",
       "\t<tr><td>tp1_F1_I1.bam      </td><td>0.40</td></tr>\n",
       "\t<tr><td>tp1_F1_I10.bam     </td><td>0.24</td></tr>\n",
       "\t<tr><td>tp1_F1_I2.bam      </td><td>0.37</td></tr>\n",
       "\t<tr><td>tp1_F1_I3.bam      </td><td>0.28</td></tr>\n",
       "\t<tr><td>tp1_F1_I4.bam      </td><td>0.26</td></tr>\n",
       "\t<tr><td>tp1_F1_I5.bam      </td><td>0.24</td></tr>\n",
       "\t<tr><td>tp1_F1_I6.bam      </td><td>0.33</td></tr>\n",
       "\t<tr><td>tp1_F1_I7.bam      </td><td>0.26</td></tr>\n",
       "\t<tr><td>tp1_F1_I8.bam      </td><td>0.33</td></tr>\n",
       "\t<tr><td>tp1_F1_I9.bam      </td><td>0.46</td></tr>\n",
       "\t<tr><td>tp1_F1_P1.bam      </td><td>0.60</td></tr>\n",
       "\t<tr><td>tp1_F1_P10.bam     </td><td>0.60</td></tr>\n",
       "\t<tr><td>tp1_F1_P2.bam      </td><td>0.48</td></tr>\n",
       "\t<tr><td>tp1_F1_P3.bam      </td><td>0.44</td></tr>\n",
       "\t<tr><td>tp1_F1_P4.bam      </td><td>0.36</td></tr>\n",
       "\t<tr><td>tp1_F1_P5.bam      </td><td>0.47</td></tr>\n",
       "\t<tr><td>⋮</td><td>⋮</td></tr>\n",
       "\t<tr><td>tp8_F1_I4.bam         </td><td>0.67</td></tr>\n",
       "\t<tr><td>tp8_F1_I5.bam         </td><td>0.68</td></tr>\n",
       "\t<tr><td>tp8_F1_I6.bam         </td><td>0.53</td></tr>\n",
       "\t<tr><td>tp8_F1_I7.bam         </td><td>0.57</td></tr>\n",
       "\t<tr><td>tp8_F1_I8.bam         </td><td>0.49</td></tr>\n",
       "\t<tr><td>tp8_F1_I9.bam         </td><td>0.53</td></tr>\n",
       "\t<tr><td>tp9_F1_E1.bam         </td><td>0.30</td></tr>\n",
       "\t<tr><td>tp9_F1_E10.bam        </td><td>0.57</td></tr>\n",
       "\t<tr><td>tp9_F1_E11.bam        </td><td>0.30</td></tr>\n",
       "\t<tr><td>tp9_F1_E12.bam        </td><td>0.43</td></tr>\n",
       "\t<tr><td>tp9_F1_E2.bam         </td><td>0.33</td></tr>\n",
       "\t<tr><td>tp9_F1_E3.bam         </td><td>0.26</td></tr>\n",
       "\t<tr><td>tp9_F1_E4.bam         </td><td>0.79</td></tr>\n",
       "\t<tr><td>tp9_F1_E5.bam         </td><td>0.55</td></tr>\n",
       "\t<tr><td>tp9_F1_E6.bam         </td><td>0.38</td></tr>\n",
       "\t<tr><td>tp9_F1_E7.bam         </td><td>0.34</td></tr>\n",
       "\t<tr><td>tp9_F1_E8.bam         </td><td>0.45</td></tr>\n",
       "\t<tr><td>tp9_F1_E8_Rd1_Rd3.bam </td><td>0.33</td></tr>\n",
       "\t<tr><td>tp9_F1_E9.bam         </td><td>0.44</td></tr>\n",
       "\t<tr><td>tp9_F1_P1.bam         </td><td>0.61</td></tr>\n",
       "\t<tr><td>tp9_F1_P10.bam        </td><td>0.74</td></tr>\n",
       "\t<tr><td>tp9_F1_P10_Rd1_Rd2.bam</td><td>0.19</td></tr>\n",
       "\t<tr><td>tp9_F1_P2.bam         </td><td>0.55</td></tr>\n",
       "\t<tr><td>tp9_F1_P3.bam         </td><td>0.34</td></tr>\n",
       "\t<tr><td>tp9_F1_P4.bam         </td><td>0.55</td></tr>\n",
       "\t<tr><td>tp9_F1_P5.bam         </td><td>0.74</td></tr>\n",
       "\t<tr><td>tp9_F1_P6.bam         </td><td>0.58</td></tr>\n",
       "\t<tr><td>tp9_F1_P7.bam         </td><td>0.42</td></tr>\n",
       "\t<tr><td>tp9_F1_P8.bam         </td><td>0.50</td></tr>\n",
       "\t<tr><td>tp9_F1_P9.bam         </td><td>0.66</td></tr>\n",
       "</tbody>\n",
       "</table>\n"
      ],
      "text/latex": [
       "A data.table: 322 × 2\n",
       "\\begin{tabular}{ll}\n",
       " V1 & V2\\\\\n",
       " <chr> & <dbl>\\\\\n",
       "\\hline\n",
       "\t Orch2021\\_base\\_1.bam & 0.33\\\\\n",
       "\t Orch2021\\_base\\_2.bam & 0.79\\\\\n",
       "\t Orch2021\\_base\\_3.bam & 0.41\\\\\n",
       "\t Orch2021\\_base\\_4.bam & 0.38\\\\\n",
       "\t tp1\\_F1\\_E1.bam       & 0.08\\\\\n",
       "\t tp1\\_F1\\_E10.bam      & 0.45\\\\\n",
       "\t tp1\\_F1\\_E11.bam      & 0.38\\\\\n",
       "\t tp1\\_F1\\_E12.bam      & 0.32\\\\\n",
       "\t tp1\\_F1\\_E2.bam       & 0.40\\\\\n",
       "\t tp1\\_F1\\_E4.bam       & 0.28\\\\\n",
       "\t tp1\\_F1\\_E5.bam       & 0.35\\\\\n",
       "\t tp1\\_F1\\_E6.bam       & 0.34\\\\\n",
       "\t tp1\\_F1\\_E8.bam       & 0.49\\\\\n",
       "\t tp1\\_F1\\_E9.bam       & 0.28\\\\\n",
       "\t tp1\\_F1\\_I1.bam       & 0.40\\\\\n",
       "\t tp1\\_F1\\_I10.bam      & 0.24\\\\\n",
       "\t tp1\\_F1\\_I2.bam       & 0.37\\\\\n",
       "\t tp1\\_F1\\_I3.bam       & 0.28\\\\\n",
       "\t tp1\\_F1\\_I4.bam       & 0.26\\\\\n",
       "\t tp1\\_F1\\_I5.bam       & 0.24\\\\\n",
       "\t tp1\\_F1\\_I6.bam       & 0.33\\\\\n",
       "\t tp1\\_F1\\_I7.bam       & 0.26\\\\\n",
       "\t tp1\\_F1\\_I8.bam       & 0.33\\\\\n",
       "\t tp1\\_F1\\_I9.bam       & 0.46\\\\\n",
       "\t tp1\\_F1\\_P1.bam       & 0.60\\\\\n",
       "\t tp1\\_F1\\_P10.bam      & 0.60\\\\\n",
       "\t tp1\\_F1\\_P2.bam       & 0.48\\\\\n",
       "\t tp1\\_F1\\_P3.bam       & 0.44\\\\\n",
       "\t tp1\\_F1\\_P4.bam       & 0.36\\\\\n",
       "\t tp1\\_F1\\_P5.bam       & 0.47\\\\\n",
       "\t ⋮ & ⋮\\\\\n",
       "\t tp8\\_F1\\_I4.bam          & 0.67\\\\\n",
       "\t tp8\\_F1\\_I5.bam          & 0.68\\\\\n",
       "\t tp8\\_F1\\_I6.bam          & 0.53\\\\\n",
       "\t tp8\\_F1\\_I7.bam          & 0.57\\\\\n",
       "\t tp8\\_F1\\_I8.bam          & 0.49\\\\\n",
       "\t tp8\\_F1\\_I9.bam          & 0.53\\\\\n",
       "\t tp9\\_F1\\_E1.bam          & 0.30\\\\\n",
       "\t tp9\\_F1\\_E10.bam         & 0.57\\\\\n",
       "\t tp9\\_F1\\_E11.bam         & 0.30\\\\\n",
       "\t tp9\\_F1\\_E12.bam         & 0.43\\\\\n",
       "\t tp9\\_F1\\_E2.bam          & 0.33\\\\\n",
       "\t tp9\\_F1\\_E3.bam          & 0.26\\\\\n",
       "\t tp9\\_F1\\_E4.bam          & 0.79\\\\\n",
       "\t tp9\\_F1\\_E5.bam          & 0.55\\\\\n",
       "\t tp9\\_F1\\_E6.bam          & 0.38\\\\\n",
       "\t tp9\\_F1\\_E7.bam          & 0.34\\\\\n",
       "\t tp9\\_F1\\_E8.bam          & 0.45\\\\\n",
       "\t tp9\\_F1\\_E8\\_Rd1\\_Rd3.bam  & 0.33\\\\\n",
       "\t tp9\\_F1\\_E9.bam          & 0.44\\\\\n",
       "\t tp9\\_F1\\_P1.bam          & 0.61\\\\\n",
       "\t tp9\\_F1\\_P10.bam         & 0.74\\\\\n",
       "\t tp9\\_F1\\_P10\\_Rd1\\_Rd2.bam & 0.19\\\\\n",
       "\t tp9\\_F1\\_P2.bam          & 0.55\\\\\n",
       "\t tp9\\_F1\\_P3.bam          & 0.34\\\\\n",
       "\t tp9\\_F1\\_P4.bam          & 0.55\\\\\n",
       "\t tp9\\_F1\\_P5.bam          & 0.74\\\\\n",
       "\t tp9\\_F1\\_P6.bam          & 0.58\\\\\n",
       "\t tp9\\_F1\\_P7.bam          & 0.42\\\\\n",
       "\t tp9\\_F1\\_P8.bam          & 0.50\\\\\n",
       "\t tp9\\_F1\\_P9.bam          & 0.66\\\\\n",
       "\\end{tabular}\n"
      ],
      "text/markdown": [
       "\n",
       "A data.table: 322 × 2\n",
       "\n",
       "| V1 &lt;chr&gt; | V2 &lt;dbl&gt; |\n",
       "|---|---|\n",
       "| Orch2021_base_1.bam | 0.33 |\n",
       "| Orch2021_base_2.bam | 0.79 |\n",
       "| Orch2021_base_3.bam | 0.41 |\n",
       "| Orch2021_base_4.bam | 0.38 |\n",
       "| tp1_F1_E1.bam       | 0.08 |\n",
       "| tp1_F1_E10.bam      | 0.45 |\n",
       "| tp1_F1_E11.bam      | 0.38 |\n",
       "| tp1_F1_E12.bam      | 0.32 |\n",
       "| tp1_F1_E2.bam       | 0.40 |\n",
       "| tp1_F1_E4.bam       | 0.28 |\n",
       "| tp1_F1_E5.bam       | 0.35 |\n",
       "| tp1_F1_E6.bam       | 0.34 |\n",
       "| tp1_F1_E8.bam       | 0.49 |\n",
       "| tp1_F1_E9.bam       | 0.28 |\n",
       "| tp1_F1_I1.bam       | 0.40 |\n",
       "| tp1_F1_I10.bam      | 0.24 |\n",
       "| tp1_F1_I2.bam       | 0.37 |\n",
       "| tp1_F1_I3.bam       | 0.28 |\n",
       "| tp1_F1_I4.bam       | 0.26 |\n",
       "| tp1_F1_I5.bam       | 0.24 |\n",
       "| tp1_F1_I6.bam       | 0.33 |\n",
       "| tp1_F1_I7.bam       | 0.26 |\n",
       "| tp1_F1_I8.bam       | 0.33 |\n",
       "| tp1_F1_I9.bam       | 0.46 |\n",
       "| tp1_F1_P1.bam       | 0.60 |\n",
       "| tp1_F1_P10.bam      | 0.60 |\n",
       "| tp1_F1_P2.bam       | 0.48 |\n",
       "| tp1_F1_P3.bam       | 0.44 |\n",
       "| tp1_F1_P4.bam       | 0.36 |\n",
       "| tp1_F1_P5.bam       | 0.47 |\n",
       "| ⋮ | ⋮ |\n",
       "| tp8_F1_I4.bam          | 0.67 |\n",
       "| tp8_F1_I5.bam          | 0.68 |\n",
       "| tp8_F1_I6.bam          | 0.53 |\n",
       "| tp8_F1_I7.bam          | 0.57 |\n",
       "| tp8_F1_I8.bam          | 0.49 |\n",
       "| tp8_F1_I9.bam          | 0.53 |\n",
       "| tp9_F1_E1.bam          | 0.30 |\n",
       "| tp9_F1_E10.bam         | 0.57 |\n",
       "| tp9_F1_E11.bam         | 0.30 |\n",
       "| tp9_F1_E12.bam         | 0.43 |\n",
       "| tp9_F1_E2.bam          | 0.33 |\n",
       "| tp9_F1_E3.bam          | 0.26 |\n",
       "| tp9_F1_E4.bam          | 0.79 |\n",
       "| tp9_F1_E5.bam          | 0.55 |\n",
       "| tp9_F1_E6.bam          | 0.38 |\n",
       "| tp9_F1_E7.bam          | 0.34 |\n",
       "| tp9_F1_E8.bam          | 0.45 |\n",
       "| tp9_F1_E8_Rd1_Rd3.bam  | 0.33 |\n",
       "| tp9_F1_E9.bam          | 0.44 |\n",
       "| tp9_F1_P1.bam          | 0.61 |\n",
       "| tp9_F1_P10.bam         | 0.74 |\n",
       "| tp9_F1_P10_Rd1_Rd2.bam | 0.19 |\n",
       "| tp9_F1_P2.bam          | 0.55 |\n",
       "| tp9_F1_P3.bam          | 0.34 |\n",
       "| tp9_F1_P4.bam          | 0.55 |\n",
       "| tp9_F1_P5.bam          | 0.74 |\n",
       "| tp9_F1_P6.bam          | 0.58 |\n",
       "| tp9_F1_P7.bam          | 0.42 |\n",
       "| tp9_F1_P8.bam          | 0.50 |\n",
       "| tp9_F1_P9.bam          | 0.66 |\n",
       "\n"
      ],
      "text/plain": [
       "    V1                     V2  \n",
       "1   Orch2021_base_1.bam    0.33\n",
       "2   Orch2021_base_2.bam    0.79\n",
       "3   Orch2021_base_3.bam    0.41\n",
       "4   Orch2021_base_4.bam    0.38\n",
       "5   tp1_F1_E1.bam          0.08\n",
       "6   tp1_F1_E10.bam         0.45\n",
       "7   tp1_F1_E11.bam         0.38\n",
       "8   tp1_F1_E12.bam         0.32\n",
       "9   tp1_F1_E2.bam          0.40\n",
       "10  tp1_F1_E4.bam          0.28\n",
       "11  tp1_F1_E5.bam          0.35\n",
       "12  tp1_F1_E6.bam          0.34\n",
       "13  tp1_F1_E8.bam          0.49\n",
       "14  tp1_F1_E9.bam          0.28\n",
       "15  tp1_F1_I1.bam          0.40\n",
       "16  tp1_F1_I10.bam         0.24\n",
       "17  tp1_F1_I2.bam          0.37\n",
       "18  tp1_F1_I3.bam          0.28\n",
       "19  tp1_F1_I4.bam          0.26\n",
       "20  tp1_F1_I5.bam          0.24\n",
       "21  tp1_F1_I6.bam          0.33\n",
       "22  tp1_F1_I7.bam          0.26\n",
       "23  tp1_F1_I8.bam          0.33\n",
       "24  tp1_F1_I9.bam          0.46\n",
       "25  tp1_F1_P1.bam          0.60\n",
       "26  tp1_F1_P10.bam         0.60\n",
       "27  tp1_F1_P2.bam          0.48\n",
       "28  tp1_F1_P3.bam          0.44\n",
       "29  tp1_F1_P4.bam          0.36\n",
       "30  tp1_F1_P5.bam          0.47\n",
       "⋮   ⋮                      ⋮   \n",
       "293 tp8_F1_I4.bam          0.67\n",
       "294 tp8_F1_I5.bam          0.68\n",
       "295 tp8_F1_I6.bam          0.53\n",
       "296 tp8_F1_I7.bam          0.57\n",
       "297 tp8_F1_I8.bam          0.49\n",
       "298 tp8_F1_I9.bam          0.53\n",
       "299 tp9_F1_E1.bam          0.30\n",
       "300 tp9_F1_E10.bam         0.57\n",
       "301 tp9_F1_E11.bam         0.30\n",
       "302 tp9_F1_E12.bam         0.43\n",
       "303 tp9_F1_E2.bam          0.33\n",
       "304 tp9_F1_E3.bam          0.26\n",
       "305 tp9_F1_E4.bam          0.79\n",
       "306 tp9_F1_E5.bam          0.55\n",
       "307 tp9_F1_E6.bam          0.38\n",
       "308 tp9_F1_E7.bam          0.34\n",
       "309 tp9_F1_E8.bam          0.45\n",
       "310 tp9_F1_E8_Rd1_Rd3.bam  0.33\n",
       "311 tp9_F1_E9.bam          0.44\n",
       "312 tp9_F1_P1.bam          0.61\n",
       "313 tp9_F1_P10.bam         0.74\n",
       "314 tp9_F1_P10_Rd1_Rd2.bam 0.19\n",
       "315 tp9_F1_P2.bam          0.55\n",
       "316 tp9_F1_P3.bam          0.34\n",
       "317 tp9_F1_P4.bam          0.55\n",
       "318 tp9_F1_P5.bam          0.74\n",
       "319 tp9_F1_P6.bam          0.58\n",
       "320 tp9_F1_P7.bam          0.42\n",
       "321 tp9_F1_P8.bam          0.50\n",
       "322 tp9_F1_P9.bam          0.66"
      ]
     },
     "metadata": {},
     "output_type": "display_data"
    }
   ],
   "source": [
    "df = fread('./Orch2021DownSampParams.txt')\n",
    "df"
   ]
  },
  {
   "cell_type": "code",
   "execution_count": 3,
   "metadata": {},
   "outputs": [
    {
     "ename": "ERROR",
     "evalue": "Error in parse(text = x, srcfile = src): <text>:3:0: unexpected end of input\n1: df = fread(\"./Orch2021DownSampParams.txt\")\n2: df %>%\n  ^\n",
     "output_type": "error",
     "traceback": [
      "Error in parse(text = x, srcfile = src): <text>:3:0: unexpected end of input\n1: df = fread(\"./Orch2021DownSampParams.txt\")\n2: df %>%\n  ^\nTraceback:\n"
     ]
    }
   ],
   "source": [
    "df = fread(\"./Orch2021DownSampParams.txt\")\n"
   ]
  },
  {
   "cell_type": "code",
   "execution_count": 15,
   "metadata": {},
   "outputs": [
    {
     "data": {
      "text/html": [
       "<style>\n",
       ".list-inline {list-style: none; margin:0; padding: 0}\n",
       ".list-inline>li {display: inline-block}\n",
       ".list-inline>li:not(:last-child)::after {content: \"\\00b7\"; padding: 0 .5ex}\n",
       "</style>\n",
       "<ol class=list-inline><li>'0.33'</li><li>'0.79'</li><li>'0.41'</li><li>'0.38'</li><li>'0.08'</li><li>'0.45'</li></ol>\n"
      ],
      "text/latex": [
       "\\begin{enumerate*}\n",
       "\\item '0.33'\n",
       "\\item '0.79'\n",
       "\\item '0.41'\n",
       "\\item '0.38'\n",
       "\\item '0.08'\n",
       "\\item '0.45'\n",
       "\\end{enumerate*}\n"
      ],
      "text/markdown": [
       "1. '0.33'\n",
       "2. '0.79'\n",
       "3. '0.41'\n",
       "4. '0.38'\n",
       "5. '0.08'\n",
       "6. '0.45'\n",
       "\n",
       "\n"
      ],
      "text/plain": [
       "[1] \"0.33\" \"0.79\" \"0.41\" \"0.38\" \"0.08\" \"0.45\""
      ]
     },
     "metadata": {},
     "output_type": "display_data"
    }
   ],
   "source": [
    "head(as.character(df$V2))"
   ]
  },
  {
   "cell_type": "code",
   "execution_count": 16,
   "metadata": {},
   "outputs": [
    {
     "data": {
      "text/html": [
       "<table class=\"dataframe\">\n",
       "<caption>A rowwise_df: 6 × 2</caption>\n",
       "<thead>\n",
       "\t<tr><th scope=col>V1</th><th scope=col>V2</th></tr>\n",
       "\t<tr><th scope=col>&lt;chr&gt;</th><th scope=col>&lt;chr&gt;</th></tr>\n",
       "</thead>\n",
       "<tbody>\n",
       "\t<tr><td>Orch2021_base_1.bam</td><td>33</td></tr>\n",
       "\t<tr><td>Orch2021_base_2.bam</td><td>79</td></tr>\n",
       "\t<tr><td>Orch2021_base_3.bam</td><td>41</td></tr>\n",
       "\t<tr><td>Orch2021_base_4.bam</td><td>38</td></tr>\n",
       "\t<tr><td>tp1_F1_E1.bam      </td><td>  </td></tr>\n",
       "\t<tr><td>tp1_F1_E10.bam     </td><td>45</td></tr>\n",
       "</tbody>\n",
       "</table>\n"
      ],
      "text/latex": [
       "A rowwise\\_df: 6 × 2\n",
       "\\begin{tabular}{ll}\n",
       " V1 & V2\\\\\n",
       " <chr> & <chr>\\\\\n",
       "\\hline\n",
       "\t Orch2021\\_base\\_1.bam & 33\\\\\n",
       "\t Orch2021\\_base\\_2.bam & 79\\\\\n",
       "\t Orch2021\\_base\\_3.bam & 41\\\\\n",
       "\t Orch2021\\_base\\_4.bam & 38\\\\\n",
       "\t tp1\\_F1\\_E1.bam       &   \\\\\n",
       "\t tp1\\_F1\\_E10.bam      & 45\\\\\n",
       "\\end{tabular}\n"
      ],
      "text/markdown": [
       "\n",
       "A rowwise_df: 6 × 2\n",
       "\n",
       "| V1 &lt;chr&gt; | V2 &lt;chr&gt; |\n",
       "|---|---|\n",
       "| Orch2021_base_1.bam | 33 |\n",
       "| Orch2021_base_2.bam | 79 |\n",
       "| Orch2021_base_3.bam | 41 |\n",
       "| Orch2021_base_4.bam | 38 |\n",
       "| tp1_F1_E1.bam       | <!----> |\n",
       "| tp1_F1_E10.bam      | 45 |\n",
       "\n"
      ],
      "text/plain": [
       "  V1                  V2\n",
       "1 Orch2021_base_1.bam 33\n",
       "2 Orch2021_base_2.bam 79\n",
       "3 Orch2021_base_3.bam 41\n",
       "4 Orch2021_base_4.bam 38\n",
       "5 tp1_F1_E1.bam         \n",
       "6 tp1_F1_E10.bam      45"
      ]
     },
     "metadata": {},
     "output_type": "display_data"
    }
   ],
   "source": [
    "head(df  %>% rowwise() %>%\n",
    "    mutate(V2 = as.character(V2)) %>%\n",
    "    mutate(V2 = strsplit(V2, \"0.\")[[1]][2]))"
   ]
  },
  {
   "cell_type": "code",
   "execution_count": 25,
   "metadata": {},
   "outputs": [
    {
     "data": {
      "text/html": [
       "'numeric'"
      ],
      "text/latex": [
       "'numeric'"
      ],
      "text/markdown": [
       "'numeric'"
      ],
      "text/plain": [
       "[1] \"numeric\""
      ]
     },
     "metadata": {},
     "output_type": "display_data"
    }
   ],
   "source": [
    "class(df$V2)"
   ]
  },
  {
   "cell_type": "code",
   "execution_count": 33,
   "metadata": {},
   "outputs": [],
   "source": [
    "library(stringi)"
   ]
  },
  {
   "cell_type": "code",
   "execution_count": 24,
   "metadata": {},
   "outputs": [
    {
     "name": "stderr",
     "output_type": "stream",
     "text": [
      "Warning message:\n",
      "“Expected 2 pieces. Additional pieces discarded in 37 rows [5, 58, 63, 71, 74, 77, 82, 84, 98, 100, 101, 102, 103, 104, 105, 106, 108, 110, 158, 160, ...].”\n"
     ]
    }
   ],
   "source": [
    "df.2 = df  %>% \n",
    "    separate( V2, c(\"V2\", \"V3\"), sep = \"0.\")\n"
   ]
  },
  {
   "cell_type": "code",
   "execution_count": 35,
   "metadata": {},
   "outputs": [],
   "source": [
    "df.3 = df %>% rowwise() %>%\n",
    "    mutate(V2 = as.character(V2)) %>%\n",
    "    mutate(V3 = stri_sub(V2, 3, 4))"
   ]
  },
  {
   "cell_type": "code",
   "execution_count": null,
   "metadata": {},
   "outputs": [],
   "source": [
    "df.3 = df.3[,-2]"
   ]
  },
  {
   "cell_type": "code",
   "execution_count": 38,
   "metadata": {
    "collapsed": true
   },
   "outputs": [],
   "source": [
    "write.table(df.3, \"./Orch2021DownSampParams.txt\",  row.names = FALSE, quote = FALSE)"
   ]
  },
  {
   "cell_type": "code",
   "execution_count": null,
   "metadata": {
    "collapsed": true
   },
   "outputs": [],
   "source": []
  }
 ],
 "metadata": {
  "kernelspec": {
   "display_name": "R",
   "language": "R",
   "name": "ir"
  },
  "language_info": {
   "codemirror_mode": "r",
   "file_extension": ".r",
   "mimetype": "text/x-r-source",
   "name": "R",
   "pygments_lexer": "r",
   "version": "3.5.1"
  }
 },
 "nbformat": 4,
 "nbformat_minor": 2
}
