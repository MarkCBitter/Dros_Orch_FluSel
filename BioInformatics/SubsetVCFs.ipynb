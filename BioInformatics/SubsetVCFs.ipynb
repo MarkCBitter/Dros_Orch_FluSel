{
 "cells": [
  {
   "cell_type": "code",
   "execution_count": null,
   "metadata": {
    "collapsed": true
   },
   "outputs": [],
   "source": [
    "##Subsetting inbred line .vcf before HAF-pipe"
   ]
  },
  {
   "cell_type": "code",
   "execution_count": 2,
   "metadata": {
    "collapsed": true
   },
   "outputs": [],
   "source": [
    "%%sh\n",
    "\n",
    "ml biology\n",
    "ml bcftools\n",
    "\n",
    "cd /scratch/groups/dpetrov/MarkB/Orchard2021Data/founders/vcfs/\n",
    "\n",
    "bcftools view -S ./InbredLines.LN.txt ./inbredv2.filtered.vcf > inbredv2.filtered.AllLN.vcf"
   ]
  },
  {
   "cell_type": "code",
   "execution_count": 20,
   "metadata": {
    "collapsed": true
   },
   "outputs": [],
   "source": [
    "%%sh\n",
    "\n",
    "ml biology\n",
    "ml bcftools\n",
    "\n",
    "cd /scratch/groups/dpetrov/MarkB/Orchard2021Data/founders/vcfs/\n",
    "\n",
    "bcftools view -S ./orch.2021.founders.txt ./inbredv2.filtered.vcf > inbredv2.filtered.Orchard2021.vcf"
   ]
  },
  {
   "cell_type": "code",
   "execution_count": 1,
   "metadata": {},
   "outputs": [
    {
     "name": "stdout",
     "output_type": "stream",
     "text": [
      "209\n",
      "123\n",
      "76\n"
     ]
    }
   ],
   "source": [
    "%%sh\n",
    "\n",
    "ml biology\n",
    "ml bcftools\n",
    "\n",
    "cd /scratch/groups/dpetrov/MarkB/Orchard2021Data/founders/vcfs/\n",
    "bcftools query -l ./inbredv2.filtered.vcf | wc -l\n",
    "bcftools query -l ./inbredv2.filtered.AllLN.vcf | wc -l\n",
    "bcftools query -l ./inbredv2.filtered.Orchard2021.vcf | wc -l"
   ]
  },
  {
   "cell_type": "code",
   "execution_count": null,
   "metadata": {
    "collapsed": true
   },
   "outputs": [],
   "source": []
  }
 ],
 "metadata": {
  "kernelspec": {
   "display_name": "Python 3",
   "language": "python",
   "name": "python3"
  },
  "language_info": {
   "codemirror_mode": {
    "name": "ipython",
    "version": 3
   },
   "file_extension": ".py",
   "mimetype": "text/x-python",
   "name": "python",
   "nbconvert_exporter": "python",
   "pygments_lexer": "ipython3",
   "version": "3.6.1"
  }
 },
 "nbformat": 4,
 "nbformat_minor": 2
}
