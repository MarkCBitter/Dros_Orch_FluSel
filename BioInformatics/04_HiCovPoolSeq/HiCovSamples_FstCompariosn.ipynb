{
 "cells": [
  {
   "cell_type": "code",
   "execution_count": 2,
   "id": "e6c095f8",
   "metadata": {},
   "outputs": [],
   "source": [
    "library(data.table)\n",
    "library(tidyverse)\n",
    "setwd('~/dpetrov/MarkB/Orchard2021Data/18_HAFPipe_Validation/AFs/')\n",
    "source(\"/home/users/mcbitter/OrchardProject/Code/general_cage_functions.R\")\n"
   ]
  },
  {
   "cell_type": "code",
   "execution_count": 3,
   "id": "ee6f8041",
   "metadata": {},
   "outputs": [],
   "source": [
    "#Computing Fst between pool-seq and haf's"
   ]
  },
  {
   "cell_type": "code",
   "execution_count": 4,
   "id": "75b506df",
   "metadata": {},
   "outputs": [],
   "source": [
    "#Fst between subsampled reads:\n",
    "load('./orch2021_SubSampReads.A.RData')\n",
    "set.a = afmat\n",
    "load('./orch2021_SubSampReads.B.RData')\n",
    "set.b = afmat\n",
    "data.sub.reads = data.frame()\n",
    "for(i in 1:ncol(set.a)){\n",
    "    df = cbind(set.a[,i], set.b[,i])\n",
    "    fst.mat = Fst.mat(df)\n",
    "    fst = fst.mat[1,2]\n",
    "    samp = names(set.a)[i]\n",
    "    df.fst = cbind(samp, fst)\n",
    "    data.sub.reads = rbind(data.sub.reads, df.fst)\n",
    "    \n",
    "}\n",
    "data.sub.reads$type = 'Sub-sampled Reads'\n",
    "write.csv(data.sub.reads, 'SubSampledReads.Fst.csv', row.names = FALSE)"
   ]
  },
  {
   "cell_type": "code",
   "execution_count": 25,
   "id": "075ce6d2",
   "metadata": {},
   "outputs": [
    {
     "name": "stderr",
     "output_type": "stream",
     "text": [
      "\u001b[1m\u001b[22mJoining with `by = join_by(chrom, pos)`\n",
      "\u001b[1m\u001b[22mJoining with `by = join_by(chrom, pos)`\n",
      "\u001b[1m\u001b[22mJoining with `by = join_by(chrom, pos)`\n",
      "\u001b[1m\u001b[22mJoining with `by = join_by(chrom, pos)`\n",
      "\u001b[1m\u001b[22mJoining with `by = join_by(chrom, pos)`\n"
     ]
    }
   ],
   "source": [
    "#Fst between each different coverage and the HAF's\n",
    "covs = c('100x', '75x', '50x', '25x', '8x')\n",
    "\n",
    "\n",
    "data.poolseq.meta = data.frame()\n",
    "for (cov in covs){\n",
    "    load(paste0('./orch2021_PoolSeq.',cov ,'.RData'))\n",
    "    load('./orch2021_SubSampReads.A.RData')\n",
    "    df.a = cbind(sites, afmat)\n",
    "    df.a = left_join(sites.PoolSeq, df.a)\n",
    "    sites = df.a %>% dplyr::select(chrom, pos)\n",
    "    afmat = df.a %>% dplyr::select(-chrom, -pos)\n",
    "    afmat = as.data.frame(afmat)\n",
    "    afmat.PoolSeq = as.data.frame(afmat.PoolSeq)\n",
    "    data.poolseq = data.frame()\n",
    "    for(i in 1:ncol(afmat.PoolSeq)){\n",
    "        df = cbind(afmat.PoolSeq[,i], afmat[,i])\n",
    "        fst.mat = Fst.mat(df)\n",
    "        fst = as.numeric(fst.mat[1,2])\n",
    "        samp = names(afmat.PoolSeq)[i]\n",
    "        df.fst = cbind(cov, samp, fst)\n",
    "        data.poolseq = rbind(data.poolseq, df.fst)\n",
    "        }\n",
    "    data.poolseq.meta = rbind(data.poolseq.meta, data.poolseq)\n",
    "        }\n",
    "\n",
    "data.poolseq.meta$type = 'PoolSeq_V_HAFs'\n"
   ]
  },
  {
   "cell_type": "code",
   "execution_count": 28,
   "id": "a5c4b61e",
   "metadata": {},
   "outputs": [],
   "source": [
    "Fst.mat.2 = function (x) \n",
    "{\n",
    "    if (is.data.frame(x)) \n",
    "        x <- as.matrix(x)\n",
    "    if (!(is.numeric(x) || is.logical(x))) \n",
    "        stop(\"'x' must be numeric\")\n",
    "    ncy <- ncx <- ncol(x)\n",
    "    r <- matrix(0, nrow = ncx, ncol = ncy)\n",
    "    for (i in seq_len(ncx)) {\n",
    "        for (j in seq_len(i)) {\n",
    "            x2 <- x[, i]\n",
    "            y2 <- x[, j]\n",
    "            r[i, j] <- median(Fst(x2, y2), na.rm = T)\n",
    "        }\n",
    "    }\n",
    "    r <- r + t(r) - diag(diag(r))\n",
    "    rownames(r) <- colnames(x)\n",
    "    colnames(r) <- colnames(x)\n",
    "    r\n",
    "}"
   ]
  },
  {
   "cell_type": "code",
   "execution_count": 31,
   "id": "bb38f585",
   "metadata": {},
   "outputs": [
    {
     "name": "stderr",
     "output_type": "stream",
     "text": [
      "\u001b[1m\u001b[22mJoining with `by = join_by(chrom, pos)`\n",
      "\u001b[1m\u001b[22mJoining with `by = join_by(chrom, pos)`\n",
      "\u001b[1m\u001b[22mJoining with `by = join_by(chrom, pos)`\n",
      "\u001b[1m\u001b[22mJoining with `by = join_by(chrom, pos)`\n",
      "\u001b[1m\u001b[22mJoining with `by = join_by(chrom, pos)`\n"
     ]
    }
   ],
   "source": [
    "#Fst between each different coverage and the HAF's\n",
    "covs = c('100x', '75x', '50x', '25x', '8x')\n",
    "\n",
    "\n",
    "data.poolseq.meta.median = data.frame()\n",
    "for (cov in covs){\n",
    "    load(paste0('./orch2021_PoolSeq.',cov ,'.RData'))\n",
    "    load('./orch2021_SubSampReads.A.RData')\n",
    "    df.a = cbind(sites, afmat)\n",
    "    df.a = left_join(sites.PoolSeq, df.a)\n",
    "    sites = df.a %>% dplyr::select(chrom, pos)\n",
    "    afmat = df.a %>% dplyr::select(-chrom, -pos)\n",
    "    afmat = as.data.frame(afmat)\n",
    "    afmat.PoolSeq = as.data.frame(afmat.PoolSeq)\n",
    "    data.poolseq = data.frame()\n",
    "    for(i in 1:ncol(afmat.PoolSeq)){\n",
    "        df = cbind(afmat.PoolSeq[,i], afmat[,i])\n",
    "        fst.mat = Fst.mat.2(df)\n",
    "        fst = as.numeric(fst.mat[1,2])\n",
    "        samp = names(afmat.PoolSeq)[i]\n",
    "        df.fst = cbind(cov, samp, fst)\n",
    "        data.poolseq = rbind(data.poolseq, df.fst)\n",
    "        }\n",
    "    data.poolseq.meta.median = rbind(data.poolseq.meta.median, data.poolseq)\n",
    "        }\n",
    "\n",
    "data.poolseq.meta.median$type = 'PoolSeq_V_HAFs'"
   ]
  },
  {
   "cell_type": "code",
   "execution_count": 34,
   "id": "67d819a3",
   "metadata": {},
   "outputs": [],
   "source": [
    "data.poolseq.meta.median = data.poolseq.meta.median %>% mutate(fst = as.numeric(as.character(fst)))"
   ]
  },
  {
   "cell_type": "code",
   "execution_count": 37,
   "id": "0acd8838",
   "metadata": {},
   "outputs": [
    {
     "data": {
      "image/png": "[encoded data removed]",
      "text/plain": [
       "plot without title"
      ]
     },
     "metadata": {
      "image/png": {
       "height": 420,
       "width": 420
      }
     },
     "output_type": "display_data"
    }
   ],
   "source": [
    "ggplot(data.poolseq.meta.median, aes(x = cov, y = fst) ) +\n",
    "    geom_boxplot() +\n",
    "    theme_bw(base_size = 25)"
   ]
  },
  {
   "cell_type": "code",
   "execution_count": null,
   "id": "a56d152e",
   "metadata": {},
   "outputs": [],
   "source": []
  }
 ],
 "metadata": {
  "kernelspec": {
   "display_name": "R",
   "language": "R",
   "name": "ir"
  },
  "language_info": {
   "codemirror_mode": "r",
   "file_extension": ".r",
   "mimetype": "text/x-r-source",
   "name": "R",
   "pygments_lexer": "r",
   "version": "3.5.1"
  }
 },
 "nbformat": 4,
 "nbformat_minor": 5
}
