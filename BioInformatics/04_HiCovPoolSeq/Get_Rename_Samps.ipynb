{
 "cells": [
  {
   "cell_type": "code",
   "execution_count": 1,
   "id": "e45e73af",
   "metadata": {},
   "outputs": [
    {
     "name": "stderr",
     "output_type": "stream",
     "text": [
      "── \u001b[1mAttaching packages\u001b[22m ─────────────────────────────────────── tidyverse 1.3.2 ──\n",
      "\u001b[32m✔\u001b[39m \u001b[34mggplot2\u001b[39m 3.4.2     \u001b[32m✔\u001b[39m \u001b[34mpurrr  \u001b[39m 0.3.5\n",
      "\u001b[32m✔\u001b[39m \u001b[34mtibble \u001b[39m 3.2.1     \u001b[32m✔\u001b[39m \u001b[34mdplyr  \u001b[39m 1.1.4\n",
      "\u001b[32m✔\u001b[39m \u001b[34mtidyr  \u001b[39m 1.2.1     \u001b[32m✔\u001b[39m \u001b[34mstringr\u001b[39m 1.4.1\n",
      "\u001b[32m✔\u001b[39m \u001b[34mreadr  \u001b[39m 2.1.4     \u001b[32m✔\u001b[39m \u001b[34mforcats\u001b[39m 0.5.2\n",
      "── \u001b[1mConflicts\u001b[22m ────────────────────────────────────────── tidyverse_conflicts() ──\n",
      "\u001b[31m✖\u001b[39m \u001b[34mdplyr\u001b[39m::\u001b[32mfilter()\u001b[39m masks \u001b[34mstats\u001b[39m::filter()\n",
      "\u001b[31m✖\u001b[39m \u001b[34mdplyr\u001b[39m::\u001b[32mlag()\u001b[39m    masks \u001b[34mstats\u001b[39m::lag()\n",
      "\n",
      "Attaching package: ‘data.table’\n",
      "\n",
      "\n",
      "The following objects are masked from ‘package:dplyr’:\n",
      "\n",
      "    between, first, last\n",
      "\n",
      "\n",
      "The following object is masked from ‘package:purrr’:\n",
      "\n",
      "    transpose\n",
      "\n",
      "\n"
     ]
    }
   ],
   "source": [
    "library('tidyverse')\n",
    "library('data.table')"
   ]
  },
  {
   "cell_type": "code",
   "execution_count": null,
   "id": "56a5d045",
   "metadata": {},
   "outputs": [],
   "source": []
  },
  {
   "cell_type": "code",
   "execution_count": 2,
   "id": "8ddcfb39",
   "metadata": {},
   "outputs": [],
   "source": [
    "setwd('~/dpetrov/MarkB/Orchard2021Data/18_HAFPipe_Validation/Fastqs/')"
   ]
  },
  {
   "cell_type": "code",
   "execution_count": 3,
   "id": "9d5136ae",
   "metadata": {},
   "outputs": [],
   "source": [
    "files = list.files(pattern = '.gz')\n",
    "data = data.frame()\n",
    "for (f in files){\n",
    "    name = strsplit(f, '_R')[[1]][1]\n",
    "    df = cbind(name)\n",
    "    data = rbind(data, df)\n",
    "    \n",
    "}"
   ]
  },
  {
   "cell_type": "code",
   "execution_count": 4,
   "id": "39085662",
   "metadata": {},
   "outputs": [],
   "source": [
    "data = unique(data)"
   ]
  },
  {
   "cell_type": "code",
   "execution_count": 5,
   "id": "0763a50a",
   "metadata": {},
   "outputs": [],
   "source": [
    "write.table(data, 'orch2021.samps.csv' , quote = FALSE, row.names = FALSE)"
   ]
  },
  {
   "cell_type": "code",
   "execution_count": 2,
   "id": "36029994",
   "metadata": {},
   "outputs": [],
   "source": [
    "#rename filtered, sorted, deduped bam files"
   ]
  },
  {
   "cell_type": "code",
   "execution_count": 11,
   "id": "4d9d2600",
   "metadata": {},
   "outputs": [
    {
     "data": {
      "text/html": [
       "<style>\n",
       ".list-inline {list-style: none; margin:0; padding: 0}\n",
       ".list-inline>li {display: inline-block}\n",
       ".list-inline>li:not(:last-child)::after {content: \"\\00b7\"; padding: 0 .5ex}\n",
       "</style>\n",
       "<ol class=list-inline><li>'205_S11_L001.filtered.sorted.deduped.bam'</li><li>'206_S12_L001.filtered.sorted.deduped.bam'</li><li>'207_S13_L001.filtered.sorted.deduped.bam'</li><li>'208_S14_L001.filtered.sorted.deduped.bam'</li><li>'209_S15_L001.filtered.sorted.deduped.bam'</li><li>'210_S16_L001.filtered.sorted.deduped.bam'</li><li>'211_S20_L001.filtered.sorted.deduped.bam'</li><li>'212_S21_L001.filtered.sorted.deduped.bam'</li><li>'213_S22_L001.filtered.sorted.deduped.bam'</li><li>'214_S23_L001.filtered.sorted.deduped.bam'</li><li>'215_S24_L001.filtered.sorted.deduped.bam'</li><li>'329_S32_L001.filtered.sorted.deduped.bam'</li><li>'330_S33_L001.filtered.sorted.deduped.bam'</li><li>'331_S327_L002.filtered.sorted.deduped.bam'</li><li>'331_S34_L001.filtered.sorted.deduped.bam'</li><li>'332_S35_L001.filtered.sorted.deduped.bam'</li><li>'333_S36_L001.filtered.sorted.deduped.bam'</li><li>'334_S37_L001.filtered.sorted.deduped.bam'</li><li>'335_S331_L002.filtered.sorted.deduped.bam'</li><li>'335_S38_L001.filtered.sorted.deduped.bam'</li><li>'336_S332_L002.filtered.sorted.deduped.bam'</li><li>'336_S39_L001.filtered.sorted.deduped.bam'</li><li>'337_S40_L001.filtered.sorted.deduped.bam'</li></ol>\n"
      ],
      "text/latex": [
       "\\begin{enumerate*}\n",
       "\\item '205\\_S11\\_L001.filtered.sorted.deduped.bam'\n",
       "\\item '206\\_S12\\_L001.filtered.sorted.deduped.bam'\n",
       "\\item '207\\_S13\\_L001.filtered.sorted.deduped.bam'\n",
       "\\item '208\\_S14\\_L001.filtered.sorted.deduped.bam'\n",
       "\\item '209\\_S15\\_L001.filtered.sorted.deduped.bam'\n",
       "\\item '210\\_S16\\_L001.filtered.sorted.deduped.bam'\n",
       "\\item '211\\_S20\\_L001.filtered.sorted.deduped.bam'\n",
       "\\item '212\\_S21\\_L001.filtered.sorted.deduped.bam'\n",
       "\\item '213\\_S22\\_L001.filtered.sorted.deduped.bam'\n",
       "\\item '214\\_S23\\_L001.filtered.sorted.deduped.bam'\n",
       "\\item '215\\_S24\\_L001.filtered.sorted.deduped.bam'\n",
       "\\item '329\\_S32\\_L001.filtered.sorted.deduped.bam'\n",
       "\\item '330\\_S33\\_L001.filtered.sorted.deduped.bam'\n",
       "\\item '331\\_S327\\_L002.filtered.sorted.deduped.bam'\n",
       "\\item '331\\_S34\\_L001.filtered.sorted.deduped.bam'\n",
       "\\item '332\\_S35\\_L001.filtered.sorted.deduped.bam'\n",
       "\\item '333\\_S36\\_L001.filtered.sorted.deduped.bam'\n",
       "\\item '334\\_S37\\_L001.filtered.sorted.deduped.bam'\n",
       "\\item '335\\_S331\\_L002.filtered.sorted.deduped.bam'\n",
       "\\item '335\\_S38\\_L001.filtered.sorted.deduped.bam'\n",
       "\\item '336\\_S332\\_L002.filtered.sorted.deduped.bam'\n",
       "\\item '336\\_S39\\_L001.filtered.sorted.deduped.bam'\n",
       "\\item '337\\_S40\\_L001.filtered.sorted.deduped.bam'\n",
       "\\end{enumerate*}\n"
      ],
      "text/markdown": [
       "1. '205_S11_L001.filtered.sorted.deduped.bam'\n",
       "2. '206_S12_L001.filtered.sorted.deduped.bam'\n",
       "3. '207_S13_L001.filtered.sorted.deduped.bam'\n",
       "4. '208_S14_L001.filtered.sorted.deduped.bam'\n",
       "5. '209_S15_L001.filtered.sorted.deduped.bam'\n",
       "6. '210_S16_L001.filtered.sorted.deduped.bam'\n",
       "7. '211_S20_L001.filtered.sorted.deduped.bam'\n",
       "8. '212_S21_L001.filtered.sorted.deduped.bam'\n",
       "9. '213_S22_L001.filtered.sorted.deduped.bam'\n",
       "10. '214_S23_L001.filtered.sorted.deduped.bam'\n",
       "11. '215_S24_L001.filtered.sorted.deduped.bam'\n",
       "12. '329_S32_L001.filtered.sorted.deduped.bam'\n",
       "13. '330_S33_L001.filtered.sorted.deduped.bam'\n",
       "14. '331_S327_L002.filtered.sorted.deduped.bam'\n",
       "15. '331_S34_L001.filtered.sorted.deduped.bam'\n",
       "16. '332_S35_L001.filtered.sorted.deduped.bam'\n",
       "17. '333_S36_L001.filtered.sorted.deduped.bam'\n",
       "18. '334_S37_L001.filtered.sorted.deduped.bam'\n",
       "19. '335_S331_L002.filtered.sorted.deduped.bam'\n",
       "20. '335_S38_L001.filtered.sorted.deduped.bam'\n",
       "21. '336_S332_L002.filtered.sorted.deduped.bam'\n",
       "22. '336_S39_L001.filtered.sorted.deduped.bam'\n",
       "23. '337_S40_L001.filtered.sorted.deduped.bam'\n",
       "\n",
       "\n"
      ],
      "text/plain": [
       " [1] \"205_S11_L001.filtered.sorted.deduped.bam\" \n",
       " [2] \"206_S12_L001.filtered.sorted.deduped.bam\" \n",
       " [3] \"207_S13_L001.filtered.sorted.deduped.bam\" \n",
       " [4] \"208_S14_L001.filtered.sorted.deduped.bam\" \n",
       " [5] \"209_S15_L001.filtered.sorted.deduped.bam\" \n",
       " [6] \"210_S16_L001.filtered.sorted.deduped.bam\" \n",
       " [7] \"211_S20_L001.filtered.sorted.deduped.bam\" \n",
       " [8] \"212_S21_L001.filtered.sorted.deduped.bam\" \n",
       " [9] \"213_S22_L001.filtered.sorted.deduped.bam\" \n",
       "[10] \"214_S23_L001.filtered.sorted.deduped.bam\" \n",
       "[11] \"215_S24_L001.filtered.sorted.deduped.bam\" \n",
       "[12] \"329_S32_L001.filtered.sorted.deduped.bam\" \n",
       "[13] \"330_S33_L001.filtered.sorted.deduped.bam\" \n",
       "[14] \"331_S327_L002.filtered.sorted.deduped.bam\"\n",
       "[15] \"331_S34_L001.filtered.sorted.deduped.bam\" \n",
       "[16] \"332_S35_L001.filtered.sorted.deduped.bam\" \n",
       "[17] \"333_S36_L001.filtered.sorted.deduped.bam\" \n",
       "[18] \"334_S37_L001.filtered.sorted.deduped.bam\" \n",
       "[19] \"335_S331_L002.filtered.sorted.deduped.bam\"\n",
       "[20] \"335_S38_L001.filtered.sorted.deduped.bam\" \n",
       "[21] \"336_S332_L002.filtered.sorted.deduped.bam\"\n",
       "[22] \"336_S39_L001.filtered.sorted.deduped.bam\" \n",
       "[23] \"337_S40_L001.filtered.sorted.deduped.bam\" "
      ]
     },
     "metadata": {},
     "output_type": "display_data"
    }
   ],
   "source": [
    "setwd('~/dpetrov/MarkB/Orchard2021Data/18_HAFPipe_Validation/Bams/')\n",
    "files = list.files(pattern = '.bam')\n",
    "files"
   ]
  },
  {
   "cell_type": "code",
   "execution_count": 10,
   "id": "8fbf722a",
   "metadata": {},
   "outputs": [
    {
     "data": {
      "text/html": [
       "<table class=\"dataframe\">\n",
       "<caption>A data.frame: 6 × 6</caption>\n",
       "<thead>\n",
       "\t<tr><th></th><th scope=col>Sample</th><th scope=col>Number</th><th scope=col>BamName</th><th scope=col>BaiName</th><th scope=col>DPName</th><th scope=col>AlignStats</th></tr>\n",
       "\t<tr><th></th><th scope=col>&lt;fct&gt;</th><th scope=col>&lt;int&gt;</th><th scope=col>&lt;fct&gt;</th><th scope=col>&lt;fct&gt;</th><th scope=col>&lt;fct&gt;</th><th scope=col>&lt;fct&gt;</th></tr>\n",
       "</thead>\n",
       "<tbody>\n",
       "\t<tr><th scope=row>1</th><td>tp3_F1_E1_rep</td><td>1</td><td>tp3_F1_E1_rep.bam</td><td>tp3_F1_E1_rep.bam.bai</td><td>tp3_F1_E1_rep.dp.txt</td><td>tp3_F1_E1_rep.AlignStats.txt</td></tr>\n",
       "\t<tr><th scope=row>2</th><td>tp3_F1_E3_rep</td><td>3</td><td>tp3_F1_E3_rep.bam</td><td>tp3_F1_E3_rep.bam.bai</td><td>tp3_F1_E3_rep.dp.txt</td><td>tp3_F1_E3_rep.AlignStats.txt</td></tr>\n",
       "\t<tr><th scope=row>3</th><td>tp3_F1_E4_rep</td><td>4</td><td>tp3_F1_E4_rep.bam</td><td>tp3_F1_E4_rep.bam.bai</td><td>tp3_F1_E4_rep.dp.txt</td><td>tp3_F1_E4_rep.AlignStats.txt</td></tr>\n",
       "\t<tr><th scope=row>4</th><td>tp3_F1_E6_rep</td><td>5</td><td>tp3_F1_E6_rep.bam</td><td>tp3_F1_E6_rep.bam.bai</td><td>tp3_F1_E6_rep.dp.txt</td><td>tp3_F1_E6_rep.AlignStats.txt</td></tr>\n",
       "\t<tr><th scope=row>5</th><td>tp3_F1_E7_rep</td><td>6</td><td>tp3_F1_E7_rep.bam</td><td>tp3_F1_E7_rep.bam.bai</td><td>tp3_F1_E7_rep.dp.txt</td><td>tp3_F1_E7_rep.AlignStats.txt</td></tr>\n",
       "\t<tr><th scope=row>6</th><td>tp3_F1_E9_rep</td><td>8</td><td>tp3_F1_E9_rep.bam</td><td>tp3_F1_E9_rep.bam.bai</td><td>tp3_F1_E9_rep.dp.txt</td><td>tp3_F1_E9_rep.AlignStats.txt</td></tr>\n",
       "</tbody>\n",
       "</table>\n"
      ],
      "text/latex": [
       "A data.frame: 6 × 6\n",
       "\\begin{tabular}{r|llllll}\n",
       "  & Sample & Number & BamName & BaiName & DPName & AlignStats\\\\\n",
       "  & <fct> & <int> & <fct> & <fct> & <fct> & <fct>\\\\\n",
       "\\hline\n",
       "\t1 & tp3\\_F1\\_E1\\_rep & 1 & tp3\\_F1\\_E1\\_rep.bam & tp3\\_F1\\_E1\\_rep.bam.bai & tp3\\_F1\\_E1\\_rep.dp.txt & tp3\\_F1\\_E1\\_rep.AlignStats.txt\\\\\n",
       "\t2 & tp3\\_F1\\_E3\\_rep & 3 & tp3\\_F1\\_E3\\_rep.bam & tp3\\_F1\\_E3\\_rep.bam.bai & tp3\\_F1\\_E3\\_rep.dp.txt & tp3\\_F1\\_E3\\_rep.AlignStats.txt\\\\\n",
       "\t3 & tp3\\_F1\\_E4\\_rep & 4 & tp3\\_F1\\_E4\\_rep.bam & tp3\\_F1\\_E4\\_rep.bam.bai & tp3\\_F1\\_E4\\_rep.dp.txt & tp3\\_F1\\_E4\\_rep.AlignStats.txt\\\\\n",
       "\t4 & tp3\\_F1\\_E6\\_rep & 5 & tp3\\_F1\\_E6\\_rep.bam & tp3\\_F1\\_E6\\_rep.bam.bai & tp3\\_F1\\_E6\\_rep.dp.txt & tp3\\_F1\\_E6\\_rep.AlignStats.txt\\\\\n",
       "\t5 & tp3\\_F1\\_E7\\_rep & 6 & tp3\\_F1\\_E7\\_rep.bam & tp3\\_F1\\_E7\\_rep.bam.bai & tp3\\_F1\\_E7\\_rep.dp.txt & tp3\\_F1\\_E7\\_rep.AlignStats.txt\\\\\n",
       "\t6 & tp3\\_F1\\_E9\\_rep & 8 & tp3\\_F1\\_E9\\_rep.bam & tp3\\_F1\\_E9\\_rep.bam.bai & tp3\\_F1\\_E9\\_rep.dp.txt & tp3\\_F1\\_E9\\_rep.AlignStats.txt\\\\\n",
       "\\end{tabular}\n"
      ],
      "text/markdown": [
       "\n",
       "A data.frame: 6 × 6\n",
       "\n",
       "| <!--/--> | Sample &lt;fct&gt; | Number &lt;int&gt; | BamName &lt;fct&gt; | BaiName &lt;fct&gt; | DPName &lt;fct&gt; | AlignStats &lt;fct&gt; |\n",
       "|---|---|---|---|---|---|---|\n",
       "| 1 | tp3_F1_E1_rep | 1 | tp3_F1_E1_rep.bam | tp3_F1_E1_rep.bam.bai | tp3_F1_E1_rep.dp.txt | tp3_F1_E1_rep.AlignStats.txt |\n",
       "| 2 | tp3_F1_E3_rep | 3 | tp3_F1_E3_rep.bam | tp3_F1_E3_rep.bam.bai | tp3_F1_E3_rep.dp.txt | tp3_F1_E3_rep.AlignStats.txt |\n",
       "| 3 | tp3_F1_E4_rep | 4 | tp3_F1_E4_rep.bam | tp3_F1_E4_rep.bam.bai | tp3_F1_E4_rep.dp.txt | tp3_F1_E4_rep.AlignStats.txt |\n",
       "| 4 | tp3_F1_E6_rep | 5 | tp3_F1_E6_rep.bam | tp3_F1_E6_rep.bam.bai | tp3_F1_E6_rep.dp.txt | tp3_F1_E6_rep.AlignStats.txt |\n",
       "| 5 | tp3_F1_E7_rep | 6 | tp3_F1_E7_rep.bam | tp3_F1_E7_rep.bam.bai | tp3_F1_E7_rep.dp.txt | tp3_F1_E7_rep.AlignStats.txt |\n",
       "| 6 | tp3_F1_E9_rep | 8 | tp3_F1_E9_rep.bam | tp3_F1_E9_rep.bam.bai | tp3_F1_E9_rep.dp.txt | tp3_F1_E9_rep.AlignStats.txt |\n",
       "\n"
      ],
      "text/plain": [
       "  Sample        Number BamName           BaiName              \n",
       "1 tp3_F1_E1_rep 1      tp3_F1_E1_rep.bam tp3_F1_E1_rep.bam.bai\n",
       "2 tp3_F1_E3_rep 3      tp3_F1_E3_rep.bam tp3_F1_E3_rep.bam.bai\n",
       "3 tp3_F1_E4_rep 4      tp3_F1_E4_rep.bam tp3_F1_E4_rep.bam.bai\n",
       "4 tp3_F1_E6_rep 5      tp3_F1_E6_rep.bam tp3_F1_E6_rep.bam.bai\n",
       "5 tp3_F1_E7_rep 6      tp3_F1_E7_rep.bam tp3_F1_E7_rep.bam.bai\n",
       "6 tp3_F1_E9_rep 8      tp3_F1_E9_rep.bam tp3_F1_E9_rep.bam.bai\n",
       "  DPName               AlignStats                  \n",
       "1 tp3_F1_E1_rep.dp.txt tp3_F1_E1_rep.AlignStats.txt\n",
       "2 tp3_F1_E3_rep.dp.txt tp3_F1_E3_rep.AlignStats.txt\n",
       "3 tp3_F1_E4_rep.dp.txt tp3_F1_E4_rep.AlignStats.txt\n",
       "4 tp3_F1_E6_rep.dp.txt tp3_F1_E6_rep.AlignStats.txt\n",
       "5 tp3_F1_E7_rep.dp.txt tp3_F1_E7_rep.AlignStats.txt\n",
       "6 tp3_F1_E9_rep.dp.txt tp3_F1_E9_rep.AlignStats.txt"
      ]
     },
     "metadata": {},
     "output_type": "display_data"
    }
   ],
   "source": [
    "ids = read.csv('../SampleID_Meta.csv')\n",
    "head(ids)"
   ]
  },
  {
   "cell_type": "code",
   "execution_count": 21,
   "id": "621a6dc7",
   "metadata": {},
   "outputs": [],
   "source": [
    "for (f in files){\n",
    "    num = strsplit(f, '_')[[1]][1]\n",
    "    d.samp = ids %>% filter(Number == num)\n",
    "    samp = as.character(d.samp %>% pull(Sample))\n",
    "    new.name = paste0(samp, '.HiCov.bam')\n",
    "    file.rename(from = f, to = new.name)\n",
    "}\n"
   ]
  },
  {
   "cell_type": "code",
   "execution_count": 21,
   "id": "14b12716",
   "metadata": {},
   "outputs": [],
   "source": [
    "##assess coverage:\n",
    "setwd('~/dpetrov/MarkB/Orchard2021Data/18_HAFPipe_Validation/Bams/')\n",
    "files = list.files(pattern = 'MeanDP')\n",
    "cov = data.frame()\n",
    "for (f in files){\n",
    "    df = fread(f)\n",
    "    df.cov = cbind(f, df[1,1])\n",
    "    cov = rbind(cov, df.cov)\n",
    "}\n",
    "names(cov) = c('file', 'coverage') \n",
    "cov = cov %>% rowwise() %>% mutate(amount.down = if_else(coverage > 100,\n",
    "                                           (100/coverage),\n",
    "                                           coverage))\n",
    "write.csv(cov, './PreSubSamp.HiCovPoolSeqSamp.Coverage.csv', row.names = FALSE) "
   ]
  },
  {
   "cell_type": "code",
   "execution_count": 19,
   "id": "b80906ac",
   "metadata": {},
   "outputs": [
    {
     "data": {
      "text/html": [
       "0.813008130081301"
      ],
      "text/latex": [
       "0.813008130081301"
      ],
      "text/markdown": [
       "0.813008130081301"
      ],
      "text/plain": [
       "[1] 0.8130081"
      ]
     },
     "metadata": {},
     "output_type": "display_data"
    }
   ],
   "source": [
    "(100/123)"
   ]
  },
  {
   "cell_type": "code",
   "execution_count": 20,
   "id": "ff3918f7",
   "metadata": {},
   "outputs": [
    {
     "data": {
      "text/html": [
       "<table class=\"dataframe\">\n",
       "<caption>A rowwise_df: 16 × 3</caption>\n",
       "<thead>\n",
       "\t<tr><th scope=col>file</th><th scope=col>coverage</th><th scope=col>amount.down</th></tr>\n",
       "\t<tr><th scope=col>&lt;chr&gt;</th><th scope=col>&lt;dbl&gt;</th><th scope=col>&lt;dbl&gt;</th></tr>\n",
       "</thead>\n",
       "<tbody>\n",
       "\t<tr><td>tp11_F1_E1.HiCov_MeanDP.txt</td><td>123.5450</td><td> 0.8094217</td></tr>\n",
       "\t<tr><td>tp11_F1_E3.HiCov_MeanDP.txt</td><td>123.8170</td><td> 0.8076435</td></tr>\n",
       "\t<tr><td>tp11_F1_E4.HiCov_MeanDP.txt</td><td>165.0190</td><td> 0.6059908</td></tr>\n",
       "\t<tr><td>tp11_F1_E5.HiCov_MeanDP.txt</td><td>154.5920</td><td> 0.6468640</td></tr>\n",
       "\t<tr><td>tp11_F1_E7.HiCov_MeanDP.txt</td><td>114.9830</td><td> 0.8696938</td></tr>\n",
       "\t<tr><td>tp11_F1_E8.HiCov_MeanDP.txt</td><td>103.1120</td><td> 0.9698192</td></tr>\n",
       "\t<tr><td>tp3_F1_E1.HiCov_MeanDP.txt </td><td>155.0910</td><td> 0.6447827</td></tr>\n",
       "\t<tr><td>tp3_F1_E10.HiCov_MeanDP.txt</td><td>102.4480</td><td> 0.9761050</td></tr>\n",
       "\t<tr><td>tp3_F1_E11.HiCov_MeanDP.txt</td><td>102.8350</td><td> 0.9724316</td></tr>\n",
       "\t<tr><td>tp3_F1_E12.HiCov_MeanDP.txt</td><td> 96.1027</td><td>96.1027000</td></tr>\n",
       "\t<tr><td>tp3_F1_E2.HiCov_MeanDP.txt </td><td>142.2010</td><td> 0.7032299</td></tr>\n",
       "\t<tr><td>tp3_F1_E3.HiCov_MeanDP.txt </td><td>138.1200</td><td> 0.7240081</td></tr>\n",
       "\t<tr><td>tp3_F1_E4.HiCov_MeanDP.txt </td><td>143.5850</td><td> 0.6964516</td></tr>\n",
       "\t<tr><td>tp3_F1_E6.HiCov_MeanDP.txt </td><td>167.7830</td><td> 0.5960079</td></tr>\n",
       "\t<tr><td>tp3_F1_E7.HiCov_MeanDP.txt </td><td>143.1200</td><td> 0.6987144</td></tr>\n",
       "\t<tr><td>tp3_F1_E8.HiCov_MeanDP.txt </td><td>102.7130</td><td> 0.9735866</td></tr>\n",
       "</tbody>\n",
       "</table>\n"
      ],
      "text/latex": [
       "A rowwise\\_df: 16 × 3\n",
       "\\begin{tabular}{lll}\n",
       " file & coverage & amount.down\\\\\n",
       " <chr> & <dbl> & <dbl>\\\\\n",
       "\\hline\n",
       "\t tp11\\_F1\\_E1.HiCov\\_MeanDP.txt & 123.5450 &  0.8094217\\\\\n",
       "\t tp11\\_F1\\_E3.HiCov\\_MeanDP.txt & 123.8170 &  0.8076435\\\\\n",
       "\t tp11\\_F1\\_E4.HiCov\\_MeanDP.txt & 165.0190 &  0.6059908\\\\\n",
       "\t tp11\\_F1\\_E5.HiCov\\_MeanDP.txt & 154.5920 &  0.6468640\\\\\n",
       "\t tp11\\_F1\\_E7.HiCov\\_MeanDP.txt & 114.9830 &  0.8696938\\\\\n",
       "\t tp11\\_F1\\_E8.HiCov\\_MeanDP.txt & 103.1120 &  0.9698192\\\\\n",
       "\t tp3\\_F1\\_E1.HiCov\\_MeanDP.txt  & 155.0910 &  0.6447827\\\\\n",
       "\t tp3\\_F1\\_E10.HiCov\\_MeanDP.txt & 102.4480 &  0.9761050\\\\\n",
       "\t tp3\\_F1\\_E11.HiCov\\_MeanDP.txt & 102.8350 &  0.9724316\\\\\n",
       "\t tp3\\_F1\\_E12.HiCov\\_MeanDP.txt &  96.1027 & 96.1027000\\\\\n",
       "\t tp3\\_F1\\_E2.HiCov\\_MeanDP.txt  & 142.2010 &  0.7032299\\\\\n",
       "\t tp3\\_F1\\_E3.HiCov\\_MeanDP.txt  & 138.1200 &  0.7240081\\\\\n",
       "\t tp3\\_F1\\_E4.HiCov\\_MeanDP.txt  & 143.5850 &  0.6964516\\\\\n",
       "\t tp3\\_F1\\_E6.HiCov\\_MeanDP.txt  & 167.7830 &  0.5960079\\\\\n",
       "\t tp3\\_F1\\_E7.HiCov\\_MeanDP.txt  & 143.1200 &  0.6987144\\\\\n",
       "\t tp3\\_F1\\_E8.HiCov\\_MeanDP.txt  & 102.7130 &  0.9735866\\\\\n",
       "\\end{tabular}\n"
      ],
      "text/markdown": [
       "\n",
       "A rowwise_df: 16 × 3\n",
       "\n",
       "| file &lt;chr&gt; | coverage &lt;dbl&gt; | amount.down &lt;dbl&gt; |\n",
       "|---|---|---|\n",
       "| tp11_F1_E1.HiCov_MeanDP.txt | 123.5450 |  0.8094217 |\n",
       "| tp11_F1_E3.HiCov_MeanDP.txt | 123.8170 |  0.8076435 |\n",
       "| tp11_F1_E4.HiCov_MeanDP.txt | 165.0190 |  0.6059908 |\n",
       "| tp11_F1_E5.HiCov_MeanDP.txt | 154.5920 |  0.6468640 |\n",
       "| tp11_F1_E7.HiCov_MeanDP.txt | 114.9830 |  0.8696938 |\n",
       "| tp11_F1_E8.HiCov_MeanDP.txt | 103.1120 |  0.9698192 |\n",
       "| tp3_F1_E1.HiCov_MeanDP.txt  | 155.0910 |  0.6447827 |\n",
       "| tp3_F1_E10.HiCov_MeanDP.txt | 102.4480 |  0.9761050 |\n",
       "| tp3_F1_E11.HiCov_MeanDP.txt | 102.8350 |  0.9724316 |\n",
       "| tp3_F1_E12.HiCov_MeanDP.txt |  96.1027 | 96.1027000 |\n",
       "| tp3_F1_E2.HiCov_MeanDP.txt  | 142.2010 |  0.7032299 |\n",
       "| tp3_F1_E3.HiCov_MeanDP.txt  | 138.1200 |  0.7240081 |\n",
       "| tp3_F1_E4.HiCov_MeanDP.txt  | 143.5850 |  0.6964516 |\n",
       "| tp3_F1_E6.HiCov_MeanDP.txt  | 167.7830 |  0.5960079 |\n",
       "| tp3_F1_E7.HiCov_MeanDP.txt  | 143.1200 |  0.6987144 |\n",
       "| tp3_F1_E8.HiCov_MeanDP.txt  | 102.7130 |  0.9735866 |\n",
       "\n"
      ],
      "text/plain": [
       "   file                        coverage amount.down\n",
       "1  tp11_F1_E1.HiCov_MeanDP.txt 123.5450  0.8094217 \n",
       "2  tp11_F1_E3.HiCov_MeanDP.txt 123.8170  0.8076435 \n",
       "3  tp11_F1_E4.HiCov_MeanDP.txt 165.0190  0.6059908 \n",
       "4  tp11_F1_E5.HiCov_MeanDP.txt 154.5920  0.6468640 \n",
       "5  tp11_F1_E7.HiCov_MeanDP.txt 114.9830  0.8696938 \n",
       "6  tp11_F1_E8.HiCov_MeanDP.txt 103.1120  0.9698192 \n",
       "7  tp3_F1_E1.HiCov_MeanDP.txt  155.0910  0.6447827 \n",
       "8  tp3_F1_E10.HiCov_MeanDP.txt 102.4480  0.9761050 \n",
       "9  tp3_F1_E11.HiCov_MeanDP.txt 102.8350  0.9724316 \n",
       "10 tp3_F1_E12.HiCov_MeanDP.txt  96.1027 96.1027000 \n",
       "11 tp3_F1_E2.HiCov_MeanDP.txt  142.2010  0.7032299 \n",
       "12 tp3_F1_E3.HiCov_MeanDP.txt  138.1200  0.7240081 \n",
       "13 tp3_F1_E4.HiCov_MeanDP.txt  143.5850  0.6964516 \n",
       "14 tp3_F1_E6.HiCov_MeanDP.txt  167.7830  0.5960079 \n",
       "15 tp3_F1_E7.HiCov_MeanDP.txt  143.1200  0.6987144 \n",
       "16 tp3_F1_E8.HiCov_MeanDP.txt  102.7130  0.9735866 "
      ]
     },
     "metadata": {},
     "output_type": "display_data"
    }
   ],
   "source": [
    "cov"
   ]
  },
  {
   "cell_type": "code",
   "execution_count": 19,
   "id": "d0069deb",
   "metadata": {},
   "outputs": [
    {
     "data": {
      "text/html": [
       "0.76455"
      ],
      "text/latex": [
       "0.76455"
      ],
      "text/markdown": [
       "0.76455"
      ],
      "text/plain": [
       "[1] 0.76455"
      ]
     },
     "metadata": {},
     "output_type": "display_data"
    }
   ],
   "source": [
    "1 - ((123.545/100) -1)"
   ]
  },
  {
   "cell_type": "code",
   "execution_count": 2,
   "id": "9b5df79e",
   "metadata": {},
   "outputs": [],
   "source": [
    "##assess coverage:\n",
    "setwd('~/dpetrov/MarkB/Orchard2021Data/18_HAFPipe_Validation/')\n",
    "files = list.files(pattern = 'MeanDP')\n",
    "cov = data.frame()\n",
    "for (f in files){\n",
    "    df = fread(f)\n",
    "    df.cov = cbind(f, df[1,1])\n",
    "    cov = rbind(cov, df.cov)\n",
    "}\n",
    "names(cov) = c('file', 'coverage') \n",
    "#cov = cov %>% rowwise() %>% mutate(amount.down = if_else(coverage > 100,\n",
    " #                                          1 - ((coverage/100) -1)\n",
    "  #                                        , coverage))\n"
   ]
  },
  {
   "cell_type": "code",
   "execution_count": 4,
   "id": "6f49c6fe",
   "metadata": {},
   "outputs": [
    {
     "data": {
      "text/html": [
       "<table class=\"dataframe\">\n",
       "<caption>A data.table: 8 × 2</caption>\n",
       "<thead>\n",
       "\t<tr><th scope=col>file</th><th scope=col>coverage</th></tr>\n",
       "\t<tr><th scope=col>&lt;chr&gt;</th><th scope=col>&lt;dbl&gt;</th></tr>\n",
       "</thead>\n",
       "<tbody>\n",
       "\t<tr><td>tp11_F1_E4.100x_MeanDP.txt</td><td>57.7341</td></tr>\n",
       "\t<tr><td>tp11_F1_E5.100x_MeanDP.txt</td><td>70.2156</td></tr>\n",
       "\t<tr><td>tp3_F1_E1.100x_MeanDP.txt </td><td>69.6543</td></tr>\n",
       "\t<tr><td>tp3_F1_E2.100x_MeanDP.txt </td><td>82.1969</td></tr>\n",
       "\t<tr><td>tp3_F1_E3.100x_MeanDP.txt </td><td>85.4757</td></tr>\n",
       "\t<tr><td>tp3_F1_E4.100x_MeanDP.txt </td><td>80.9973</td></tr>\n",
       "\t<tr><td>tp3_F1_E6.100x_MeanDP.txt </td><td>54.0684</td></tr>\n",
       "\t<tr><td>tp3_F1_E7.100x_MeanDP.txt </td><td>81.3866</td></tr>\n",
       "</tbody>\n",
       "</table>\n"
      ],
      "text/latex": [
       "A data.table: 8 × 2\n",
       "\\begin{tabular}{ll}\n",
       " file & coverage\\\\\n",
       " <chr> & <dbl>\\\\\n",
       "\\hline\n",
       "\t tp11\\_F1\\_E4.100x\\_MeanDP.txt & 57.7341\\\\\n",
       "\t tp11\\_F1\\_E5.100x\\_MeanDP.txt & 70.2156\\\\\n",
       "\t tp3\\_F1\\_E1.100x\\_MeanDP.txt  & 69.6543\\\\\n",
       "\t tp3\\_F1\\_E2.100x\\_MeanDP.txt  & 82.1969\\\\\n",
       "\t tp3\\_F1\\_E3.100x\\_MeanDP.txt  & 85.4757\\\\\n",
       "\t tp3\\_F1\\_E4.100x\\_MeanDP.txt  & 80.9973\\\\\n",
       "\t tp3\\_F1\\_E6.100x\\_MeanDP.txt  & 54.0684\\\\\n",
       "\t tp3\\_F1\\_E7.100x\\_MeanDP.txt  & 81.3866\\\\\n",
       "\\end{tabular}\n"
      ],
      "text/markdown": [
       "\n",
       "A data.table: 8 × 2\n",
       "\n",
       "| file &lt;chr&gt; | coverage &lt;dbl&gt; |\n",
       "|---|---|\n",
       "| tp11_F1_E4.100x_MeanDP.txt | 57.7341 |\n",
       "| tp11_F1_E5.100x_MeanDP.txt | 70.2156 |\n",
       "| tp3_F1_E1.100x_MeanDP.txt  | 69.6543 |\n",
       "| tp3_F1_E2.100x_MeanDP.txt  | 82.1969 |\n",
       "| tp3_F1_E3.100x_MeanDP.txt  | 85.4757 |\n",
       "| tp3_F1_E4.100x_MeanDP.txt  | 80.9973 |\n",
       "| tp3_F1_E6.100x_MeanDP.txt  | 54.0684 |\n",
       "| tp3_F1_E7.100x_MeanDP.txt  | 81.3866 |\n",
       "\n"
      ],
      "text/plain": [
       "  file                       coverage\n",
       "1 tp11_F1_E4.100x_MeanDP.txt 57.7341 \n",
       "2 tp11_F1_E5.100x_MeanDP.txt 70.2156 \n",
       "3 tp3_F1_E1.100x_MeanDP.txt  69.6543 \n",
       "4 tp3_F1_E2.100x_MeanDP.txt  82.1969 \n",
       "5 tp3_F1_E3.100x_MeanDP.txt  85.4757 \n",
       "6 tp3_F1_E4.100x_MeanDP.txt  80.9973 \n",
       "7 tp3_F1_E6.100x_MeanDP.txt  54.0684 \n",
       "8 tp3_F1_E7.100x_MeanDP.txt  81.3866 "
      ]
     },
     "metadata": {},
     "output_type": "display_data"
    }
   ],
   "source": [
    "cov %>% filter(coverage < 94)"
   ]
  },
  {
   "cell_type": "code",
   "execution_count": 9,
   "id": "6e2f7a5d",
   "metadata": {},
   "outputs": [
    {
     "data": {
      "text/html": [
       "108.91254"
      ],
      "text/latex": [
       "108.91254"
      ],
      "text/markdown": [
       "108.91254"
      ],
      "text/plain": [
       "[1] 108.9125"
      ]
     },
     "metadata": {},
     "output_type": "display_data"
    }
   ],
   "source": [
    "165.0190*(1-.34)"
   ]
  },
  {
   "cell_type": "code",
   "execution_count": 7,
   "id": "ed5773aa",
   "metadata": {},
   "outputs": [
    {
     "data": {
      "text/html": [
       "<table class=\"dataframe\">\n",
       "<caption>A data.frame: 16 × 3</caption>\n",
       "<thead>\n",
       "\t<tr><th scope=col>file</th><th scope=col>coverage</th><th scope=col>amount.down</th></tr>\n",
       "\t<tr><th scope=col>&lt;fct&gt;</th><th scope=col>&lt;dbl&gt;</th><th scope=col>&lt;dbl&gt;</th></tr>\n",
       "</thead>\n",
       "<tbody>\n",
       "\t<tr><td>tp11_F1_E1.HiCov_MeanDP.txt</td><td>123.5450</td><td> 0.76455</td></tr>\n",
       "\t<tr><td>tp11_F1_E3.HiCov_MeanDP.txt</td><td>123.8170</td><td> 0.76183</td></tr>\n",
       "\t<tr><td>tp11_F1_E4.HiCov_MeanDP.txt</td><td>165.0190</td><td> 0.34981</td></tr>\n",
       "\t<tr><td>tp11_F1_E5.HiCov_MeanDP.txt</td><td>154.5920</td><td> 0.45408</td></tr>\n",
       "\t<tr><td>tp11_F1_E7.HiCov_MeanDP.txt</td><td>114.9830</td><td> 0.85017</td></tr>\n",
       "\t<tr><td>tp11_F1_E8.HiCov_MeanDP.txt</td><td>103.1120</td><td> 0.96888</td></tr>\n",
       "\t<tr><td>tp3_F1_E1.HiCov_MeanDP.txt </td><td>155.0910</td><td> 0.44909</td></tr>\n",
       "\t<tr><td>tp3_F1_E10.HiCov_MeanDP.txt</td><td>102.4480</td><td> 0.97552</td></tr>\n",
       "\t<tr><td>tp3_F1_E11.HiCov_MeanDP.txt</td><td>102.8350</td><td> 0.97165</td></tr>\n",
       "\t<tr><td>tp3_F1_E12.HiCov_MeanDP.txt</td><td> 96.1027</td><td>96.10270</td></tr>\n",
       "\t<tr><td>tp3_F1_E2.HiCov_MeanDP.txt </td><td>142.2010</td><td> 0.57799</td></tr>\n",
       "\t<tr><td>tp3_F1_E3.HiCov_MeanDP.txt </td><td>138.1200</td><td> 0.61880</td></tr>\n",
       "\t<tr><td>tp3_F1_E4.HiCov_MeanDP.txt </td><td>143.5850</td><td> 0.56415</td></tr>\n",
       "\t<tr><td>tp3_F1_E6.HiCov_MeanDP.txt </td><td>167.7830</td><td> 0.32217</td></tr>\n",
       "\t<tr><td>tp3_F1_E7.HiCov_MeanDP.txt </td><td>143.1200</td><td> 0.56880</td></tr>\n",
       "\t<tr><td>tp3_F1_E8.HiCov_MeanDP.txt </td><td>102.7130</td><td> 0.97287</td></tr>\n",
       "</tbody>\n",
       "</table>\n"
      ],
      "text/latex": [
       "A data.frame: 16 × 3\n",
       "\\begin{tabular}{lll}\n",
       " file & coverage & amount.down\\\\\n",
       " <fct> & <dbl> & <dbl>\\\\\n",
       "\\hline\n",
       "\t tp11\\_F1\\_E1.HiCov\\_MeanDP.txt & 123.5450 &  0.76455\\\\\n",
       "\t tp11\\_F1\\_E3.HiCov\\_MeanDP.txt & 123.8170 &  0.76183\\\\\n",
       "\t tp11\\_F1\\_E4.HiCov\\_MeanDP.txt & 165.0190 &  0.34981\\\\\n",
       "\t tp11\\_F1\\_E5.HiCov\\_MeanDP.txt & 154.5920 &  0.45408\\\\\n",
       "\t tp11\\_F1\\_E7.HiCov\\_MeanDP.txt & 114.9830 &  0.85017\\\\\n",
       "\t tp11\\_F1\\_E8.HiCov\\_MeanDP.txt & 103.1120 &  0.96888\\\\\n",
       "\t tp3\\_F1\\_E1.HiCov\\_MeanDP.txt  & 155.0910 &  0.44909\\\\\n",
       "\t tp3\\_F1\\_E10.HiCov\\_MeanDP.txt & 102.4480 &  0.97552\\\\\n",
       "\t tp3\\_F1\\_E11.HiCov\\_MeanDP.txt & 102.8350 &  0.97165\\\\\n",
       "\t tp3\\_F1\\_E12.HiCov\\_MeanDP.txt &  96.1027 & 96.10270\\\\\n",
       "\t tp3\\_F1\\_E2.HiCov\\_MeanDP.txt  & 142.2010 &  0.57799\\\\\n",
       "\t tp3\\_F1\\_E3.HiCov\\_MeanDP.txt  & 138.1200 &  0.61880\\\\\n",
       "\t tp3\\_F1\\_E4.HiCov\\_MeanDP.txt  & 143.5850 &  0.56415\\\\\n",
       "\t tp3\\_F1\\_E6.HiCov\\_MeanDP.txt  & 167.7830 &  0.32217\\\\\n",
       "\t tp3\\_F1\\_E7.HiCov\\_MeanDP.txt  & 143.1200 &  0.56880\\\\\n",
       "\t tp3\\_F1\\_E8.HiCov\\_MeanDP.txt  & 102.7130 &  0.97287\\\\\n",
       "\\end{tabular}\n"
      ],
      "text/markdown": [
       "\n",
       "A data.frame: 16 × 3\n",
       "\n",
       "| file &lt;fct&gt; | coverage &lt;dbl&gt; | amount.down &lt;dbl&gt; |\n",
       "|---|---|---|\n",
       "| tp11_F1_E1.HiCov_MeanDP.txt | 123.5450 |  0.76455 |\n",
       "| tp11_F1_E3.HiCov_MeanDP.txt | 123.8170 |  0.76183 |\n",
       "| tp11_F1_E4.HiCov_MeanDP.txt | 165.0190 |  0.34981 |\n",
       "| tp11_F1_E5.HiCov_MeanDP.txt | 154.5920 |  0.45408 |\n",
       "| tp11_F1_E7.HiCov_MeanDP.txt | 114.9830 |  0.85017 |\n",
       "| tp11_F1_E8.HiCov_MeanDP.txt | 103.1120 |  0.96888 |\n",
       "| tp3_F1_E1.HiCov_MeanDP.txt  | 155.0910 |  0.44909 |\n",
       "| tp3_F1_E10.HiCov_MeanDP.txt | 102.4480 |  0.97552 |\n",
       "| tp3_F1_E11.HiCov_MeanDP.txt | 102.8350 |  0.97165 |\n",
       "| tp3_F1_E12.HiCov_MeanDP.txt |  96.1027 | 96.10270 |\n",
       "| tp3_F1_E2.HiCov_MeanDP.txt  | 142.2010 |  0.57799 |\n",
       "| tp3_F1_E3.HiCov_MeanDP.txt  | 138.1200 |  0.61880 |\n",
       "| tp3_F1_E4.HiCov_MeanDP.txt  | 143.5850 |  0.56415 |\n",
       "| tp3_F1_E6.HiCov_MeanDP.txt  | 167.7830 |  0.32217 |\n",
       "| tp3_F1_E7.HiCov_MeanDP.txt  | 143.1200 |  0.56880 |\n",
       "| tp3_F1_E8.HiCov_MeanDP.txt  | 102.7130 |  0.97287 |\n",
       "\n"
      ],
      "text/plain": [
       "   file                        coverage amount.down\n",
       "1  tp11_F1_E1.HiCov_MeanDP.txt 123.5450  0.76455   \n",
       "2  tp11_F1_E3.HiCov_MeanDP.txt 123.8170  0.76183   \n",
       "3  tp11_F1_E4.HiCov_MeanDP.txt 165.0190  0.34981   \n",
       "4  tp11_F1_E5.HiCov_MeanDP.txt 154.5920  0.45408   \n",
       "5  tp11_F1_E7.HiCov_MeanDP.txt 114.9830  0.85017   \n",
       "6  tp11_F1_E8.HiCov_MeanDP.txt 103.1120  0.96888   \n",
       "7  tp3_F1_E1.HiCov_MeanDP.txt  155.0910  0.44909   \n",
       "8  tp3_F1_E10.HiCov_MeanDP.txt 102.4480  0.97552   \n",
       "9  tp3_F1_E11.HiCov_MeanDP.txt 102.8350  0.97165   \n",
       "10 tp3_F1_E12.HiCov_MeanDP.txt  96.1027 96.10270   \n",
       "11 tp3_F1_E2.HiCov_MeanDP.txt  142.2010  0.57799   \n",
       "12 tp3_F1_E3.HiCov_MeanDP.txt  138.1200  0.61880   \n",
       "13 tp3_F1_E4.HiCov_MeanDP.txt  143.5850  0.56415   \n",
       "14 tp3_F1_E6.HiCov_MeanDP.txt  167.7830  0.32217   \n",
       "15 tp3_F1_E7.HiCov_MeanDP.txt  143.1200  0.56880   \n",
       "16 tp3_F1_E8.HiCov_MeanDP.txt  102.7130  0.97287   "
      ]
     },
     "metadata": {},
     "output_type": "display_data"
    }
   ],
   "source": [
    "pre.filt = read.csv(\"./Bams/PreSubSamp.HiCovPoolSeqSamp.Coverage.csv\")\n",
    "pre.filt"
   ]
  },
  {
   "cell_type": "code",
   "execution_count": null,
   "id": "cbcc26ee",
   "metadata": {},
   "outputs": [],
   "source": []
  }
 ],
 "metadata": {
  "kernelspec": {
   "display_name": "R",
   "language": "R",
   "name": "ir"
  },
  "language_info": {
   "codemirror_mode": "r",
   "file_extension": ".r",
   "mimetype": "text/x-r-source",
   "name": "R",
   "pygments_lexer": "r",
   "version": "3.5.1"
  }
 },
 "nbformat": 4,
 "nbformat_minor": 5
}
