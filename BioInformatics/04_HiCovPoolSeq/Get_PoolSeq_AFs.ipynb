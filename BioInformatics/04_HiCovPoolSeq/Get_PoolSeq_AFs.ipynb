{
 "cells": [
  {
   "cell_type": "code",
   "execution_count": 1,
   "id": "0abac0c2",
   "metadata": {},
   "outputs": [],
   "source": [
    "#Getting allele frequencies from pool-seq derived estimates\n",
    "#Freq files used were generated on cluster in Bioinformatics/04_HiCovPoolSeq/"
   ]
  },
  {
   "cell_type": "code",
   "execution_count": 1,
   "id": "395b304e",
   "metadata": {},
   "outputs": [
    {
     "name": "stderr",
     "output_type": "stream",
     "text": [
      "── \u001b[1mAttaching packages\u001b[22m ─────────────────────────────────────── tidyverse 1.3.2 ──\n",
      "\u001b[32m✔\u001b[39m \u001b[34mggplot2\u001b[39m 3.4.2     \u001b[32m✔\u001b[39m \u001b[34mpurrr  \u001b[39m 0.3.5\n",
      "\u001b[32m✔\u001b[39m \u001b[34mtibble \u001b[39m 3.2.1     \u001b[32m✔\u001b[39m \u001b[34mdplyr  \u001b[39m 1.1.4\n",
      "\u001b[32m✔\u001b[39m \u001b[34mtidyr  \u001b[39m 1.2.1     \u001b[32m✔\u001b[39m \u001b[34mstringr\u001b[39m 1.4.1\n",
      "\u001b[32m✔\u001b[39m \u001b[34mreadr  \u001b[39m 2.1.4     \u001b[32m✔\u001b[39m \u001b[34mforcats\u001b[39m 0.5.2\n",
      "── \u001b[1mConflicts\u001b[22m ────────────────────────────────────────── tidyverse_conflicts() ──\n",
      "\u001b[31m✖\u001b[39m \u001b[34mdplyr\u001b[39m::\u001b[32mbetween()\u001b[39m   masks \u001b[34mdata.table\u001b[39m::between()\n",
      "\u001b[31m✖\u001b[39m \u001b[34mdplyr\u001b[39m::\u001b[32mfilter()\u001b[39m    masks \u001b[34mstats\u001b[39m::filter()\n",
      "\u001b[31m✖\u001b[39m \u001b[34mdplyr\u001b[39m::\u001b[32mfirst()\u001b[39m     masks \u001b[34mdata.table\u001b[39m::first()\n",
      "\u001b[31m✖\u001b[39m \u001b[34mdplyr\u001b[39m::\u001b[32mlag()\u001b[39m       masks \u001b[34mstats\u001b[39m::lag()\n",
      "\u001b[31m✖\u001b[39m \u001b[34mdplyr\u001b[39m::\u001b[32mlast()\u001b[39m      masks \u001b[34mdata.table\u001b[39m::last()\n",
      "\u001b[31m✖\u001b[39m \u001b[34mpurrr\u001b[39m::\u001b[32mtranspose()\u001b[39m masks \u001b[34mdata.table\u001b[39m::transpose()\n"
     ]
    }
   ],
   "source": [
    "library(data.table)\n",
    "library(tidyverse)"
   ]
  },
  {
   "cell_type": "code",
   "execution_count": 3,
   "id": "804b7638",
   "metadata": {},
   "outputs": [],
   "source": [
    "##Do this for 100x, 75x, 50x, and 25x pool seq samples"
   ]
  },
  {
   "cell_type": "code",
   "execution_count": null,
   "id": "b7111d9d",
   "metadata": {},
   "outputs": [],
   "source": [
    "#100x\n",
    "setwd('~/dpetrov/MarkB/Orchard2021Data/18_HAFPipe_Validation/Bams.100x/')\n",
    "afs = fread('./hi.cov.orch21sites.sync.frq')\n",
    "names(afs) = c('chrom', 'pos', 'ref', 'tp11_F1_E1', 'tp11_F1_E3', 'tp11_F1_E4', 'tp11_F1_E5', 'tp11_F1_E7',\n",
    "          'tp11_F1_E8', 'tp3_F1_E10', 'tp3_F1_E1',  'tp3_F1_E11', 'tp3_F1_E12', 'tp3_F1_E2',\n",
    "          'tp3_F1_E3', 'tp3_F1_E4', 'tp3_F1_E6', 'tp3_F1_E7','tp3_F1_E8')\n",
    "sites.PoolSeq = afs %>% dplyr::select(chrom, pos)\n",
    "afmat.PoolSeq = afs %>% dplyr::select(-chrom, -pos, -ref)\n",
    "samps.PoolSeq = as.data.frame(names(afs)[4:19])\n",
    "afmat.PoolSeq = afs %>% dplyr::select(-chrom, -pos, -ref)\n",
    "save(sites.PoolSeq, afmat.PoolSeq, samps.PoolSeq, file = './orch2021_PoolSeq.100x.RData')\n",
    "#re-order afmat.pool seq in accordance with the haf-pipe generated allele frequencies\n",
    "afmat.PoolSeq = afmat.PoolSeq %>% dplyr::select(tp11_F1_E1, tp11_F1_E3,tp11_F1_E4, tp11_F1_E5,\n",
    "                                              tp11_F1_E7, tp11_F1_E8, tp3_F1_E1, tp3_F1_E10, tp3_F1_E11,\n",
    "                                               tp3_F1_E12, tp3_F1_E2, tp3_F1_E3, tp3_F1_E4,tp3_F1_E6,\n",
    "                                               tp3_F1_E7, tp3_F1_E8)\n",
    "samps.PoolSeq = names(afmat.PoolSeq)\n",
    "\n",
    "save(sites.PoolSeq, afmat.PoolSeq, samps.PoolSeq, file = './orch2021_PoolSeq.100x.RData')"
   ]
  },
  {
   "cell_type": "code",
   "execution_count": 37,
   "id": "2ea5405b",
   "metadata": {},
   "outputs": [],
   "source": [
    "#75x\n",
    "setwd('~/dpetrov/MarkB/Orchard2021Data/18_HAFPipe_Validation/Bams.75x/')\n",
    "afs = fread('./hi.cov.orch21sites.75x.sync.frq')\n",
    "\n",
    "samps = fread('./samps.txt',header = FALSE)\n",
    "samps = samps %>% rowwise() %>% mutate(sample = strsplit(V1, '[.]')[[1]][1])\n",
    "samps = samps %>% pull(sample)\n",
    "names(afs) = c('chrom', 'pos', 'ref', samps)\n",
    "sites.PoolSeq = afs %>% dplyr::select(chrom, pos)\n",
    "afmat.PoolSeq = afs %>% dplyr::select(-chrom, -pos, -ref)\n",
    "samps.PoolSeq = as.data.frame(names(afs)[4:19])\n",
    "afmat.PoolSeq = afs %>% dplyr::select(-chrom, -pos, -ref)\n",
    "#re-order afmat.pool seq in accordance with the haf-pipe generated allele frequencies\n",
    "afmat.PoolSeq = afmat.PoolSeq %>% dplyr::select(tp11_F1_E1, tp11_F1_E3,tp11_F1_E4, tp11_F1_E5,\n",
    "                                              tp11_F1_E7, tp11_F1_E8, tp3_F1_E1, tp3_F1_E10, tp3_F1_E11,\n",
    "                                               tp3_F1_E12, tp3_F1_E2, tp3_F1_E3, tp3_F1_E4,tp3_F1_E6,\n",
    "                                               tp3_F1_E7, tp3_F1_E8)\n",
    "samps.PoolSeq = names(afmat.PoolSeq)\n",
    "df = afmat.PoolSeq\n",
    "df[] <- lapply(df, function(x) if (is.numeric(x)) 1- x else x)\n",
    "afmat.PoolSeq = df\n",
    "save(sites.PoolSeq, afmat.PoolSeq, samps.PoolSeq, file = './orch2021_PoolSeq.75x.RData')"
   ]
  },
  {
   "cell_type": "code",
   "execution_count": 38,
   "id": "32d8cf69",
   "metadata": {},
   "outputs": [],
   "source": [
    "#50x\n",
    "setwd('~/dpetrov/MarkB/Orchard2021Data/18_HAFPipe_Validation/Bams.5x/')\n",
    "afs = fread('./hi.cov.orch21sites.5x.sync.frq')\n",
    "\n",
    "samps = fread('./samps.txt',header = FALSE)\n",
    "samps = samps %>% rowwise() %>% mutate(sample = strsplit(V1, '[.]')[[1]][1])\n",
    "samps = samps %>% pull(sample)\n",
    "names(afs) = c('chrom', 'pos', 'ref', samps)\n",
    "sites.PoolSeq = afs %>% dplyr::select(chrom, pos)\n",
    "afmat.PoolSeq = afs %>% dplyr::select(-chrom, -pos, -ref)\n",
    "samps.PoolSeq = as.data.frame(names(afs)[4:19])\n",
    "afmat.PoolSeq = afs %>% dplyr::select(-chrom, -pos, -ref)\n",
    "#re-order afmat.pool seq in accordance with the haf-pipe generated allele frequencies\n",
    "afmat.PoolSeq = afmat.PoolSeq %>% dplyr::select(tp11_F1_E1, tp11_F1_E3,tp11_F1_E4, tp11_F1_E5,\n",
    "                                              tp11_F1_E7, tp11_F1_E8, tp3_F1_E1, tp3_F1_E10, tp3_F1_E11,\n",
    "                                               tp3_F1_E12, tp3_F1_E2, tp3_F1_E3, tp3_F1_E4,tp3_F1_E6,\n",
    "                                               tp3_F1_E7, tp3_F1_E8)\n",
    "samps.PoolSeq = names(afmat.PoolSeq)\n",
    "df = afmat.PoolSeq\n",
    "df[] <- lapply(df, function(x) if (is.numeric(x)) 1- x else x)\n",
    "afmat.PoolSeq = df\n",
    "save(sites.PoolSeq, afmat.PoolSeq, samps.PoolSeq, file = './orch2021_PoolSeq.50x.RData')"
   ]
  },
  {
   "cell_type": "code",
   "execution_count": 36,
   "id": "8ce32f1e",
   "metadata": {},
   "outputs": [],
   "source": [
    "#25x\n",
    "setwd('~/dpetrov/MarkB/Orchard2021Data/18_HAFPipe_Validation/Bams.25x/')\n",
    "afs = fread('./hi.cov.orch21sites.25x.sync.frq')\n",
    "\n",
    "samps = fread('./samps.txt',header = FALSE)\n",
    "samps = samps %>% rowwise() %>% mutate(sample = strsplit(V1, '[.]')[[1]][1])\n",
    "samps = samps %>% pull(sample)\n",
    "names(afs) = c('chrom', 'pos', 'ref', samps)\n",
    "sites.PoolSeq = afs %>% dplyr::select(chrom, pos)\n",
    "afmat.PoolSeq = afs %>% dplyr::select(-chrom, -pos, -ref)\n",
    "samps.PoolSeq = as.data.frame(names(afs)[4:19])\n",
    "afmat.PoolSeq = afs %>% dplyr::select(-chrom, -pos, -ref)\n",
    "#re-order afmat.pool seq in accordance with the haf-pipe generated allele frequencies\n",
    "afmat.PoolSeq = afmat.PoolSeq %>% dplyr::select(tp11_F1_E1, tp11_F1_E3,tp11_F1_E4, tp11_F1_E5,\n",
    "                                              tp11_F1_E7, tp11_F1_E8, tp3_F1_E1, tp3_F1_E10, tp3_F1_E11,\n",
    "                                               tp3_F1_E12, tp3_F1_E2, tp3_F1_E3, tp3_F1_E4,tp3_F1_E6,\n",
    "                                               tp3_F1_E7, tp3_F1_E8)\n",
    "samps.PoolSeq = names(afmat.PoolSeq)\n",
    "df = afmat.PoolSeq\n",
    "df[] <- lapply(df, function(x) if (is.numeric(x)) 1- x else x)\n",
    "afmat.PoolSeq = df\n",
    "save(sites.PoolSeq, afmat.PoolSeq, samps.PoolSeq, file = './orch2021_PoolSeq.25x.RData')"
   ]
  },
  {
   "cell_type": "code",
   "execution_count": 2,
   "id": "659d5ea4",
   "metadata": {},
   "outputs": [],
   "source": [
    "setwd('~/dpetrov/MarkB/Orchard2021Data/18_HAFPipe_Validation/Bams.08x.A/')\n"
   ]
  },
  {
   "cell_type": "code",
   "execution_count": 3,
   "id": "43e7d105",
   "metadata": {},
   "outputs": [],
   "source": [
    "#8x\n",
    "setwd('~/dpetrov/MarkB/Orchard2021Data/18_HAFPipe_Validation/Bams.08x.A/')\n",
    "afs = fread('./hi.cov.orch21sites.08x.sync.frq')\n",
    "\n",
    "samps = fread('./samps.txt',header = FALSE)\n",
    "samps = samps %>% rowwise() %>% mutate(sample = strsplit(V1, '[.]')[[1]][1])\n",
    "samps = samps %>% pull(sample)\n",
    "names(afs) = c('chrom', 'pos', 'ref', samps)\n",
    "sites.PoolSeq = afs %>% dplyr::select(chrom, pos)\n",
    "afmat.PoolSeq = afs %>% dplyr::select(-chrom, -pos, -ref)\n",
    "samps.PoolSeq = as.data.frame(names(afs)[4:19])\n",
    "afmat.PoolSeq = afs %>% dplyr::select(-chrom, -pos, -ref)\n",
    "#re-order afmat.pool seq in accordance with the haf-pipe generated allele frequencies\n",
    "afmat.PoolSeq = afmat.PoolSeq %>% dplyr::select(tp11_F1_E1, tp11_F1_E3,tp11_F1_E4, tp11_F1_E5,\n",
    "                                              tp11_F1_E7, tp11_F1_E8, tp3_F1_E1, tp3_F1_E10, tp3_F1_E11,\n",
    "                                               tp3_F1_E12, tp3_F1_E2, tp3_F1_E3, tp3_F1_E4,tp3_F1_E6,\n",
    "                                               tp3_F1_E7, tp3_F1_E8)\n",
    "samps.PoolSeq = names(afmat.PoolSeq)\n",
    "df = afmat.PoolSeq\n",
    "df[] <- lapply(df, function(x) if (is.numeric(x)) 1- x else x)\n",
    "afmat.PoolSeq = df\n",
    "save(sites.PoolSeq, afmat.PoolSeq, samps.PoolSeq, file = './orch2021_PoolSeq.8x.RData')"
   ]
  },
  {
   "cell_type": "code",
   "execution_count": null,
   "id": "ff8f0a1b",
   "metadata": {},
   "outputs": [],
   "source": []
  }
 ],
 "metadata": {
  "kernelspec": {
   "display_name": "R",
   "language": "R",
   "name": "ir"
  },
  "language_info": {
   "codemirror_mode": "r",
   "file_extension": ".r",
   "mimetype": "text/x-r-source",
   "name": "R",
   "pygments_lexer": "r",
   "version": "3.5.1"
  }
 },
 "nbformat": 4,
 "nbformat_minor": 5
}
