{
 "cells": [
  {
   "cell_type": "code",
   "execution_count": 1,
   "id": "607eb275",
   "metadata": {},
   "outputs": [],
   "source": [
    "#Downsampling .bam files"
   ]
  },
  {
   "cell_type": "code",
   "execution_count": 2,
   "id": "3df541c9",
   "metadata": {},
   "outputs": [],
   "source": [
    "#First, downsample to 100x - use downsample parameters identified previously:\n"
   ]
  },
  {
   "cell_type": "code",
   "execution_count": 1,
   "id": "a9193588",
   "metadata": {},
   "outputs": [
    {
     "name": "stdout",
     "output_type": "stream",
     "text": [
      "\"file\",\"coverage\",\"amount.down\"\n",
      "\"tp11_F1_E1.HiCov_MeanDP.txt\",123.545,0.76455\n",
      "\"tp11_F1_E3.HiCov_MeanDP.txt\",123.817,0.76183\n",
      "\"tp11_F1_E4.HiCov_MeanDP.txt\",165.019,0.34981\n",
      "\"tp11_F1_E5.HiCov_MeanDP.txt\",154.592,0.45408\n",
      "\"tp11_F1_E7.HiCov_MeanDP.txt\",114.983,0.85017\n",
      "\"tp11_F1_E8.HiCov_MeanDP.txt\",103.112,0.96888\n",
      "\"tp3_F1_E1.HiCov_MeanDP.txt\",155.091,0.44909\n",
      "\"tp3_F1_E10.HiCov_MeanDP.txt\",102.448,0.97552\n",
      "\"tp3_F1_E11.HiCov_MeanDP.txt\",102.835,0.97165\n",
      "\"tp3_F1_E12.HiCov_MeanDP.txt\",96.1027,96.1027\n",
      "\"tp3_F1_E2.HiCov_MeanDP.txt\",142.201,0.57799\n",
      "\"tp3_F1_E3.HiCov_MeanDP.txt\",138.12,0.6188\n",
      "\"tp3_F1_E4.HiCov_MeanDP.txt\",143.585,0.56415\n",
      "\"tp3_F1_E6.HiCov_MeanDP.txt\",167.783,0.32217\n",
      "\"tp3_F1_E7.HiCov_MeanDP.txt\",143.12,0.5688\n",
      "\"tp3_F1_E8.HiCov_MeanDP.txt\",102.713,0.97287\n"
     ]
    }
   ],
   "source": [
    "%%sh \n",
    "cd ~/dpetrov/MarkB/Orchard2021Data/18_HAFPipe_Validation/Bams/\n",
    "cat PreSubSamp.HiCovPoolSeqSamp.Coverage.csv"
   ]
  },
  {
   "cell_type": "code",
   "execution_count": 3,
   "id": "35f38b3e",
   "metadata": {},
   "outputs": [
    {
     "name": "stderr",
     "output_type": "stream",
     "text": [
      "Lmod Warning:\n",
      "-------------------------------------------------------------------------------\n",
      "The following dependent module(s) are not currently loaded: readline/8.2\n",
      "(required by: sqlite/3.44.2)\n",
      "-------------------------------------------------------------------------------\n",
      "\n",
      "\n",
      "\n"
     ]
    }
   ],
   "source": [
    "%%sh \n",
    "\n",
    "ml biology\n",
    "ml samtools\n",
    "\n",
    "cd ~/dpetrov/MarkB/Orchard2021Data/18_HAFPipe_Validation/Bams/\n",
    "\n",
    "samtools view -bs 0.76455 tp11_F1_E1.HiCov.bam > tp11_F1_E1.100x.bam"
   ]
  },
  {
   "cell_type": "code",
   "execution_count": null,
   "id": "9b69afd7",
   "metadata": {},
   "outputs": [],
   "source": [
    "%%sh \n",
    "\n",
    "ml biology\n",
    "ml samtools\n",
    "\n",
    "cd ~/dpetrov/MarkB/Orchard2021Data/18_HAFPipe_Validation/Bams/\n",
    "samtools view -bs 0.76183 tp11_F1_E3.HiCov.bam > tp11_F1_E3.100x.bam\n",
    "samtools view -bs 0.34981 tp11_F1_E4.HiCov.bam > tp11_F1_E4.100x.bam\n",
    "samtools view -bs 0.45408 tp11_F1_E5.HiCov.bam > tp11_F1_E5.100x.bam\n",
    "samtools view -bs 0.85017 tp11_F1_E7.HiCov.bam > tp11_F1_E7.100x.bam\n",
    "samtools view -bs 0.96888 tp11_F1_E8.HiCov.bam > tp11_F1_E8.100x.bam\n",
    "samtools view -bs 0.44909 tp3_F1_E1.HiCov.bam > tp3_F1_E1.100x.bam\n",
    "samtools view -bs 0.97552 tp3_F1_E10.HiCov.bam > tp3_F1_E10.100x.bam\n",
    "samtools view -bs 0.97165 tp3_F1_E11.HiCov.bam > tp3_F1_E11.100x.bam\n",
    "#samtools view -bs 0.76183 tp3_F1_E12.HiCov.bam > tp3_F1_E12.100x.bam\n",
    "samtools view -bs 0.57799 tp3_F1_E2.HiCov.bam > tp3_F1_E2.100x.bam\n",
    "samtools view -bs 0.6188  tp3_F1_E3.HiCov.bam > tp3_F1_E3.100x.bam\n",
    "samtools view -bs 0.56415 tp3_F1_E4.HiCov.bam > tp3_F1_E4.100x.bam\n",
    "samtools view -bs 0.32217 tp3_F1_E6.HiCov.bam > tp3_F1_E6.100x.bam\n",
    "samtools view -bs 0.5688  tp3_F1_E7.HiCov.bam > tp3_F1_E7.100x.bam\n",
    "samtools view -bs 0.97287 tp3_F1_E8.HiCov.bam > tp3_F1_E8.100x.bam\n",
    "\n"
   ]
  },
  {
   "cell_type": "code",
   "execution_count": null,
   "id": "2c944fa9",
   "metadata": {},
   "outputs": [],
   "source": [
    "##Downsample each 100x bam to 8x twice (A and B)\n"
   ]
  },
  {
   "cell_type": "code",
   "execution_count": null,
   "id": "15ca7433",
   "metadata": {},
   "outputs": [],
   "source": [
    "%%sh \n",
    "\n",
    "ml biology\n",
    "ml samtools\n",
    "\n",
    "cd ~/dpetrov/MarkB/Orchard2021Data/18_HAFPipe_Validation/Bams.100x/\n",
    "for i in ./*.bam;do\n",
    "    samtools view -bs 0.08 $i > ${i/.100x.bam/.08x.A.bam} \n",
    "done\n"
   ]
  },
  {
   "cell_type": "code",
   "execution_count": null,
   "id": "7549717d",
   "metadata": {},
   "outputs": [],
   "source": [
    "%%sh \n",
    "\n",
    "ml biology\n",
    "ml samtools\n",
    "\n",
    "cd ~/dpetrov/MarkB/Orchard2021Data/18_HAFPipe_Validation/Bams/\n",
    "for i in ./*.bam;do\n",
    "    samtools view -bs 0.08 $i > ${i/.100x.bam/.08x.B.bam} \n",
    "done\n"
   ]
  }
 ],
 "metadata": {
  "kernelspec": {
   "display_name": "Python 3 (ipykernel)",
   "language": "python",
   "name": "python3"
  },
  "language_info": {
   "codemirror_mode": {
    "name": "ipython",
    "version": 3
   },
   "file_extension": ".py",
   "mimetype": "text/x-python",
   "name": "python",
   "nbconvert_exporter": "python",
   "pygments_lexer": "ipython3",
   "version": "3.9.0"
  }
 },
 "nbformat": 4,
 "nbformat_minor": 5
}
