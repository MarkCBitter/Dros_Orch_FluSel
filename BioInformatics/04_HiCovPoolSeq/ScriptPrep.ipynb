{
 "cells": [
  {
   "cell_type": "code",
   "execution_count": null,
   "id": "484ef919",
   "metadata": {},
   "outputs": [],
   "source": [
    "#Get depth\n",
    "%%sh\n",
    "\n",
    "module load biology\n",
    "module load samtools\n",
    "\n",
    "cd ~/dpetrov/MarkB/Orchard2021Data/18_HAFPipe_Validation/Bams/\n",
    "\n",
    "samtools depth -a $i > ${i/.bam/.dp.txt}"
   ]
  },
  {
   "cell_type": "code",
   "execution_count": null,
   "id": "768ac489",
   "metadata": {},
   "outputs": [],
   "source": [
    "##after mean depth, what's next:\n",
    "#downsample all to the same high coverage depth - get .vcfs and allele frequencies \n",
    "#downsample all to 3, subsampled 8x coveages (same as that used in experiment)\n"
   ]
  },
  {
   "cell_type": "code",
   "execution_count": null,
   "id": "1d2ad957",
   "metadata": {},
   "outputs": [],
   "source": [
    "#call variants from a bam file\n",
    "\n",
    "\n",
    "bcftools mpileup -f all_dmel.fasta -o ${i/.bam/.bcf} -T orch2021.sites.txt $i"
   ]
  },
  {
   "cell_type": "code",
   "execution_count": null,
   "id": "a4ad92dc",
   "metadata": {},
   "outputs": [],
   "source": [
    "#!/bin/bash                                                                                                                                                      \n",
    "#SBATCH --job-name=03C_GenerateVCFs                                                                                                                              \n",
    "#SBATCH --time=12:00:00                                                                                                                                          \n",
    "#SBATCH --mem=300GB                                                                                                                                              \n",
    "#SBATCH --cpus-per-task=2                                                                                                                                        \n",
    "#SBATCH --partition=bigmem                                                                                                                                       \n",
    "#SBATCH --out=out.03C_GenerateVCFs                                                                                                                               \n",
    "\n",
    "module load biology\n",
    "module load samtools\n",
    "\n",
    "Dir=${1}\n",
    "\n",
    "cd ${Dir}\n",
    "\n",
    "for i in ./*.bam;do\n",
    "    bcftools mpileup -f ../all_dmel.fasta -o ${i/.bam/.bcf} -T ../orch2021.sites.txt $i\n",
    "done"
   ]
  },
  {
   "cell_type": "code",
   "execution_count": null,
   "id": "82415975",
   "metadata": {},
   "outputs": [],
   "source": [
    "#bcf to vcf files"
   ]
  },
  {
   "cell_type": "code",
   "execution_count": 3,
   "id": "12aab27b",
   "metadata": {},
   "outputs": [
    {
     "name": "stdout",
     "output_type": "stream",
     "text": [
      "Process is interrupted.\n"
     ]
    }
   ],
   "source": [
    "%%sh\n",
    "ml biology bcftools\n",
    "cd /home/users/mcbitter/dpetrov/MarkB/Orchard2021Data/18_HAFPipe_Validation/Bams.100x\n",
    "for i in ./*.bam;do\n",
    "    bcftools mpileup -f ../all_dmel.fasta -o ${i/.bam/.bcf} -T ../orch2021.sites.txt $i\n",
    "done"
   ]
  },
  {
   "cell_type": "code",
   "execution_count": 5,
   "id": "695b4b62",
   "metadata": {},
   "outputs": [],
   "source": [
    "%%sh\n",
    "cd /home/users/mcbitter/dpetrov/MarkB/Orchard2021Data/18_HAFPipe_Validation/Bams.08x.A\n",
    "\n"
   ]
  },
  {
   "cell_type": "code",
   "execution_count": null,
   "id": "5e1f9168",
   "metadata": {},
   "outputs": [],
   "source": []
  }
 ],
 "metadata": {
  "kernelspec": {
   "display_name": "Python 3 (ipykernel)",
   "language": "python",
   "name": "python3"
  },
  "language_info": {
   "codemirror_mode": {
    "name": "ipython",
    "version": 3
   },
   "file_extension": ".py",
   "mimetype": "text/x-python",
   "name": "python",
   "nbconvert_exporter": "python",
   "pygments_lexer": "ipython3",
   "version": "3.9.0"
  }
 },
 "nbformat": 4,
 "nbformat_minor": 5
}
