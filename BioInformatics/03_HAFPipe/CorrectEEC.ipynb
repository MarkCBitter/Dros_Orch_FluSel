{
 "cells": [
  {
   "cell_type": "code",
   "execution_count": 1,
   "metadata": {},
   "outputs": [
    {
     "name": "stderr",
     "output_type": "stream",
     "text": [
      "── \u001b[1mAttaching packages\u001b[22m ─────────────────────────────────────── tidyverse 1.3.2 ──\n",
      "\u001b[32m✔\u001b[39m \u001b[34mggplot2\u001b[39m 3.4.2      \u001b[32m✔\u001b[39m \u001b[34mpurrr  \u001b[39m 0.3.5 \n",
      "\u001b[32m✔\u001b[39m \u001b[34mtibble \u001b[39m 3.1.8      \u001b[32m✔\u001b[39m \u001b[34mdplyr  \u001b[39m 1.0.10\n",
      "\u001b[32m✔\u001b[39m \u001b[34mtidyr  \u001b[39m 1.2.1      \u001b[32m✔\u001b[39m \u001b[34mstringr\u001b[39m 1.4.1 \n",
      "\u001b[32m✔\u001b[39m \u001b[34mreadr  \u001b[39m 2.1.3      \u001b[32m✔\u001b[39m \u001b[34mforcats\u001b[39m 0.5.2 \n",
      "── \u001b[1mConflicts\u001b[22m ────────────────────────────────────────── tidyverse_conflicts() ──\n",
      "\u001b[31m✖\u001b[39m \u001b[34mdplyr\u001b[39m::\u001b[32mbetween()\u001b[39m   masks \u001b[34mdata.table\u001b[39m::between()\n",
      "\u001b[31m✖\u001b[39m \u001b[34mdplyr\u001b[39m::\u001b[32mfilter()\u001b[39m    masks \u001b[34mstats\u001b[39m::filter()\n",
      "\u001b[31m✖\u001b[39m \u001b[34mdplyr\u001b[39m::\u001b[32mfirst()\u001b[39m     masks \u001b[34mdata.table\u001b[39m::first()\n",
      "\u001b[31m✖\u001b[39m \u001b[34mdplyr\u001b[39m::\u001b[32mlag()\u001b[39m       masks \u001b[34mstats\u001b[39m::lag()\n",
      "\u001b[31m✖\u001b[39m \u001b[34mdplyr\u001b[39m::\u001b[32mlast()\u001b[39m      masks \u001b[34mdata.table\u001b[39m::last()\n",
      "\u001b[31m✖\u001b[39m \u001b[34mpurrr\u001b[39m::\u001b[32mtranspose()\u001b[39m masks \u001b[34mdata.table\u001b[39m::transpose()\n"
     ]
    }
   ],
   "source": [
    "#correcting error of not using percent (used fraction) of missing genotypes \n",
    "library('data.table')\n",
    "library('tidyverse')\n",
    "setwd('~/dpetrov/MarkB/Orchard2021Data/RData/Downsampled/')\n"
   ]
  },
  {
   "cell_type": "code",
   "execution_count": 8,
   "metadata": {
    "collapsed": true
   },
   "outputs": [],
   "source": [
    "##check percent missing \n",
    "d.miss = fread('../../founders/vcfs/plink2.vmiss')"
   ]
  },
  {
   "cell_type": "code",
   "execution_count": 11,
   "metadata": {},
   "outputs": [
    {
     "data": {
      "text/html": [
       "<table class=\"dataframe\">\n",
       "<caption>A tibble: 5 × 2</caption>\n",
       "<thead>\n",
       "\t<tr><th scope=col>chrom</th><th scope=col>mean.frac.miss</th></tr>\n",
       "\t<tr><th scope=col>&lt;chr&gt;</th><th scope=col>&lt;dbl&gt;</th></tr>\n",
       "</thead>\n",
       "<tbody>\n",
       "\t<tr><td>2L</td><td>0.04279916</td></tr>\n",
       "\t<tr><td>2R</td><td>0.03811139</td></tr>\n",
       "\t<tr><td>3L</td><td>0.04430592</td></tr>\n",
       "\t<tr><td>3R</td><td>0.03698547</td></tr>\n",
       "\t<tr><td>X </td><td>0.06444708</td></tr>\n",
       "</tbody>\n",
       "</table>\n"
      ],
      "text/latex": [
       "A tibble: 5 × 2\n",
       "\\begin{tabular}{ll}\n",
       " chrom & mean.frac.miss\\\\\n",
       " <chr> & <dbl>\\\\\n",
       "\\hline\n",
       "\t 2L & 0.04279916\\\\\n",
       "\t 2R & 0.03811139\\\\\n",
       "\t 3L & 0.04430592\\\\\n",
       "\t 3R & 0.03698547\\\\\n",
       "\t X  & 0.06444708\\\\\n",
       "\\end{tabular}\n"
      ],
      "text/markdown": [
       "\n",
       "A tibble: 5 × 2\n",
       "\n",
       "| chrom &lt;chr&gt; | mean.frac.miss &lt;dbl&gt; |\n",
       "|---|---|\n",
       "| 2L | 0.04279916 |\n",
       "| 2R | 0.03811139 |\n",
       "| 3L | 0.04430592 |\n",
       "| 3R | 0.03698547 |\n",
       "| X  | 0.06444708 |\n",
       "\n"
      ],
      "text/plain": [
       "  chrom mean.frac.miss\n",
       "1 2L    0.04279916    \n",
       "2 2R    0.03811139    \n",
       "3 3L    0.04430592    \n",
       "4 3R    0.03698547    \n",
       "5 X     0.06444708    "
      ]
     },
     "metadata": {},
     "output_type": "display_data"
    }
   ],
   "source": [
    "colnames(d.miss) = c('chrom', 'id', 'missing_ct', 'obs_ct', 'frac.miss')\n",
    "d.miss %>% group_by(chrom) %>% summarise(mean.frac.miss = mean(frac.miss))"
   ]
  },
  {
   "cell_type": "code",
   "execution_count": 48,
   "metadata": {
    "collapsed": true
   },
   "outputs": [],
   "source": [
    "chroms = c(\"2L\", \"2R\", \"3L\", \"3R\", \"X\")\n",
    "\n",
    "n.snps = c(nrow(filter(sites, chrom == \"2L\")), nrow(filter(sites, chrom == \"2R\")), nrow(filter(sites, chrom == \"3L\")), nrow(filter(sites, chrom == \"3R\")), nrow(filter(sites, chrom == \"X\")))\n",
    "\n",
    "chrom_length <- 23000000\n",
    "recomb_rate <- 0.0000000239\n",
    "\n",
    "\n",
    "#EEC function from S. Greenblum\n",
    "calc_expected_ec=function(rd,gen,pct_missing,nof_snps,chrom_length,recomb_rate){\n",
    "  \n",
    "#example input: rd=5,gen=20,pct_missing=2,nof_snps=283438\n",
    "# rd: actual read depth\n",
    "# gen: nof generations since population founding\n",
    "# pct_missing: percent of founder genotype calls that are missing (%, not a fraction)\n",
    "# nof_snps: average number of snps per chromosome\n",
    "# chrom_length: average length of a chromosome\n",
    "# recomb_rate: average recombination rate\n",
    "\n",
    "q=18\n",
    "\n",
    "mycoeffs=data.frame(a=0.5199118,b=-0.6909052,c=0.3553630)\n",
    "\n",
    "    \n",
    "winSize=round(qexp(q/100,1/((chrom_length)/((recomb_rate)*(chrom_length)*(gen)+1)))/1000)\n",
    "\n",
    "    \n",
    "nReadsPerWin=(rd)*(nof_snps)*(winSize)*1000/(chrom_length)\n",
    "\n",
    "    \n",
    "ec = 10^(mycoeffs$a * log10( nReadsPerWin ) + mycoeffs$b * log10(1+pct_missing) + mycoeffs$c )\n",
    "\n",
    "ec\n",
    "\n",
    "}\n"
   ]
  },
  {
   "cell_type": "code",
   "execution_count": 52,
   "metadata": {},
   "outputs": [
    {
     "data": {
      "text/html": [
       "<table class=\"dataframe\">\n",
       "<caption>A data.table: 5 × 3</caption>\n",
       "<thead>\n",
       "\t<tr><th scope=col>V1</th><th scope=col>chrom</th><th scope=col>pct</th></tr>\n",
       "\t<tr><th scope=col>&lt;int&gt;</th><th scope=col>&lt;chr&gt;</th><th scope=col>&lt;dbl&gt;</th></tr>\n",
       "</thead>\n",
       "<tbody>\n",
       "\t<tr><td>1</td><td>2L</td><td>0.04279916</td></tr>\n",
       "\t<tr><td>2</td><td>2R</td><td>0.03811139</td></tr>\n",
       "\t<tr><td>3</td><td>3L</td><td>0.04430592</td></tr>\n",
       "\t<tr><td>4</td><td>3R</td><td>0.03698547</td></tr>\n",
       "\t<tr><td>5</td><td>X </td><td>0.06444708</td></tr>\n",
       "</tbody>\n",
       "</table>\n"
      ],
      "text/latex": [
       "A data.table: 5 × 3\n",
       "\\begin{tabular}{lll}\n",
       " V1 & chrom & pct\\\\\n",
       " <int> & <chr> & <dbl>\\\\\n",
       "\\hline\n",
       "\t 1 & 2L & 0.04279916\\\\\n",
       "\t 2 & 2R & 0.03811139\\\\\n",
       "\t 3 & 3L & 0.04430592\\\\\n",
       "\t 4 & 3R & 0.03698547\\\\\n",
       "\t 5 & X  & 0.06444708\\\\\n",
       "\\end{tabular}\n"
      ],
      "text/markdown": [
       "\n",
       "A data.table: 5 × 3\n",
       "\n",
       "| V1 &lt;int&gt; | chrom &lt;chr&gt; | pct &lt;dbl&gt; |\n",
       "|---|---|---|\n",
       "| 1 | 2L | 0.04279916 |\n",
       "| 2 | 2R | 0.03811139 |\n",
       "| 3 | 3L | 0.04430592 |\n",
       "| 4 | 3R | 0.03698547 |\n",
       "| 5 | X  | 0.06444708 |\n",
       "\n"
      ],
      "text/plain": [
       "  V1 chrom pct       \n",
       "1 1  2L    0.04279916\n",
       "2 2  2R    0.03811139\n",
       "3 3  3L    0.04430592\n",
       "4 4  3R    0.03698547\n",
       "5 5  X     0.06444708"
      ]
     },
     "metadata": {},
     "output_type": "display_data"
    }
   ],
   "source": [
    "##These are actually likely the fraction missing - not percent\n",
    "perc.missing = fread('../../founders//inbredv2.filtered.Orch21.PctMissing.csv')\n",
    "perc.missing"
   ]
  },
  {
   "cell_type": "code",
   "execution_count": 3,
   "metadata": {},
   "outputs": [
    {
     "data": {
      "text/html": [
       "3.3341792805907"
      ],
      "text/latex": [
       "3.3341792805907"
      ],
      "text/markdown": [
       "3.3341792805907"
      ],
      "text/plain": [
       "[1] 3.334179"
      ]
     },
     "metadata": {},
     "output_type": "display_data"
    }
   ],
   "source": [
    "#how elevated is eec if use fraction instead of percent missing? -- 3.334 x greater\n",
    "(calc_expected_ec(rd = 8, gen = 14, pct_missing = 0.05, nof_snps = 300000,\n",
    "                 chrom_length = chrom_length, recomb_rate = recomb_rate))/(calc_expected_ec(rd = 8, gen = 14, pct_missing = 5, nof_snps = 300000,\n",
    "                 chrom_length = chrom_length, recomb_rate = recomb_rate))"
   ]
  },
  {
   "cell_type": "code",
   "execution_count": 4,
   "metadata": {},
   "outputs": [
    {
     "data": {
      "text/html": [
       "3.3341792805907"
      ],
      "text/latex": [
       "3.3341792805907"
      ],
      "text/markdown": [
       "3.3341792805907"
      ],
      "text/plain": [
       "[1] 3.334179"
      ]
     },
     "metadata": {},
     "output_type": "display_data"
    }
   ],
   "source": [
    "#how elevated is eec if percent missing is 100x greater? - adjusting rd, gen, and n_of snps to see if this changes things\n",
    "(calc_expected_ec(rd = 6, gen = 5, pct_missing = 0.05, nof_snps = 300000,\n",
    "                 chrom_length = chrom_length, recomb_rate = recomb_rate))/(calc_expected_ec(rd = 6, gen = 5, pct_missing = 5, nof_snps = 300000,\n",
    "                 chrom_length = chrom_length, recomb_rate = recomb_rate))\n",
    "\n",
    "##NO CHANGE - the offset for having the perc. founder missing not be in percent form is ~3.33"
   ]
  },
  {
   "cell_type": "code",
   "execution_count": 8,
   "metadata": {
    "collapsed": true
   },
   "outputs": [],
   "source": [
    "##Adjusting eec values for RData - reduce all by 1/3.33\n",
    "load('./orch2021_Downsampled_META_Filtered.RData')"
   ]
  },
  {
   "cell_type": "code",
   "execution_count": 13,
   "metadata": {
    "collapsed": true
   },
   "outputs": [],
   "source": [
    "n.2L = nrow(sites %>% filter(chrom == '2L'))\n",
    "n.2R = nrow(sites %>% filter(chrom == '2R'))\n",
    "n.3L = nrow(sites %>% filter(chrom == '3L'))\n",
    "n.3R = nrow(sites %>% filter(chrom == '3R'))\n",
    "n.X = nrow(sites %>% filter(chrom == 'X'))\n",
    "\n",
    "df = cbind(sites, eec)\n",
    "df.chr = df %>% group_by(chrom) %>% sample_n(1)\n",
    "df.chr = df.chr[,-c(1:2)]\n",
    "df.chr = sapply(df.chr,\"*\",(1/3.33))\n",
    "df.chr = as.data.frame(df.chr)\n",
    "df.chr = df.chr %>% slice(rep(1:n(), times = c(n.2L, n.2R, n.3L, n.3R, n.X)))\n",
    "df.chr = as.matrix(df.chr)\n",
    "eec = df.chr\n",
    "save(sites, samps, afmat, eec, file = './orch2021_Downsampled_META_Filtered.RData')"
   ]
  },
  {
   "cell_type": "code",
   "execution_count": 20,
   "metadata": {},
   "outputs": [
    {
     "data": {
      "text/html": [
       "<style>\n",
       ".list-inline {list-style: none; margin:0; padding: 0}\n",
       ".list-inline>li {display: inline-block}\n",
       ".list-inline>li:not(:last-child)::after {content: \"\\00b7\"; padding: 0 .5ex}\n",
       "</style>\n",
       "<ol class=list-inline><li>318</li><li>7</li></ol>\n"
      ],
      "text/latex": [
       "\\begin{enumerate*}\n",
       "\\item 318\n",
       "\\item 7\n",
       "\\end{enumerate*}\n"
      ],
      "text/markdown": [
       "1. 318\n",
       "2. 7\n",
       "\n",
       "\n"
      ],
      "text/plain": [
       "[1] 318   7"
      ]
     },
     "metadata": {},
     "output_type": "display_data"
    }
   ],
   "source": [
    "#Now get just E Cage RData\n",
    "dim(samps)\n",
    "df = cbind(samps, t(afmat))\n",
    "df.eec = cbind(samps, t(eec))\n",
    "\n",
    "df = df %>% filter(treatment == 'E' & tech.rep == 'No' & biol.rep == 'No')\n",
    "df.eec = df.eec %>% filter(treatment == 'E' & tech.rep == 'No' & biol.rep == 'No')\n",
    "\n",
    "samps = df[,1:ncol(samps)]\n",
    "afmat = df[,-c(1:ncol(samps))]\n",
    "afmat = t(afmat)\n",
    "\n",
    "eec = df.eec[,-c(1:ncol(samps))]\n",
    "eec = t(eec)\n",
    "\n",
    "save(sites, samps, afmat, eec, file = './orch2021_Downsampled_ECage_Filtered.RData')"
   ]
  },
  {
   "cell_type": "code",
   "execution_count": 23,
   "metadata": {
    "collapsed": true
   },
   "outputs": [],
   "source": [
    "afmat = df[,-c(1:ncol(samps))]\n",
    "afmat = t(afmat)\n",
    "\n",
    "eec = df.eec[,-c(1:ncol(samps))]\n",
    "eec = t(eec)\n",
    "save(sites, samps, afmat, eec, file = './orch2021_Downsampled_ECage_Filtered.RData')"
   ]
  },
  {
   "cell_type": "code",
   "execution_count": 29,
   "metadata": {},
   "outputs": [
    {
     "name": "stdout",
     "output_type": "stream",
     "text": [
      "Loading objects:\n",
      "  sites.base\n",
      "  samps.base\n",
      "  afmat.base\n",
      "  eec.base\n"
     ]
    }
   ],
   "source": [
    "##Doing same for baseline\n",
    "load('./orch2021_Baseline_Downsampled_Filtered.RData', verbose = TRUE)\n",
    "n.2L = nrow(sites %>% filter(chrom == '2L'))\n",
    "n.2R = nrow(sites %>% filter(chrom == '2R'))\n",
    "n.3L = nrow(sites %>% filter(chrom == '3L'))\n",
    "n.3R = nrow(sites %>% filter(chrom == '3R'))\n",
    "n.X = nrow(sites %>% filter(chrom == 'X'))"
   ]
  },
  {
   "cell_type": "code",
   "execution_count": null,
   "metadata": {
    "collapsed": true
   },
   "outputs": [],
   "source": [
    "##Doing same for baseline\n",
    "load('./orch2021_Baseline_Downsampled_Filtered.RData')\n",
    "n.2L = nrow(sites.base %>% filter(chrom == '2L'))\n",
    "n.2R = nrow(sites.base %>% filter(chrom == '2R'))\n",
    "n.3L = nrow(sites.base %>% filter(chrom == '3L'))\n",
    "n.3R = nrow(sites.base %>% filter(chrom == '3R'))\n",
    "n.X = nrow(sites.base %>% filter(chrom == 'X'))\n",
    "df = cbind(sites.base, eec.base)\n",
    "df.chr = df %>% group_by(chrom) %>% sample_n(1)\n",
    "df.chr = df.chr[,-c(1:2)]\n",
    "df.chr = sapply(df.chr,\"*\",(1/3.33))\n",
    "df.chr = as.data.frame(df.chr)\n",
    "df.chr = df.chr %>% slice(rep(1:n(), times = c(n.2L, n.2R, n.3L, n.3R, n.X)))\n",
    "df.chr = as.matrix(df.chr)\n",
    "eec.base = df.chr\n",
    "save(eec.base, samps.base, afmat.base, eec.base, file = './orch2021_Baseline_Downsampled_Filtered.RData')"
   ]
  },
  {
   "cell_type": "code",
   "execution_count": 37,
   "metadata": {
    "collapsed": true
   },
   "outputs": [],
   "source": [
    "#doing same for baseline mean RDaata\n",
    "load('./orch2021_Baseline_Downsampled_Filtered_Mean.RData')\n",
    "n.2L = nrow(sites.base %>% filter(chrom == '2L'))\n",
    "n.2R = nrow(sites.base %>% filter(chrom == '2R'))\n",
    "n.3L = nrow(sites.base %>% filter(chrom == '3L'))\n",
    "n.3R = nrow(sites.base %>% filter(chrom == '3R'))\n",
    "n.X = nrow(sites.base %>% filter(chrom == 'X'))\n",
    "df = cbind(sites.base, eec.base.mean)\n",
    "df.chr = df %>% group_by(chrom) %>% sample_n(1)\n",
    "df.chr = df.chr[,-c(1:2)]\n",
    "df.chr = sapply(df.chr,\"*\",(1/3.33))\n",
    "df.chr = as.data.frame(df.chr)\n",
    "df.chr = df.chr %>% slice(rep(1:n(), times = c(n.2L, n.2R, n.3L, n.3R, n.X)))\n",
    "df.chr = as.matrix(df.chr)\n",
    "eec.base.mean = df.chr\n",
    "\n",
    "save(eec.base.mean, afmat.base.mean, sites.base, file = 'orch2021_Baseline_Downsampled_Filtered_Mean.RData')"
   ]
  },
  {
   "cell_type": "code",
   "execution_count": 2,
   "metadata": {
    "collapsed": true
   },
   "outputs": [],
   "source": [
    "load('./orch2021_Downsampled_TechReps.RData')"
   ]
  },
  {
   "cell_type": "code",
   "execution_count": 3,
   "metadata": {
    "collapsed": true
   },
   "outputs": [],
   "source": [
    "df = cbind(samps, t(afmat))\n",
    "df.eec = cbind(samps, t(eec))"
   ]
  },
  {
   "cell_type": "code",
   "execution_count": 4,
   "metadata": {
    "collapsed": true
   },
   "outputs": [],
   "source": [
    "df = df %>% filter(treatment == 'E')\n",
    "df.eec = df.eec %>% filter(treatment == 'E')"
   ]
  },
  {
   "cell_type": "code",
   "execution_count": 5,
   "metadata": {
    "collapsed": true
   },
   "outputs": [],
   "source": [
    "samps = df[,1:ncol(samps)]"
   ]
  },
  {
   "cell_type": "code",
   "execution_count": 6,
   "metadata": {
    "collapsed": true
   },
   "outputs": [],
   "source": [
    "afmat = df[ , -c(1:ncol(samps))]\n",
    "afmat = t(afmat)\n",
    "eec = df.eec[,-c(1:ncol(samps))]\n",
    "eec = t(eec)"
   ]
  },
  {
   "cell_type": "code",
   "execution_count": 7,
   "metadata": {
    "collapsed": true
   },
   "outputs": [],
   "source": [
    "save(afmat, eec, sites, samps, file = './orch2021_Downsampled_TechReps_ECages.RData')"
   ]
  },
  {
   "cell_type": "code",
   "execution_count": null,
   "metadata": {
    "collapsed": true
   },
   "outputs": [],
   "source": []
  },
  {
   "cell_type": "code",
   "execution_count": null,
   "metadata": {
    "collapsed": true
   },
   "outputs": [],
   "source": []
  }
 ],
 "metadata": {
  "kernelspec": {
   "display_name": "R",
   "language": "R",
   "name": "ir"
  },
  "language_info": {
   "codemirror_mode": "r",
   "file_extension": ".r",
   "mimetype": "text/x-r-source",
   "name": "R",
   "pygments_lexer": "r",
   "version": "3.5.1"
  }
 },
 "nbformat": 4,
 "nbformat_minor": 2
}
