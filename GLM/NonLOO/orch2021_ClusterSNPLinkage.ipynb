{
 "cells": [
  {
   "cell_type": "code",
   "execution_count": 1,
   "id": "62509ba4",
   "metadata": {},
   "outputs": [],
   "source": [
    "#Quantifying linkage between snp pairs in clusters"
   ]
  },
  {
   "cell_type": "code",
   "execution_count": 2,
   "id": "e56ad54a",
   "metadata": {},
   "outputs": [],
   "source": [
    "source(\"/home/users/mcbitter/OrchardProject/Code/config.R\")\n",
    "source(\"/home/users/mcbitter/OrchardProject/Code/helper_functions.R\")\n",
    "source(\"/home/users/mcbitter/OrchardProject/Code/load_packages.R\")\n",
    "source(\"/home/users/mcbitter/OrchardProject/Code/plotting_functions.R\")\n",
    "source(\"/home/users/mcbitter/OrchardProject/Code/workflow_functions.R\")\n",
    "source(\"/home/users/mcbitter/OrchardProject/Code/general_cage_functions.R\")\n",
    "source(\"/home/users/mcbitter/OrchardProject/Code/Orchard2021_Scripts/LOA/loa.orch2021.functions.R\")\n",
    "setwd('~/dpetrov/MarkB/Orchard2021Data/19_ClusterCovariance/')"
   ]
  },
  {
   "cell_type": "code",
   "execution_count": 3,
   "id": "d992e53f",
   "metadata": {},
   "outputs": [],
   "source": [
    "##1. Egor Lappo computed correlations of allele frequencies w/in and btwnn clusters\n",
    "##the resulting file: matched_snp_correlations.csv"
   ]
  },
  {
   "cell_type": "code",
   "execution_count": 11,
   "id": "96e54a8b",
   "metadata": {},
   "outputs": [],
   "source": [
    "#2. separating Egor's results into correlations between frequency vectors and delt p vectors\n",
    "df = read.csv('./matched_snp_correlation_tables/matched_snp_correlations.csv')\n",
    "df.freq = df %>% filter(corr_kind == 'freq')\n",
    "write.csv(df.freq, './matched_snp_correlation_tables/matched_snp_correlations.Freqs.csv', row.names = FALSE)\n",
    "\n",
    "df.delta = df %>% filter(corr_kind == 'delta_averep')\n",
    "write.csv(df.delta, './matched_snp_correlation_tables/matched_snp_correlations.Delta.csv', row.names = FALSE)"
   ]
  },
  {
   "cell_type": "code",
   "execution_count": 4,
   "id": "85914aa1",
   "metadata": {},
   "outputs": [],
   "source": [
    "##3. get rsq btwn pairs of snps on same chromosome and w/in same cluster\n",
    "\n",
    "#3a. rsq btwn snps w/ in same cluster\n",
    "source(\"/home/users/mcbitter/OrchardProject/Code/config.R\")\n",
    "source(\"/home/users/mcbitter/OrchardProject/Code/helper_functions.R\")\n",
    "source(\"/home/users/mcbitter/OrchardProject/Code/load_packages.R\")\n",
    "source(\"/home/users/mcbitter/OrchardProject/Code/plotting_functions.R\")\n",
    "source(\"/home/users/mcbitter/OrchardProject/Code/workflow_functions.R\")\n",
    "source(\"/home/users/mcbitter/OrchardProject/Code/general_cage_functions.R\")\n",
    "source(\"/home/users/mcbitter/OrchardProject/Code/Orchard2021_Scripts/LOA/loa.orch2021.functions.R\")\n",
    "setwd('~/dpetrov/MarkB/Orchard2021Data/19_ClusterCovariance/')\n",
    "\n",
    "df = read.csv('./matched_snp_correlation_tables/matched_snp_correlations.Delta.csv')\n"
   ]
  },
  {
   "cell_type": "code",
   "execution_count": 5,
   "id": "0be4accf",
   "metadata": {},
   "outputs": [],
   "source": [
    "#segregate into w/in and btwn cluster df's\n",
    "df.btwn  = df %>% dplyr::select(position, comparison_position, cl, comparison_cl,  chrom)   %>%\n",
    "   mutate(snpDist = abs(position - comparison_position)) %>% \n",
    "    rename(snp1.pos = position, snp2.pos = comparison_position, snp1.cl = cl, snp2.cl = comparison_cl)\n",
    "\n",
    "df.within  = df %>% dplyr::select(position, pos_ctrl_position, chrom) %>%\n",
    "    mutate(snpDist = abs(position - pos_ctrl_position)) %>% \n",
    "    rename(snp1.pos = position, snp2.pos = pos_ctrl_position)"
   ]
  },
  {
   "cell_type": "code",
   "execution_count": 7,
   "id": "7ab61d3c",
   "metadata": {},
   "outputs": [
    {
     "name": "stdout",
     "output_type": "stream",
     "text": [
      "3L ...225336 pairs...done.\n",
      "2R ...205748 pairs...done.\n",
      "2L ...302744 pairs...done.\n",
      "3R ...275655 pairs...done.\n",
      "X ...90511 pairs...done.\n"
     ]
    },
    {
     "data": {
      "text/html": [
       "<style>\n",
       ".list-inline {list-style: none; margin:0; padding: 0}\n",
       ".list-inline>li {display: inline-block}\n",
       ".list-inline>li:not(:last-child)::after {content: \"\\00b7\"; padding: 0 .5ex}\n",
       "</style>\n",
       "<ol class=list-inline><li>1099994</li><li>5</li></ol>\n"
      ],
      "text/latex": [
       "\\begin{enumerate*}\n",
       "\\item 1099994\n",
       "\\item 5\n",
       "\\end{enumerate*}\n"
      ],
      "text/markdown": [
       "1. 1099994\n",
       "2. 5\n",
       "\n",
       "\n"
      ],
      "text/plain": [
       "[1] 1099994       5"
      ]
     },
     "metadata": {},
     "output_type": "display_data"
    },
    {
     "data": {
      "text/html": [
       "<style>\n",
       ".list-inline {list-style: none; margin:0; padding: 0}\n",
       ".list-inline>li {display: inline-block}\n",
       ".list-inline>li:not(:last-child)::after {content: \"\\00b7\"; padding: 0 .5ex}\n",
       "</style>\n",
       "<ol class=list-inline><li>1099994</li><li>5</li></ol>\n"
      ],
      "text/latex": [
       "\\begin{enumerate*}\n",
       "\\item 1099994\n",
       "\\item 5\n",
       "\\end{enumerate*}\n"
      ],
      "text/markdown": [
       "1. 1099994\n",
       "2. 5\n",
       "\n",
       "\n"
      ],
      "text/plain": [
       "[1] 1099994       5"
      ]
     },
     "metadata": {},
     "output_type": "display_data"
    }
   ],
   "source": [
    "df.within.rsq = data.frame()\n",
    "    for (chr in as.character(unique(df.within$chrom))){\n",
    "        snpFile= paste0(\"~/dpetrov/MarkB/Orchard2021Data/snptables/Orchard2021/inbredv2_withHets.orch2021.\", chr, \".snpTable.numeric\")\n",
    "        df.within.chr = df.within %>% filter(chrom == chr)\n",
    "        snppairs = calc_Rsq_for_snp_pairs(df.within.chr, ncores = 6, snpFile)\n",
    "        snppairs = snppairs \n",
    "        df.within.rsq = rbind(df.within.rsq, snppairs)\n",
    "    }\n",
    "dim(df.within.rsq)\n",
    "df.within.rsq = df.within.rsq %>% rename(position = snp1.pos, pos_ctrl_position = snp2.pos, Rsq.intra.pos.cntrl = Rsq)\n",
    "dim(df.within.rsq)\n"
   ]
  },
  {
   "cell_type": "code",
   "execution_count": null,
   "id": "c7ecdc46",
   "metadata": {},
   "outputs": [],
   "source": [
    "write.csv(df.within.rsq, './df.within.rsq.csv' , row.names = FALSE)"
   ]
  },
  {
   "cell_type": "code",
   "execution_count": null,
   "id": "9ad05f59",
   "metadata": {},
   "outputs": [],
   "source": [
    "df.btwn.rsq = data.frame()\n",
    "    for (chr in as.character(unique(df.btwn$chrom))){\n",
    "        snpFile= paste0(\"~/dpetrov/MarkB/Orchard2021Data/snptables/Orchard2021/inbredv2_withHets.orch2021.\", chr, \".snpTable.numeric\")\n",
    "        df.btwn.chr = df.btwn %>% filter(chrom == chr)\n",
    "        snppairs = calc_Rsq_for_snp_pairs(df.btwn.chr, ncores = 6, snpFile)\n",
    "        df.btwn.rsq = rbind(df.btwn.rsq, snppairs)\n",
    "    }\n",
    "df.btwn.rsq = df.btwn.rsq %>% rename(position = snp1.pos, comparison_position = snp2.pos, Rsq.intra.within = Rsq)%>%\n",
    "    dplyr::select(position, comparison_position, Rsq.comparison)\n",
    "write.csv(df.btwn.rsq, './df.btwn.rsq.csv' , row.names = FALSE)\n"
   ]
  },
  {
   "cell_type": "code",
   "execution_count": 23,
   "id": "ca089e7e",
   "metadata": {},
   "outputs": [],
   "source": [
    "#combine df.within and df.btwn to the freqs and delta correlation files\n",
    "df.w = read.csv('./df.within.rsq.csv')"
   ]
  },
  {
   "cell_type": "code",
   "execution_count": 24,
   "id": "bb90991a",
   "metadata": {},
   "outputs": [],
   "source": [
    "df.b = read.csv('./df.btwn.rsq.csv')\n"
   ]
  },
  {
   "cell_type": "code",
   "execution_count": 26,
   "id": "34120e95",
   "metadata": {},
   "outputs": [
    {
     "name": "stderr",
     "output_type": "stream",
     "text": [
      "\u001b[1m\u001b[22mJoining with `by = join_by(position, chrom, pos_ctrl_position, snpDist)`\n",
      "Warning message in left_join(df.delta, df.w):\n",
      "“\u001b[1m\u001b[22mDetected an unexpected many-to-many relationship between `x` and `y`.\n",
      "\u001b[36mℹ\u001b[39m Row 11 of `x` matches multiple rows in `y`.\n",
      "\u001b[36mℹ\u001b[39m Row 596 of `y` matches multiple rows in `x`.\n",
      "\u001b[36mℹ\u001b[39m If a many-to-many relationship is expected, set `relationship =\n",
      "  \"many-to-many\"` to silence this warning.”\n"
     ]
    }
   ],
   "source": [
    "df.delta = left_join(df.delta, df.w)\n",
    "df.delta = distinct(df.delta)\n",
    "df.delta = left_join(df.delta, df.b)\n",
    "df.delta = distinct(df.delta)"
   ]
  },
  {
   "cell_type": "code",
   "execution_count": 31,
   "id": "e019d5e5",
   "metadata": {},
   "outputs": [
    {
     "name": "stderr",
     "output_type": "stream",
     "text": [
      "\u001b[1m\u001b[22mJoining with `by = join_by(position, chrom, pos_ctrl_position)`\n",
      "Warning message in left_join(df.freq, df.w):\n",
      "“\u001b[1m\u001b[22mDetected an unexpected many-to-many relationship between `x` and `y`.\n",
      "\u001b[36mℹ\u001b[39m Row 11 of `x` matches multiple rows in `y`.\n",
      "\u001b[36mℹ\u001b[39m Row 596 of `y` matches multiple rows in `x`.\n",
      "\u001b[36mℹ\u001b[39m If a many-to-many relationship is expected, set `relationship =\n",
      "  \"many-to-many\"` to silence this warning.”\n",
      "\u001b[1m\u001b[22mJoining with `by = join_by(position, comparison_position)`\n",
      "Warning message in left_join(df.freq, df.b):\n",
      "“\u001b[1m\u001b[22mDetected an unexpected many-to-many relationship between `x` and `y`.\n",
      "\u001b[36mℹ\u001b[39m Row 63 of `x` matches multiple rows in `y`.\n",
      "\u001b[36mℹ\u001b[39m Row 1009605 of `y` matches multiple rows in `x`.\n",
      "\u001b[36mℹ\u001b[39m If a many-to-many relationship is expected, set `relationship =\n",
      "  \"many-to-many\"` to silence this warning.”\n"
     ]
    }
   ],
   "source": [
    "df.freq = left_join(df.freq, df.w)\n",
    "df.freq = distinct(df.freq)\n",
    "df.freq = left_join(df.freq, df.b)\n",
    "df.freq = distinct(df.freq)\n"
   ]
  },
  {
   "cell_type": "code",
   "execution_count": 38,
   "id": "6eb5ad2f",
   "metadata": {},
   "outputs": [],
   "source": [
    "write.csv(df.delta, './matched_snp_correlation_tables/matched_snp_correlations.Delta.csv', row.names = FALSE)\n",
    "write.csv(df.freq, './matched_snp_correlation_tables/matched_snp_correlations.Freqs.csv', row.names = FALSE)"
   ]
  },
  {
   "cell_type": "code",
   "execution_count": 83,
   "id": "04f88bd3",
   "metadata": {},
   "outputs": [],
   "source": [
    "#4. Look at Rsq patterns as a funciton of distance btwn snps"
   ]
  },
  {
   "cell_type": "code",
   "execution_count": 50,
   "id": "2b8878eb",
   "metadata": {},
   "outputs": [],
   "source": [
    "df.d = read.csv('./matched_snp_correlation_tables//matched_snp_correlations.Delta.csv')"
   ]
  },
  {
   "cell_type": "code",
   "execution_count": 51,
   "id": "e4f79438",
   "metadata": {},
   "outputs": [
    {
     "data": {
      "text/html": [
       "<style>\n",
       ".list-inline {list-style: none; margin:0; padding: 0}\n",
       ".list-inline>li {display: inline-block}\n",
       ".list-inline>li:not(:last-child)::after {content: \"\\00b7\"; padding: 0 .5ex}\n",
       "</style>\n",
       "<ol class=list-inline><li>'snp'</li><li>'comparison_snp'</li><li>'pos_ctrl_snp'</li><li>'neg_ctrl_snp'</li><li>'corr_kind'</li><li>'corr_comparison'</li><li>'corr_pos_ctrl'</li><li>'corr_neg_ctrl'</li><li>'position'</li><li>'chrom'</li><li>'cl'</li><li>'comparison_position'</li><li>'comparison_cl'</li><li>'pos_ctrl_position'</li><li>'neg_ctrl_position'</li><li>'neg_ctrl_chrom'</li><li>'neg_ctrl_cl'</li><li>'comparison_distance'</li><li>'comparison_distance_decile'</li><li>'snpDist'</li><li>'Rsq.pos.cntrl'</li><li>'Rsq.comparison'</li></ol>\n"
      ],
      "text/latex": [
       "\\begin{enumerate*}\n",
       "\\item 'snp'\n",
       "\\item 'comparison\\_snp'\n",
       "\\item 'pos\\_ctrl\\_snp'\n",
       "\\item 'neg\\_ctrl\\_snp'\n",
       "\\item 'corr\\_kind'\n",
       "\\item 'corr\\_comparison'\n",
       "\\item 'corr\\_pos\\_ctrl'\n",
       "\\item 'corr\\_neg\\_ctrl'\n",
       "\\item 'position'\n",
       "\\item 'chrom'\n",
       "\\item 'cl'\n",
       "\\item 'comparison\\_position'\n",
       "\\item 'comparison\\_cl'\n",
       "\\item 'pos\\_ctrl\\_position'\n",
       "\\item 'neg\\_ctrl\\_position'\n",
       "\\item 'neg\\_ctrl\\_chrom'\n",
       "\\item 'neg\\_ctrl\\_cl'\n",
       "\\item 'comparison\\_distance'\n",
       "\\item 'comparison\\_distance\\_decile'\n",
       "\\item 'snpDist'\n",
       "\\item 'Rsq.pos.cntrl'\n",
       "\\item 'Rsq.comparison'\n",
       "\\end{enumerate*}\n"
      ],
      "text/markdown": [
       "1. 'snp'\n",
       "2. 'comparison_snp'\n",
       "3. 'pos_ctrl_snp'\n",
       "4. 'neg_ctrl_snp'\n",
       "5. 'corr_kind'\n",
       "6. 'corr_comparison'\n",
       "7. 'corr_pos_ctrl'\n",
       "8. 'corr_neg_ctrl'\n",
       "9. 'position'\n",
       "10. 'chrom'\n",
       "11. 'cl'\n",
       "12. 'comparison_position'\n",
       "13. 'comparison_cl'\n",
       "14. 'pos_ctrl_position'\n",
       "15. 'neg_ctrl_position'\n",
       "16. 'neg_ctrl_chrom'\n",
       "17. 'neg_ctrl_cl'\n",
       "18. 'comparison_distance'\n",
       "19. 'comparison_distance_decile'\n",
       "20. 'snpDist'\n",
       "21. 'Rsq.pos.cntrl'\n",
       "22. 'Rsq.comparison'\n",
       "\n",
       "\n"
      ],
      "text/plain": [
       " [1] \"snp\"                        \"comparison_snp\"            \n",
       " [3] \"pos_ctrl_snp\"               \"neg_ctrl_snp\"              \n",
       " [5] \"corr_kind\"                  \"corr_comparison\"           \n",
       " [7] \"corr_pos_ctrl\"              \"corr_neg_ctrl\"             \n",
       " [9] \"position\"                   \"chrom\"                     \n",
       "[11] \"cl\"                         \"comparison_position\"       \n",
       "[13] \"comparison_cl\"              \"pos_ctrl_position\"         \n",
       "[15] \"neg_ctrl_position\"          \"neg_ctrl_chrom\"            \n",
       "[17] \"neg_ctrl_cl\"                \"comparison_distance\"       \n",
       "[19] \"comparison_distance_decile\" \"snpDist\"                   \n",
       "[21] \"Rsq.pos.cntrl\"              \"Rsq.comparison\"            "
      ]
     },
     "metadata": {},
     "output_type": "display_data"
    }
   ],
   "source": [
    "names(df.d)"
   ]
  },
  {
   "cell_type": "code",
   "execution_count": 52,
   "id": "6fddbace",
   "metadata": {},
   "outputs": [],
   "source": [
    "df.d = df.d %>% mutate(snp.pos.dist = abs(position - pos_ctrl_position),\n",
    "                      snp.comp.dist = abs(position - comparison_position))"
   ]
  },
  {
   "cell_type": "code",
   "execution_count": 79,
   "id": "86c007f1",
   "metadata": {},
   "outputs": [],
   "source": [
    "dist.cntrl = df.d %>% dplyr::select(snp.pos.dist, Rsq.pos.cntrl)\n",
    "names(dist.cntrl) = c('dist','Rsq')\n",
    "dist.cntrl  = dist.cntrl %>% mutate(dist = dist/1000000)\n",
    "\n",
    "dist.comp = df.d %>% dplyr::select(snp.comp.dist, Rsq.comparison)\n",
    "names(dist.comp) = c('dist','Rsq')\n",
    "dist.comp  = dist.comp %>% mutate(dist = dist/1000000)\n"
   ]
  },
  {
   "cell_type": "code",
   "execution_count": 80,
   "id": "6324a626",
   "metadata": {},
   "outputs": [],
   "source": [
    "dist = rbind(dist.cntrl, dist.comp)"
   ]
  },
  {
   "cell_type": "code",
   "execution_count": 112,
   "id": "391d8a98",
   "metadata": {},
   "outputs": [
    {
     "name": "stderr",
     "output_type": "stream",
     "text": [
      "\u001b[1m\u001b[22m`geom_smooth()` using method = 'gam' and formula = 'y ~ s(x, bs = \"cs\")'\n",
      "Warning message:\n",
      "“\u001b[1m\u001b[22mRemoved 1442 rows containing non-finite values (`stat_smooth()`).”\n",
      "\u001b[1m\u001b[22m`geom_smooth()` using method = 'gam' and formula = 'y ~ s(x, bs = \"cs\")'\n",
      "Warning message:\n",
      "“\u001b[1m\u001b[22mRemoved 1442 rows containing non-finite values (`stat_smooth()`).”\n"
     ]
    },
    {
     "data": {
      "image/png": "[encoded data removed]",
      "text/plain": [
       "plot without title"
      ]
     },
     "metadata": {
      "image/png": {
       "height": 420,
       "width": 420
      }
     },
     "output_type": "display_data"
    }
   ],
   "source": [
    "p = ggplot(na.omit(dist) %>% sample_n(10000), aes(x = dist, y = Rsq)) +\n",
    "    geom_smooth(se = F, colour = 'black') +\n",
    "    xlim(0,10) +\n",
    "    ylab('Linkage (Rsq)') +\n",
    "    theme_bw(base_size = 20) +\n",
    "    xlab('Distance (Mb)') +\n",
    "    geom_hline(yintercept = 0.03, linetype = 'dashed', colour = 'grey', size = 1)\n",
    "p\n",
    "ggsave( '../Figures/ClusterLinkage/Linkage.Meta.pdf', p, width = 10, height = 10)"
   ]
  },
  {
   "cell_type": "code",
   "execution_count": 110,
   "id": "208dda07",
   "metadata": {},
   "outputs": [
    {
     "name": "stderr",
     "output_type": "stream",
     "text": [
      "\u001b[1m\u001b[22m`geom_smooth()` using method = 'gam' and formula = 'y ~ s(x, bs = \"cs\")'\n",
      "Warning message:\n",
      "“\u001b[1m\u001b[22mRemoved 17 rows containing non-finite values (`stat_smooth()`).”\n",
      "\u001b[1m\u001b[22m`geom_smooth()` using method = 'gam' and formula = 'y ~ s(x, bs = \"cs\")'\n",
      "Warning message:\n",
      "“\u001b[1m\u001b[22mRemoved 17 rows containing non-finite values (`stat_smooth()`).”\n"
     ]
    },
    {
     "data": {
      "image/png": "[encoded data removed]",
      "text/plain": [
       "plot without title"
      ]
     },
     "metadata": {
      "image/png": {
       "height": 420,
       "width": 420
      }
     },
     "output_type": "display_data"
    }
   ],
   "source": [
    "p = ggplot(dist.cntrl %>% sample_n(10000), aes(x = dist, y = Rsq)) +\n",
    "    geom_smooth(se = F, colour = 'red') +\n",
    "    xlim(0,2.5) +\n",
    "    ylab('Linkage (Rsq)') +\n",
    "    theme_bw(base_size = 20) +\n",
    "    xlab('Distance (Mb)') +\n",
    "    geom_hline(yintercept = 0.03, linetype = 'dashed', colour = 'grey', size = 1)\n",
    "\n",
    "p\n",
    "ggsave( '../Figures/ClusterLinkage/Linkage.IntraClust.pdf', p, width = 10, height = 10)"
   ]
  },
  {
   "cell_type": "code",
   "execution_count": 111,
   "id": "05f62747",
   "metadata": {},
   "outputs": [
    {
     "name": "stderr",
     "output_type": "stream",
     "text": [
      "\u001b[1m\u001b[22m`geom_smooth()` using method = 'gam' and formula = 'y ~ s(x, bs = \"cs\")'\n",
      "Warning message:\n",
      "“\u001b[1m\u001b[22mRemoved 285 rows containing non-finite values (`stat_smooth()`).”\n",
      "\u001b[1m\u001b[22m`geom_smooth()` using method = 'gam' and formula = 'y ~ s(x, bs = \"cs\")'\n",
      "Warning message:\n",
      "“\u001b[1m\u001b[22mRemoved 285 rows containing non-finite values (`stat_smooth()`).”\n"
     ]
    },
    {
     "data": {
      "image/png": "[encoded data removed]",
      "text/plain": [
       "plot without title"
      ]
     },
     "metadata": {
      "image/png": {
       "height": 420,
       "width": 420
      }
     },
     "output_type": "display_data"
    }
   ],
   "source": [
    "p = ggplot(dist.comp %>% sample_n(1000), aes(x = dist, y = Rsq)) +\n",
    "    geom_smooth(se = F, colour = 'blue') +\n",
    "    xlim(0,10) +\n",
    "    theme_bw(base_size = 20) +\n",
    "    ylim(0, 0.75) +\n",
    "    ylab('Linkage (Rsq)') +\n",
    "    xlab('Distance (Mb)') +\n",
    "    geom_hline(yintercept = 0.03, linetype = 'dashed', colour = 'grey', size = 1)\n",
    "\n",
    "p\n",
    "ggsave( '../Figures/ClusterLinkage/Linkage.InterClust.pdf', p, width = 10, height = 10)"
   ]
  }
 ],
 "metadata": {
  "kernelspec": {
   "display_name": "R",
   "language": "R",
   "name": "ir"
  },
  "language_info": {
   "codemirror_mode": "r",
   "file_extension": ".r",
   "mimetype": "text/x-r-source",
   "name": "R",
   "pygments_lexer": "r",
   "version": "3.5.1"
  }
 },
 "nbformat": 4,
 "nbformat_minor": 5
}
