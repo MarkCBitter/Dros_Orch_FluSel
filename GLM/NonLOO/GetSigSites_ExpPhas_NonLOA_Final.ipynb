{
 "cells": [
  {
   "cell_type": "code",
   "execution_count": 1,
   "metadata": {
    "collapsed": true
   },
   "outputs": [],
   "source": [
    "##Code for getting significant sites  from GLM regressions"
   ]
  },
  {
   "cell_type": "code",
   "execution_count": null,
   "metadata": {
    "collapsed": true
   },
   "outputs": [],
   "source": [
    "source('/home/users/mcbitter/OrchardProject/Code/config.R')\n",
    "source('/home/users/mcbitter/OrchardProject/Code/helper_functions.R')\n",
    "source('/home/users/mcbitter/OrchardProject/Code/load_packages.R')\n",
    "source('/home/users/mcbitter/OrchardProject/Code/plotting_functions.R')\n",
    "source('/home/users/mcbitter/OrchardProject/Code/workflow_functions.R')\n",
    "source('/home/users/mcbitter/OrchardProject/Code/general_cage_functions.R')\n",
    "setwd('~/dpetrov/MarkB/Orchard2021Data/09_ExpandingPhases/NonLOA/')\n",
    "\n"
   ]
  },
  {
   "cell_type": "code",
   "execution_count": 2,
   "metadata": {
    "collapsed": true
   },
   "outputs": [],
   "source": [
    "Get.Sig.Match.orch21 = function(glmres, HAFsFile) {\n",
    "    load(HAFsFile)\n",
    "    load(glmres)\n",
    "    seg.length = strsplit(glmres, \"[_]\")[[1]][2]\n",
    "    sites = df.glm %>% dplyr::select(chrom, pos)\n",
    "    comparisons = grep(\"coef.\", names(df.glm), value = TRUE)\n",
    "        for (i in (1:length(comparisons))) {\n",
    "            comparisons[i] = strsplit(comparisons[i], \"[.]\")[[1]][2]\n",
    "        }\n",
    "    af.shifts <- get_af_shifts(afmat, samps, cage_set = NULL, \n",
    "                comparisons)\n",
    "    FDR = get_glm_FDR.V2(df.glm)\n",
    "    df.sig <- get_sig_sites(df.glm, comparisons, FDR, afShifts = af.shifts, \n",
    "        fdrThreshs, esThreshs)\n",
    "    write.csv(df.sig, paste0(\"df.sig.ExpandingPhases.\", seg.length, \n",
    "        \".orch21.csv\"), row.names = FALSE)\n",
    "    matched.sites = read.csv('~/dpetrov/MarkB/Orchard2021Data/RData/Downsampled/ShuffledSites10X/Orch2021.ShuffledSites10x.csv')\n",
    "    #Get one of the 10 random columns of shuffled sites\n",
    "    rand.col = floor(runif(1, min=5, max=14))\n",
    "    matched.sites.loc = matched.sites[,c(2,3,4,rand.col)]\n",
    "    names(matched.sites.loc) = c('chrom', 'pos', 'af.base.mean', 'pos.matched')\n",
    "\n",
    "    ##join df.sig to matched.sites dataframe\n",
    "    df.sig.matched = left_join(df.sig, matched.sites.loc)\n",
    "\n",
    "    write.csv(df.sig.matched, paste0(\"df.sig.Matched.ExpandingPhases.\", seg.length, \n",
    "        \".orch21.csv\"), row.names = FALSE)\n",
    "    \n",
    "    }\n",
    "\n",
    "Get.Sig.Match.orch21.Discrete = function(glmres, HAFsFile) {\n",
    "    load(HAFsFile)\n",
    "    load(glmres)\n",
    "    seg.length = strsplit(glmres, \"[_]\")[[1]][2]\n",
    "    sites = df.glm %>% dplyr::select(chrom, pos)\n",
    "    comparisons = grep(\"coef.\", names(df.glm), value = TRUE)\n",
    "        for (i in (1:length(comparisons))) {\n",
    "            comparisons[i] = strsplit(comparisons[i], \"[.]\")[[1]][2]\n",
    "        }\n",
    "    af.shifts <- get_af_shifts(afmat, samps, cage_set = NULL, \n",
    "                comparisons)\n",
    "    FDR = get_glm_FDR.V2(df.glm)\n",
    "    df.sig <- get_sig_sites(df.glm, comparisons, FDR, afShifts = af.shifts, \n",
    "        fdrThreshs, esThreshs)\n",
    "    write.csv(df.sig, paste0(\"df.sig.ExpandingPhases.\", seg.length, \n",
    "        \".orch21.csv\"), row.names = FALSE)\n",
    "        \n",
    "    }"
   ]
  },
  {
   "cell_type": "code",
   "execution_count": null,
   "metadata": {
    "collapsed": true
   },
   "outputs": [],
   "source": [
    "#All continuous time GLM's (i.e. uses intermediary time points)\n",
    "source(\"/home/users/mcbitter/OrchardProject/Code/config.R\")\n",
    "source(\"/home/users/mcbitter/OrchardProject/Code/helper_functions.R\")\n",
    "source(\"/home/users/mcbitter/OrchardProject/Code/load_packages.R\")\n",
    "source(\"/home/users/mcbitter/OrchardProject/Code/plotting_functions.R\")\n",
    "source(\"/home/users/mcbitter/OrchardProject/Code/workflow_functions.R\")\n",
    "source(\"/home/users/mcbitter/OrchardProject/Code/general_cage_functions.R\")\n",
    "source(\"/home/users/mcbitter/OrchardProject/Code/Orchard2021_Scripts/LOA/loa.orch2021.functions.R\")\n",
    "setwd('~/dpetrov/MarkB/Orchard2021Data/05_GLM/')\n",
    "\n",
    "files = list.files(pattern = '^ExpandingPhases')\n",
    "seg.lengths = c()\n",
    "for (file in files){\n",
    "    seg.length = strsplit(file, '[_]')[[1]][2]\n",
    "    seg.lengths = cbind(seg.lengths, seg.length)\n",
    "}\n",
    "seg.lengths = as.vector(seg.lengths[1,])\n",
    "for (length in seg.lengths){\n",
    "    seg.length = length\n",
    "    Get.Sig.Match.orch21(paste0('./ExpandingPhases_', length, '_glmcage.orch2021.RData'),\n",
    "                               '~/dpetrov/MarkB/Orchard2021Data/RData/Downsampled/orch2021_Downsampled_ECage_Filtered.RData')\n",
    "}\n"
   ]
  },
  {
   "cell_type": "code",
   "execution_count": 9,
   "metadata": {
    "collapsed": true
   },
   "outputs": [],
   "source": [
    "#All discrete time GLM's (just uses first and final time point of interval)\n",
    "source(\"/home/users/mcbitter/OrchardProject/Code/config.R\")\n",
    "source(\"/home/users/mcbitter/OrchardProject/Code/helper_functions.R\")\n",
    "source(\"/home/users/mcbitter/OrchardProject/Code/load_packages.R\")\n",
    "source(\"/home/users/mcbitter/OrchardProject/Code/plotting_functions.R\")\n",
    "source(\"/home/users/mcbitter/OrchardProject/Code/workflow_functions.R\")\n",
    "source(\"/home/users/mcbitter/OrchardProject/Code/general_cage_functions.R\")\n",
    "source(\"/home/users/mcbitter/OrchardProject/Code/Orchard2021_Scripts/LOA/loa.orch2021.functions.R\")\n",
    "setwd('~/dpetrov/MarkB/Orchard2021Data/05_GLM/')\n",
    "\n",
    "files = list.files(pattern = '^ExpandingPhases')\n",
    "seg.lengths = c()\n",
    "for (file in files){\n",
    "    seg.length = strsplit(file, '[_]')[[1]][2]\n",
    "    seg.lengths = cbind(seg.lengths, seg.length)\n",
    "}\n",
    "seg.lengths = as.vector(seg.lengths[1,])\n",
    "for (length in seg.lengths){\n",
    "    seg.length = length\n",
    "    Get.Sig.Match.orch21.Discrete(paste0('./ExpandingPhases_', length, '_glm_Discrete.ecage.orch2021.RData'),\n",
    "                               '~/dpetrov/MarkB/Orchard2021Data/RData/Downsampled/orch2021_Downsampled_ECage_Filtered.RData')\n",
    "}\n"
   ]
  },
  {
   "cell_type": "code",
   "execution_count": null,
   "metadata": {
    "collapsed": true
   },
   "outputs": [],
   "source": [
    "seg.length = 'BiWeekly'\n",
    "Get.Sig.Match.orch21('./ExpandingPhases_BiWeekly_glm.ecage.orch2021.RData',\n",
    "            '~/dpetrov/MarkB/Orchard2021Data/RData/Downsampled/orch2021_Downsampled_ECage_Filtered.RData')"
   ]
  }
 ],
 "metadata": {
  "kernelspec": {
   "display_name": "R",
   "language": "R",
   "name": "ir"
  },
  "language_info": {
   "codemirror_mode": "r",
   "file_extension": ".r",
   "mimetype": "text/x-r-source",
   "name": "R",
   "pygments_lexer": "r",
   "version": "3.5.1"
  }
 },
 "nbformat": 4,
 "nbformat_minor": 2
}
