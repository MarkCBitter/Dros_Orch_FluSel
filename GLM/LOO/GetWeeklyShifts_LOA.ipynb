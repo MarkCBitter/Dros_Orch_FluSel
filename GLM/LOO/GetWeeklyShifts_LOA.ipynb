{
 "cells": [
  {
   "cell_type": "code",
   "execution_count": 38,
   "metadata": {
    "collapsed": true
   },
   "outputs": [],
   "source": [
    "#Getting weekly shift data for each cage (to use in LOA) \n",
    "source('/home/users/mcbitter/OrchardProject/Code/plotting_functions.R')\n",
    "source('/home/users/mcbitter/OrchardProject/Code/workflow_functions.R')\n",
    "source('/home/users/mcbitter/OrchardProject/Code/general_cage_functions.R')\n",
    "source('/home/users/mcbitter/OrchardProject/Code/Orchard2021_Scripts/LOA/loa.orch2021.functions.R')\n",
    "setwd('/home/users/mcbitter/dpetrov/MarkB/Orchard2021Data/RData/Downsampled/RData_ByCage')\n",
    "\n",
    "files = list.files(pattern = \"*.RData\")\n",
    "comps = c('1_2', '2_3', '3_4', '4_5', '5_6', '6_7', '7_8', '8_9', '9_10', '10_11', '11_12')\n",
    "\n",
    "files = list.files(pattern = '.RData')\n",
    "for (file in files){\n",
    "    load(file)\n",
    "    LOC = strsplit(file, '[_]')[[1]][3]\n",
    "    af.shifts = get_af_shifts(afmat = afmat.lo, samps = samps.lo, comparisons = comps)\n",
    "    write.csv(af.shifts, paste0('./af.shifts.Weekly.ecage.orch21.', LOC, '.csv'), row.names = FALSE)\n",
    "\n",
    "}"
   ]
  },
  {
   "cell_type": "code",
   "execution_count": 1,
   "metadata": {
    "collapsed": true
   },
   "outputs": [],
   "source": [
    "#Getting weekly shift data for each n-1 RData (to use in LOA) \n",
    "source('/home/users/mcbitter/OrchardProject/Code/plotting_functions.R')\n",
    "source('/home/users/mcbitter/OrchardProject/Code/workflow_functions.R')\n",
    "source('/home/users/mcbitter/OrchardProject/Code/general_cage_functions.R')\n",
    "source('/home/users/mcbitter/OrchardProject/Code/Orchard2021_Scripts/LOA/loa.orch2021.functions.R')\n",
    "setwd('/home/users/mcbitter/dpetrov/MarkB/Orchard2021Data/RData/Downsampled/LOA_RData/')\n",
    "\n",
    "files = list.files(pattern = \"*.RData\")"
   ]
  },
  {
   "cell_type": "code",
   "execution_count": 10,
   "metadata": {},
   "outputs": [],
   "source": [
    "#Getting weekly shift data for each n-1 RData (to use in LOA) \n",
    "source('/home/users/mcbitter/OrchardProject/Code/plotting_functions.R')\n",
    "source('/home/users/mcbitter/OrchardProject/Code/workflow_functions.R')\n",
    "source('/home/users/mcbitter/OrchardProject/Code/general_cage_functions.R')\n",
    "source('/home/users/mcbitter/OrchardProject/Code/Orchard2021_Scripts/LOA/loa.orch2021.functions.R')\n",
    "setwd('/home/users/mcbitter/dpetrov/MarkB/Orchard2021Data/RData/Downsampled/LOA_RData/')\n",
    "\n",
    "files = list.files(pattern = \"*.RData\")\n",
    "comps = c('1_2', '2_3', '3_4', '4_5', '5_6', '6_7', '7_8', '8_9', '9_10', '10_11', '11_12')\n",
    "\n",
    "files = list.files(pattern = '.RData')\n",
    "for (file in files[1:3]){\n",
    "    load(file)\n",
    "    LOC = strsplit(strsplit(file, '[_]')[[1]][4], '.RData' )[[1]][1]\n",
    "    af.shifts = get_af_shifts(afmat = afmat, samps = samps, comparisons = comps)\n",
    "    write.csv(af.shifts, paste0('./af.shifts.Weekly.ecage.orch21.LOO_', LOC, '.csv'), row.names = FALSE)\n",
    "\n",
    "}"
   ]
  },
  {
   "cell_type": "code",
   "execution_count": null,
   "metadata": {
    "collapsed": true
   },
   "outputs": [],
   "source": []
  }
 ],
 "metadata": {
  "kernelspec": {
   "display_name": "R",
   "language": "R",
   "name": "ir"
  },
  "language_info": {
   "codemirror_mode": "r",
   "file_extension": ".r",
   "mimetype": "text/x-r-source",
   "name": "R",
   "pygments_lexer": "r",
   "version": "3.5.1"
  }
 },
 "nbformat": 4,
 "nbformat_minor": 2
}
