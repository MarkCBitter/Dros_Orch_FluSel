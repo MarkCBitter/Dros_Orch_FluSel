{
 "cells": [
  {
   "cell_type": "code",
   "execution_count": null,
   "metadata": {
    "collapsed": true
   },
   "outputs": [],
   "source": [
    "##Comparing allele frequency shifts in the 2021 (current study) vs 2014 experiment (published by Rudman et al (2022))"
   ]
  },
  {
   "cell_type": "code",
   "execution_count": null,
   "metadata": {
    "collapsed": true
   },
   "outputs": [],
   "source": [
    "source(\"/home/users/mcbitter/OrchardProject/Code/config.R\")\n",
    "source(\"/home/users/mcbitter/OrchardProject/Code/helper_functions.R\")\n",
    "source(\"/home/users/mcbitter/OrchardProject/Code/load_packages.R\")\n",
    "source(\"/home/users/mcbitter/OrchardProject/Code/plotting_functions.R\")\n",
    "source(\"/home/users/mcbitter/OrchardProject/Code/workflow_functions.R\")\n",
    "source(\"/home/users/mcbitter/OrchardProject/Code/general_cage_functions.R\")\n",
    "setwd('~/dpetrov/MarkB/Orchard2021Data/08_2014Comp/')"
   ]
  },
  {
   "cell_type": "code",
   "execution_count": null,
   "metadata": {
    "collapsed": true
   },
   "outputs": [],
   "source": [
    "#Get 2014 HAFShifts for each monthly interval\n",
    "load('./2014_Files/HAFs.orch14_cages.Rdata', verbose = TRUE)\n",
    "comps = c('1_2', '2_3', '3_4', '4_5')\n",
    "shifts = get_af_shifts(afmat = afmat, samps = samps, comparisons = comps)\n",
    "write.csv(shifts, './orch2014.HafShifts.csv', row.names = FALSE)"
   ]
  },
  {
   "cell_type": "code",
   "execution_count": 15,
   "metadata": {
    "collapsed": true
   },
   "outputs": [],
   "source": [
    "#Get all 2021 HAFShifts\n",
    "load('../RData/Downsampled/orch2021_Downsampled_ECage_Filtered.RData')\n",
    "comps = c('1_3','2_4', '3_5', '4_6', '5_7', '6_8', '7_9', '8_10', '9_11', '10_12',\n",
    "         '1_4', '2_5', '3_6', '4_7', '5_8', '6_9', '7_10', '8_11', '9_12',\n",
    "         '1_5', '2_6', '3_7', '4_8', '5_9', '6_10', '7_11', '8_12',\n",
    "         '1_6', '2_7', '3_8', '4_9', '5_10', '6_11', '7_12',\n",
    "         '1_7', '2_8', '3_9', '4_10', '5_11', '6_12',\n",
    "         '1_8', '2_9', '3_10', '4_11', '5_12',\n",
    "         '1_9', '2_10', '3_11','4_12',\n",
    "         '1_10', '2_11', '3_12',\n",
    "         '1_11', '2_12',\n",
    "         '1_12')\n",
    "shifts.all = get_af_shifts(afmat = afmat, samps = samps, comparisons = comps)\n",
    "write.csv(shifts.all, './orch2021.HafShifts.csv', row.names = FALSE)"
   ]
  },
  {
   "cell_type": "code",
   "execution_count": 32,
   "metadata": {},
   "outputs": [
    {
     "name": "stderr",
     "output_type": "stream",
     "text": [
      "\u001b[1m\u001b[22mJoining, by = c(\"chrom\", \"pos\")\n"
     ]
    }
   ],
   "source": [
    "###Correlation between each monthly interval of 2014 and all intervals of 2021\n",
    "##Load 2014 data\n",
    "load('./2014_Files//HAFs.orch14_cages.Rdata')\n",
    "shifts.14 = read.csv('./orch2014.HafShifts.csv')\n",
    "shifts.14 = cbind(sites, shifts.14)\n",
    "\n",
    "sites.2014 = shifts.14 %>% dplyr::select(chrom, pos)\n",
    "\n",
    "load('../RData//Downsampled/orch2021_Downsampled_ECage_Filtered.RData')\n",
    "\n",
    "shifts.21 = read.csv('./orch2021.HafShifts.csv')\n",
    "shifts.21 = cbind(sites, shifts.21)\n",
    "\n",
    "shifts.21 = left_join(sites.2014, shifts.21) #get 2021 results in 2014 order/sites\n",
    "shifts.21 = na.omit(shifts.21)\n",
    "\n",
    "site.overlap = shifts.21 %>% dplyr::select(chrom, pos) %>% mutate(snp = paste0(chrom, pos))\n",
    "shifts.14 = shifts.14 %>% mutate(snp = paste0(chrom, pos)) %>% filter(snp %in% site.overlap$snp)\n",
    "\n",
    "d.coef.meta = data.frame()\n",
    "for (col in 3:ncol(shifts.21)){\n",
    "        shifts.21.comp = shifts.21 %>% dplyr::select(col)\n",
    "        comp = strsplit(names(shifts.21.comp), 'dAF.')[[1]][2]\n",
    "        names(shifts.21.comp) = c('seg.2021')\n",
    "        d.coef.comp = data.frame()\n",
    "        d.corr = cbind(shifts.21.comp, shifts.14)\n",
    "        cor.2_1 = cor.test(d.corr$seg.2021, d.corr$dAF.1_2, method= 'pearson')$estimate[[1]]\n",
    "        cor.3_2 = cor.test(d.corr$seg.2021, d.corr$dAF.2_3, method= 'pearson')$estimate[[1]]\n",
    "        cor.4_3 = cor.test(d.corr$seg.2021, d.corr$dAF.3_4, method= 'pearson')$estimate[[1]]\n",
    "        cor.5_4 = cor.test(d.corr$seg.2021, d.corr$dAF.4_5, method= 'pearson')$estimate[[1]]    \n",
    "        d.cor = as.data.frame(cbind(cor.2_1, cor.3_2, cor.4_3, cor.5_4))\n",
    "        d.cor$seg.2021 = comp\n",
    "        d.coef.meta = rbind(d.coef.meta, d.cor)\n",
    "        }\n",
    "\n",
    "write.csv(d.coef.meta, './HAFCorr.csv', row.names = FALSE)"
   ]
  },
  {
   "cell_type": "code",
   "execution_count": 2,
   "metadata": {
    "collapsed": true
   },
   "outputs": [],
   "source": [
    "###Correlation between each monthly interval of 2014 and all intervals of 2021 on SHUFFLED Data\n",
    "##Load 2014 data\n",
    "setwd('~/dpetrov/MarkB/Orchard2021Data/08_2014Comp/')\n",
    "load('./2014_Files//HAFs.orch14_cages.Rdata')\n",
    "shifts.14 = read.csv('./orch2014.HafShifts.csv')\n",
    "shifts.14 = cbind(sites, shifts.14)\n",
    "sites.2014 = shifts.14 %>% dplyr::select(chrom, pos)\n",
    "\n",
    "\n",
    "\n",
    "load('../RData//Downsampled/orch2021_Downsampled_ECage_Filtered.RData')\n",
    "shifts.21 = read.csv('./orch2021.HafShifts.csv')\n",
    "shifts.21 = cbind(sites, shifts.21)\n",
    "\n"
   ]
  },
  {
   "cell_type": "code",
   "execution_count": 3,
   "metadata": {},
   "outputs": [
    {
     "name": "stderr",
     "output_type": "stream",
     "text": [
      "\u001b[1m\u001b[22mJoining, by = c(\"chrom\", \"pos\")\n"
     ]
    }
   ],
   "source": [
    "shifts.21 = left_join(sites.2014, shifts.21) #get 2021 results in 2014 order/sites\n",
    "shifts.21 = na.omit(shifts.21)\n",
    "\n",
    "site.overlap = shifts.21 %>% dplyr::select(chrom, pos) %>% mutate(snp = paste0(chrom, pos))\n",
    "shifts.14 = shifts.14 %>% mutate(snp = paste0(chrom, pos)) %>% filter(snp %in% site.overlap$snp)\n",
    "\n",
    "sites.shuff = read.csv('../RData/Downsampled/ShuffledSites20X/Orch2021.ShuffledSites20x.csv')\n",
    "sites.shuff = sites.shuff %>% rename(pos = POS, chrom  = CHROM)\n",
    "sites.shuff = sites.shuff %>% mutate(snp = paste0(chrom, pos)) \n",
    "sites.shuff = sites.shuff %>% filter(snp %in% site.overlap$snp)\n",
    "\n",
    "d.coef.meta.shuff = data.frame()\n",
    "for (col in 3:ncol(shifts.21)){\n",
    "        shifts.21.comp = shifts.21 %>% dplyr::select(chrom, pos, col)\n",
    "        rand.col = floor(runif(1, min=8, max=22)) #select column from shuffle sites to re-order 2021 data\n",
    "        rand.sites = sites.shuff[,c(2,rand.col)]\n",
    "        names(rand.sites) = c('chrom', 'pos')\n",
    "        shifts.21.comp = left_join(rand.sites, shifts.21.comp)\n",
    "        shifts.21.comp = shifts.21.comp %>% dplyr::select(3)\n",
    "        comp = strsplit(names(shifts.21.comp), 'dAF.')[[1]][2]\n",
    "        names(shifts.21.comp) = c('seg.2021')\n",
    "        d.corr = cbind(shifts.21.comp, shifts.14)\n",
    "        d.corr = na.omit(d.corr)\n",
    "        d.coef.comp = data.frame()\n",
    "        cor.2_1 = cor.test(d.corr$seg.2021, d.corr$dAF.1_2, method= 'pearson')$estimate[[1]]\n",
    "        cor.3_2 = cor.test(d.corr$seg.2021, d.corr$dAF.2_3, method= 'pearson')$estimate[[1]]\n",
    "        cor.4_3 = cor.test(d.corr$seg.2021, d.corr$dAF.3_4, method= 'pearson')$estimate[[1]]\n",
    "        cor.5_4 = cor.test(d.corr$seg.2021, d.corr$dAF.4_5, method= 'pearson')$estimate[[1]]    \n",
    "        d.cor = as.data.frame(cbind(cor.2_1, cor.3_2, cor.4_3, cor.5_4))\n",
    "        d.cor$seg.2021 = comp\n",
    "        d.coef.meta.shuff = rbind(d.coef.meta.shuff, d.cor)\n",
    "        }\n",
    "        \n",
    "    \n",
    "write.csv(d.coef.meta.shuff, './HAFCorr.Shuff.csv', row.names = FALSE)"
   ]
  },
  {
   "cell_type": "code",
   "execution_count": 50,
   "metadata": {},
   "outputs": [
    {
     "data": {
      "text/html": [
       "<style>\n",
       ".list-inline {list-style: none; margin:0; padding: 0}\n",
       ".list-inline>li {display: inline-block}\n",
       ".list-inline>li:not(:last-child)::after {content: \"\\00b7\"; padding: 0 .5ex}\n",
       "</style>\n",
       "<ol class=list-inline><li>55</li><li>6</li></ol>\n"
      ],
      "text/latex": [
       "\\begin{enumerate*}\n",
       "\\item 55\n",
       "\\item 6\n",
       "\\end{enumerate*}\n"
      ],
      "text/markdown": [
       "1. 55\n",
       "2. 6\n",
       "\n",
       "\n"
      ],
      "text/plain": [
       "[1] 55  6"
      ]
     },
     "metadata": {},
     "output_type": "display_data"
    },
    {
     "data": {
      "text/html": [
       "<style>\n",
       ".list-inline {list-style: none; margin:0; padding: 0}\n",
       ".list-inline>li {display: inline-block}\n",
       ".list-inline>li:not(:last-child)::after {content: \"\\00b7\"; padding: 0 .5ex}\n",
       "</style>\n",
       "<ol class=list-inline><li>55</li><li>5</li></ol>\n"
      ],
      "text/latex": [
       "\\begin{enumerate*}\n",
       "\\item 55\n",
       "\\item 5\n",
       "\\end{enumerate*}\n"
      ],
      "text/markdown": [
       "1. 55\n",
       "2. 5\n",
       "\n",
       "\n"
      ],
      "text/plain": [
       "[1] 55  5"
      ]
     },
     "metadata": {},
     "output_type": "display_data"
    }
   ],
   "source": [
    "#Combining output\n",
    "#setwd('./HAF_Correlations/')\n",
    "d.meta = read.csv('./HAFCorr.csv')\n",
    "d.meta$Type = 'Observed'\n",
    "dim(d.meta)\n",
    "d.meta.shuff = read.csv('./HAFCorr.Shuff.csv')\n",
    "dim(d.meta.shuff)\n",
    "d.meta.shuff$Type = 'Shuffled'\n",
    "d.meta.meta = rbind(d.meta, d.meta.shuff)\n",
    "d.meta.meta = unique(d.meta.meta)\n",
    "write.csv(d.meta.meta, './HAFCorr_Meta.csv', row.names = FALSE)"
   ]
  },
  {
   "cell_type": "code",
   "execution_count": 4,
   "metadata": {
    "collapsed": true
   },
   "outputs": [],
   "source": [
    "###Plotting\n",
    "setwd('~/dpetrov/MarkB/Orchard2021Data/08_2014Comp/HAF_Correlations/')"
   ]
  },
  {
   "cell_type": "code",
   "execution_count": 5,
   "metadata": {},
   "outputs": [
    {
     "data": {
      "text/html": [
       "<table class=\"dataframe\">\n",
       "<caption>A data.frame: 6 × 4</caption>\n",
       "<thead>\n",
       "\t<tr><th></th><th scope=col>seg.2021</th><th scope=col>Type</th><th scope=col>seg.2014</th><th scope=col>cor.coef</th></tr>\n",
       "\t<tr><th></th><th scope=col>&lt;fct&gt;</th><th scope=col>&lt;fct&gt;</th><th scope=col>&lt;chr&gt;</th><th scope=col>&lt;dbl&gt;</th></tr>\n",
       "</thead>\n",
       "<tbody>\n",
       "\t<tr><th scope=row>1</th><td>1_3</td><td>Observed</td><td>cor.2_1</td><td>0.03549332</td></tr>\n",
       "\t<tr><th scope=row>2</th><td>2_4</td><td>Observed</td><td>cor.2_1</td><td>0.03243615</td></tr>\n",
       "\t<tr><th scope=row>3</th><td>3_5</td><td>Observed</td><td>cor.2_1</td><td>0.04057225</td></tr>\n",
       "\t<tr><th scope=row>4</th><td>4_6</td><td>Observed</td><td>cor.2_1</td><td>0.01020545</td></tr>\n",
       "\t<tr><th scope=row>5</th><td>5_7</td><td>Observed</td><td>cor.2_1</td><td>0.13653162</td></tr>\n",
       "\t<tr><th scope=row>6</th><td>6_8</td><td>Observed</td><td>cor.2_1</td><td>0.04863599</td></tr>\n",
       "</tbody>\n",
       "</table>\n"
      ],
      "text/latex": [
       "A data.frame: 6 × 4\n",
       "\\begin{tabular}{r|llll}\n",
       "  & seg.2021 & Type & seg.2014 & cor.coef\\\\\n",
       "  & <fct> & <fct> & <chr> & <dbl>\\\\\n",
       "\\hline\n",
       "\t1 & 1\\_3 & Observed & cor.2\\_1 & 0.03549332\\\\\n",
       "\t2 & 2\\_4 & Observed & cor.2\\_1 & 0.03243615\\\\\n",
       "\t3 & 3\\_5 & Observed & cor.2\\_1 & 0.04057225\\\\\n",
       "\t4 & 4\\_6 & Observed & cor.2\\_1 & 0.01020545\\\\\n",
       "\t5 & 5\\_7 & Observed & cor.2\\_1 & 0.13653162\\\\\n",
       "\t6 & 6\\_8 & Observed & cor.2\\_1 & 0.04863599\\\\\n",
       "\\end{tabular}\n"
      ],
      "text/markdown": [
       "\n",
       "A data.frame: 6 × 4\n",
       "\n",
       "| <!--/--> | seg.2021 &lt;fct&gt; | Type &lt;fct&gt; | seg.2014 &lt;chr&gt; | cor.coef &lt;dbl&gt; |\n",
       "|---|---|---|---|---|\n",
       "| 1 | 1_3 | Observed | cor.2_1 | 0.03549332 |\n",
       "| 2 | 2_4 | Observed | cor.2_1 | 0.03243615 |\n",
       "| 3 | 3_5 | Observed | cor.2_1 | 0.04057225 |\n",
       "| 4 | 4_6 | Observed | cor.2_1 | 0.01020545 |\n",
       "| 5 | 5_7 | Observed | cor.2_1 | 0.13653162 |\n",
       "| 6 | 6_8 | Observed | cor.2_1 | 0.04863599 |\n",
       "\n"
      ],
      "text/plain": [
       "  seg.2021 Type     seg.2014 cor.coef  \n",
       "1 1_3      Observed cor.2_1  0.03549332\n",
       "2 2_4      Observed cor.2_1  0.03243615\n",
       "3 3_5      Observed cor.2_1  0.04057225\n",
       "4 4_6      Observed cor.2_1  0.01020545\n",
       "5 5_7      Observed cor.2_1  0.13653162\n",
       "6 6_8      Observed cor.2_1  0.04863599"
      ]
     },
     "metadata": {},
     "output_type": "display_data"
    }
   ],
   "source": [
    "df = read.csv('./HAFCorr_Meta.csv')\n",
    "df = df %>% gather(1:4, key = seg.2014, value = cor.coef)\n",
    "head(df)"
   ]
  },
  {
   "cell_type": "code",
   "execution_count": 19,
   "metadata": {},
   "outputs": [
    {
     "name": "stderr",
     "output_type": "stream",
     "text": [
      "\u001b[1m\u001b[22m`stat_bin()` using `bins = 30`. Pick better value with `binwidth`.\n",
      "\u001b[1m\u001b[22m`stat_bin()` using `bins = 30`. Pick better value with `binwidth`.\n"
     ]
    },
    {
     "data": {
      "image/png": "[encoded data removed]",
      "text/plain": [
       "plot without title"
      ]
     },
     "metadata": {
      "image/png": {
       "height": 420,
       "width": 420
      }
     },
     "output_type": "display_data"
    }
   ],
   "source": [
    "p.reg = ggplot(df , aes(x = cor.coef, fill = Type, colour = Type)) +\n",
    "    geom_histogram( color=\"#e9ecef\", alpha=0.6, position = 'identity') +\n",
    "    scale_fill_manual(values=c(\"#69b3a2\", \"grey\")) +\n",
    "    xlab('Pearson Correlation Coefficient') +\n",
    "    theme_bw(base_size = 15) +\n",
    "    theme(axis.text.x = element_text(size = 18),\n",
    "          axis.text.y = element_text(size = 18),\n",
    "         axis.title.x = element_text(size = 20),\n",
    "         axis.title.y = element_text(size = 20),\n",
    "         legend.text = element_text(size = 20)) +\n",
    "    labs(fill=NULL)\n",
    "p.reg\n",
    "ggsave('../../Figures/2014Comp/InterAnnual_HAFCorr.pdf', p.reg,height = 10, width = 10)"
   ]
  },
  {
   "cell_type": "code",
   "execution_count": 33,
   "metadata": {},
   "outputs": [
    {
     "data": {
      "text/html": [
       "<table class=\"dataframe\">\n",
       "<caption>A data.frame: 4 × 4</caption>\n",
       "<thead>\n",
       "\t<tr><th scope=col>seg.2021</th><th scope=col>Type</th><th scope=col>seg.2014</th><th scope=col>cor.coef</th></tr>\n",
       "\t<tr><th scope=col>&lt;fct&gt;</th><th scope=col>&lt;fct&gt;</th><th scope=col>&lt;chr&gt;</th><th scope=col>&lt;dbl&gt;</th></tr>\n",
       "</thead>\n",
       "<tbody>\n",
       "\t<tr><td>1_7 </td><td>Observed</td><td>cor.2_1</td><td>0.17305945</td></tr>\n",
       "\t<tr><td>3_9 </td><td>Observed</td><td>cor.3_2</td><td>0.14056627</td></tr>\n",
       "\t<tr><td>5_12</td><td>Observed</td><td>cor.4_3</td><td>0.20670389</td></tr>\n",
       "\t<tr><td>7_9 </td><td>Observed</td><td>cor.5_4</td><td>0.02980158</td></tr>\n",
       "</tbody>\n",
       "</table>\n"
      ],
      "text/latex": [
       "A data.frame: 4 × 4\n",
       "\\begin{tabular}{llll}\n",
       " seg.2021 & Type & seg.2014 & cor.coef\\\\\n",
       " <fct> & <fct> & <chr> & <dbl>\\\\\n",
       "\\hline\n",
       "\t 1\\_7  & Observed & cor.2\\_1 & 0.17305945\\\\\n",
       "\t 3\\_9  & Observed & cor.3\\_2 & 0.14056627\\\\\n",
       "\t 5\\_12 & Observed & cor.4\\_3 & 0.20670389\\\\\n",
       "\t 7\\_9  & Observed & cor.5\\_4 & 0.02980158\\\\\n",
       "\\end{tabular}\n"
      ],
      "text/markdown": [
       "\n",
       "A data.frame: 4 × 4\n",
       "\n",
       "| seg.2021 &lt;fct&gt; | Type &lt;fct&gt; | seg.2014 &lt;chr&gt; | cor.coef &lt;dbl&gt; |\n",
       "|---|---|---|---|\n",
       "| 1_7  | Observed | cor.2_1 | 0.17305945 |\n",
       "| 3_9  | Observed | cor.3_2 | 0.14056627 |\n",
       "| 5_12 | Observed | cor.4_3 | 0.20670389 |\n",
       "| 7_9  | Observed | cor.5_4 | 0.02980158 |\n",
       "\n"
      ],
      "text/plain": [
       "  seg.2021 Type     seg.2014 cor.coef  \n",
       "1 1_7      Observed cor.2_1  0.17305945\n",
       "2 3_9      Observed cor.3_2  0.14056627\n",
       "3 5_12     Observed cor.4_3  0.20670389\n",
       "4 7_9      Observed cor.5_4  0.02980158"
      ]
     },
     "metadata": {},
     "output_type": "display_data"
    }
   ],
   "source": [
    "##All intervals - best matched\n",
    "cor.max.reg = data.frame()\n",
    "for (seg in unique(df$seg.2014)){\n",
    "    d = df %>% filter(seg.2014 == seg & cor.coef == max((df %>% filter(seg.2014 == seg))$cor.coef))\n",
    "    cor.max.reg = rbind(cor.max.reg, d)\n",
    "}\n",
    "cor.max.reg\n"
   ]
  },
  {
   "cell_type": "code",
   "execution_count": 34,
   "metadata": {},
   "outputs": [
    {
     "data": {
      "text/plain": [
       "\n",
       "\tF test to compare two variances\n",
       "\n",
       "data:  (df %>% filter(Type == \"Observed\"))$cor.coef and (df %>% filter(Type == \"Shuffled\"))$cor.coef\n",
       "F = 2481.5, num df = 219, denom df = 219, p-value < 2.2e-16\n",
       "alternative hypothesis: true ratio of variances is not equal to 1\n",
       "95 percent confidence interval:\n",
       " 1902.708 3236.292\n",
       "sample estimates:\n",
       "ratio of variances \n",
       "          2481.475 \n"
      ]
     },
     "metadata": {},
     "output_type": "display_data"
    }
   ],
   "source": [
    "##stats\n",
    "df = read.csv('./HAFCorr_Meta.csv')\n",
    "df = df %>% gather(1:4, key = seg.2014, value = cor.coef)\n",
    "\n",
    "var.test((df %>% filter(Type == 'Observed'))$cor.coef, \n",
    "        (df %>% filter(Type == 'Shuffled' ))$cor.coef)"
   ]
  },
  {
   "cell_type": "markdown",
   "metadata": {},
   "source": [
    "# By chrom"
   ]
  },
  {
   "cell_type": "code",
   "execution_count": 12,
   "metadata": {},
   "outputs": [
    {
     "name": "stderr",
     "output_type": "stream",
     "text": [
      "Warning message in readChar(con, 5L, useBytes = TRUE):\n",
      "“cannot open compressed file './2014_Files//HAFs.orch14_cages.Rdata', probable reason 'No such file or directory'”\n"
     ]
    },
    {
     "ename": "ERROR",
     "evalue": "Error in readChar(con, 5L, useBytes = TRUE): cannot open the connection\n",
     "output_type": "error",
     "traceback": [
      "Error in readChar(con, 5L, useBytes = TRUE): cannot open the connection\nTraceback:\n",
      "1. load(\"./2014_Files//HAFs.orch14_cages.Rdata\")",
      "2. readChar(con, 5L, useBytes = TRUE)"
     ]
    }
   ],
   "source": [
    "###Correlation between each monthly interval of 2014 and all intervals of 2021\n",
    "##Load 2014 data\n",
    "load('./2014_Files//HAFs.orch14_cages.Rdata')\n",
    "shifts.14 = read.csv('./orch2014.HafShifts.csv')\n",
    "shifts.14 = cbind(sites, shifts.14)\n",
    "\n",
    "sites.2014 = shifts.14 %>% dplyr::select(chrom, pos)\n",
    "\n",
    "load('../RData//Downsampled/orch2021_Downsampled_ECage_Filtered.RData')\n",
    "\n",
    "shifts.21 = read.csv('./orch2021.HafShifts.csv')\n",
    "shifts.21 = cbind(sites, shifts.21)\n",
    "\n",
    "shifts.21 = left_join(sites.2014, shifts.21) #get 2021 results in 2014 order/sites\n",
    "shifts.21 = na.omit(shifts.21)\n",
    "\n",
    "site.overlap = shifts.21 %>% dplyr::select(chrom, pos) %>% mutate(snp = paste0(chrom, pos))\n",
    "shifts.14 = shifts.14 %>% mutate(snp = paste0(chrom, pos)) %>% filter(snp %in% site.overlap$snp)\n",
    "\n"
   ]
  },
  {
   "cell_type": "code",
   "execution_count": 33,
   "metadata": {
    "collapsed": true
   },
   "outputs": [],
   "source": [
    "d.coef.meta = data.frame()\n",
    "for (col in 3:ncol(shifts.21)){\n",
    "        shifts.21.comp = shifts.21 %>% dplyr::select(col)\n",
    "        comp = strsplit(names(shifts.21.comp), 'dAF.')[[1]][2]\n",
    "        names(shifts.21.comp) = c('seg.2021')\n",
    "        d.coef.comp = data.frame()\n",
    "        d.corr = cbind(shifts.21.comp, shifts.14)\n",
    "        for (chr in as.character(unique(d.corr$chrom))){\n",
    "                d.corr.chr = d.corr %>% filter(chrom == chr)\n",
    "                cor.2_1 = cor.test(d.corr.chr$seg.2021, d.corr.chr$dAF.1_2, method= 'pearson')$estimate[[1]]\n",
    "                cor.3_2 = cor.test(d.corr.chr$seg.2021, d.corr.chr$dAF.2_3, method= 'pearson')$estimate[[1]]\n",
    "                cor.4_3 = cor.test(d.corr.chr$seg.2021, d.corr.chr$dAF.3_4, method= 'pearson')$estimate[[1]]\n",
    "                cor.5_4 = cor.test(d.corr.chr$seg.2021, d.corr.chr$dAF.4_5, method= 'pearson')$estimate[[1]]    \n",
    "                d.cor = as.data.frame(cbind(cor.2_1, cor.3_2, cor.4_3, cor.5_4))\n",
    "                d.cor$seg.2021 = comp\n",
    "                d.cor$chrom = chr\n",
    "                d.coef.meta = rbind(d.coef.meta, d.cor)\n",
    "            }\n",
    "}\n",
    "write.csv(d.coef.meta, './HAFCorr.ByChrom.csv', row.names = FALSE)"
   ]
  },
  {
   "cell_type": "code",
   "execution_count": null,
   "metadata": {
    "collapsed": true
   },
   "outputs": [],
   "source": [
    "###Correlation between each monthly interval of 2014 and all intervals of 2021 on SHUFFLED Data\n",
    "##Load 2014 data\n",
    "setwd('~/dpetrov/MarkB/Orchard2021Data/08_2014Comp/')\n",
    "load('./2014_Files//HAFs.orch14_cages.Rdata')\n",
    "shifts.14 = read.csv('./orch2014.HafShifts.csv')\n",
    "shifts.14 = cbind(sites, shifts.14)\n",
    "sites.2014 = shifts.14 %>% dplyr::select(chrom, pos)\n",
    "\n",
    "\n",
    "\n",
    "load('../RData//Downsampled/orch2021_Downsampled_ECage_Filtered.RData')\n",
    "shifts.21 = read.csv('./orch2021.HafShifts.csv')\n",
    "shifts.21 = cbind(sites, shifts.21)\n",
    "\n",
    "shifts.21 = left_join(sites.2014, shifts.21) #get 2021 results in 2014 order/sites\n",
    "shifts.21 = na.omit(shifts.21)\n",
    "\n",
    "site.overlap = shifts.21 %>% dplyr::select(chrom, pos) %>% mutate(snp = paste0(chrom, pos))\n",
    "shifts.14 = shifts.14 %>% mutate(snp = paste0(chrom, pos)) %>% filter(snp %in% site.overlap$snp)\n",
    "\n",
    "\n",
    "sites.shuff = read.csv('../RData/Downsampled/ShuffledSites20X/Orch2021.ShuffledSites20x.csv')\n",
    "\n",
    "sites.shuff = sites.shuff %>% rename(pos = POS, chrom  = CHROM)\n",
    "sites.shuff = sites.shuff %>% mutate(snp = paste0(chrom, pos)) \n",
    "sites.shuff = sites.shuff %>% filter(snp %in% site.overlap$snp)\n",
    "\n",
    "d.coef.meta.shuff = data.frame()\n",
    "for (col in 3:ncol(shifts.21)){\n",
    "        shifts.21.comp = shifts.21 %>% dplyr::select(chrom, pos, col)\n",
    "        rand.col = floor(runif(1, min=8, max=22)) #select column from shuffle sites to re-order 2021 data\n",
    "        rand.sites = sites.shuff[,c(2,rand.col)]\n",
    "        names(rand.sites) = c('chrom', 'pos')\n",
    "        shifts.21.comp = left_join(rand.sites, shifts.21.comp)\n",
    "        shifts.21.comp = shifts.21.comp %>% dplyr::select(3)\n",
    "        comp = strsplit(names(shifts.21.comp), 'dAF.')[[1]][2]\n",
    "        names(shifts.21.comp) = c('seg.2021')\n",
    "        d.corr = cbind(shifts.21.comp, shifts.14)\n",
    "        d.corr = na.omit(d.corr)\n",
    "        d.coef.comp = data.frame()\n",
    "        for (chr in as.character(unique(d.corr$chrom))){\n",
    "                d.corr.chr = d.corr %>% filter(chrom == chr)\n",
    "                cor.2_1 = cor.test(d.corr.chr$seg.2021, d.corr.chr$dAF.1_2, method= 'pearson')$estimate[[1]]\n",
    "                cor.3_2 = cor.test(d.corr.chr$seg.2021, d.corr.chr$dAF.2_3, method= 'pearson')$estimate[[1]]\n",
    "                cor.4_3 = cor.test(d.corr.chr$seg.2021, d.corr.chr$dAF.3_4, method= 'pearson')$estimate[[1]]\n",
    "                cor.5_4 = cor.test(d.corr.chr$seg.2021, d.corr.chr$dAF.4_5, method= 'pearson')$estimate[[1]]    \n",
    "                d.cor = as.data.frame(cbind(cor.2_1, cor.3_2, cor.4_3, cor.5_4))\n",
    "                d.cor$seg.2021 = comp\n",
    "                d.cor$chrom = chr\n",
    "                d.coef.meta.shuff = rbind(d.coef.meta.shuff, d.cor)\n",
    "\n",
    "        }\n",
    "    }\n",
    "        \n",
    "    \n",
    "write.csv(d.coef.meta.shuff, './HAFCorr.Shuff.ByChrom.csv', row.names = FALSE)\n"
   ]
  },
  {
   "cell_type": "code",
   "execution_count": 42,
   "metadata": {
    "collapsed": true
   },
   "outputs": [],
   "source": [
    "setwd('./HAF_Correlations/')\n",
    "d = read.csv('./HAFCorr.ByChrom.csv')\n",
    "d.s = read.csv('./HAFCorr.Shuff.ByChrom.csv')\n",
    "\n",
    "d$Type = 'Observed'\n",
    "d.s$Type = 'Shuffled'\n",
    "d = rbind(d, d.s)\n",
    "write.csv(d, './HAFCorr.ByChrom.Meta.csv')"
   ]
  },
  {
   "cell_type": "code",
   "execution_count": 43,
   "metadata": {},
   "outputs": [
    {
     "data": {
      "text/html": [
       "<table class=\"dataframe\">\n",
       "<caption>A data.frame: 6 × 6</caption>\n",
       "<thead>\n",
       "\t<tr><th></th><th scope=col>X</th><th scope=col>seg.2021</th><th scope=col>chrom</th><th scope=col>Type</th><th scope=col>seg.2014</th><th scope=col>cor.coef</th></tr>\n",
       "\t<tr><th></th><th scope=col>&lt;int&gt;</th><th scope=col>&lt;fct&gt;</th><th scope=col>&lt;fct&gt;</th><th scope=col>&lt;fct&gt;</th><th scope=col>&lt;chr&gt;</th><th scope=col>&lt;dbl&gt;</th></tr>\n",
       "</thead>\n",
       "<tbody>\n",
       "\t<tr><th scope=row>1</th><td>1</td><td>1_3</td><td>2L</td><td>Observed</td><td>cor.2_1</td><td> 0.1155794968</td></tr>\n",
       "\t<tr><th scope=row>2</th><td>2</td><td>1_3</td><td>2R</td><td>Observed</td><td>cor.2_1</td><td>-0.0241098861</td></tr>\n",
       "\t<tr><th scope=row>3</th><td>3</td><td>1_3</td><td>3L</td><td>Observed</td><td>cor.2_1</td><td>-0.0105087835</td></tr>\n",
       "\t<tr><th scope=row>4</th><td>4</td><td>1_3</td><td>3R</td><td>Observed</td><td>cor.2_1</td><td>-0.0002859671</td></tr>\n",
       "\t<tr><th scope=row>5</th><td>5</td><td>1_3</td><td>X </td><td>Observed</td><td>cor.2_1</td><td> 0.0819691605</td></tr>\n",
       "\t<tr><th scope=row>6</th><td>6</td><td>2_4</td><td>2L</td><td>Observed</td><td>cor.2_1</td><td>-0.0062987245</td></tr>\n",
       "</tbody>\n",
       "</table>\n"
      ],
      "text/latex": [
       "A data.frame: 6 × 6\n",
       "\\begin{tabular}{r|llllll}\n",
       "  & X & seg.2021 & chrom & Type & seg.2014 & cor.coef\\\\\n",
       "  & <int> & <fct> & <fct> & <fct> & <chr> & <dbl>\\\\\n",
       "\\hline\n",
       "\t1 & 1 & 1\\_3 & 2L & Observed & cor.2\\_1 &  0.1155794968\\\\\n",
       "\t2 & 2 & 1\\_3 & 2R & Observed & cor.2\\_1 & -0.0241098861\\\\\n",
       "\t3 & 3 & 1\\_3 & 3L & Observed & cor.2\\_1 & -0.0105087835\\\\\n",
       "\t4 & 4 & 1\\_3 & 3R & Observed & cor.2\\_1 & -0.0002859671\\\\\n",
       "\t5 & 5 & 1\\_3 & X  & Observed & cor.2\\_1 &  0.0819691605\\\\\n",
       "\t6 & 6 & 2\\_4 & 2L & Observed & cor.2\\_1 & -0.0062987245\\\\\n",
       "\\end{tabular}\n"
      ],
      "text/markdown": [
       "\n",
       "A data.frame: 6 × 6\n",
       "\n",
       "| <!--/--> | X &lt;int&gt; | seg.2021 &lt;fct&gt; | chrom &lt;fct&gt; | Type &lt;fct&gt; | seg.2014 &lt;chr&gt; | cor.coef &lt;dbl&gt; |\n",
       "|---|---|---|---|---|---|---|\n",
       "| 1 | 1 | 1_3 | 2L | Observed | cor.2_1 |  0.1155794968 |\n",
       "| 2 | 2 | 1_3 | 2R | Observed | cor.2_1 | -0.0241098861 |\n",
       "| 3 | 3 | 1_3 | 3L | Observed | cor.2_1 | -0.0105087835 |\n",
       "| 4 | 4 | 1_3 | 3R | Observed | cor.2_1 | -0.0002859671 |\n",
       "| 5 | 5 | 1_3 | X  | Observed | cor.2_1 |  0.0819691605 |\n",
       "| 6 | 6 | 2_4 | 2L | Observed | cor.2_1 | -0.0062987245 |\n",
       "\n"
      ],
      "text/plain": [
       "  X seg.2021 chrom Type     seg.2014 cor.coef     \n",
       "1 1 1_3      2L    Observed cor.2_1   0.1155794968\n",
       "2 2 1_3      2R    Observed cor.2_1  -0.0241098861\n",
       "3 3 1_3      3L    Observed cor.2_1  -0.0105087835\n",
       "4 4 1_3      3R    Observed cor.2_1  -0.0002859671\n",
       "5 5 1_3      X     Observed cor.2_1   0.0819691605\n",
       "6 6 2_4      2L    Observed cor.2_1  -0.0062987245"
      ]
     },
     "metadata": {},
     "output_type": "display_data"
    }
   ],
   "source": [
    "df = read.csv('./HAFCorr.ByChrom.Meta.csv')\n",
    "df = df %>% gather(2:5, key = seg.2014, value = cor.coef)\n",
    "head(df)"
   ]
  },
  {
   "cell_type": "code",
   "execution_count": 16,
   "metadata": {},
   "outputs": [
    {
     "data": {
      "text/plain": [
       "$fill\n",
       "NULL\n",
       "\n",
       "attr(,\"class\")\n",
       "[1] \"labels\""
      ]
     },
     "metadata": {},
     "output_type": "display_data"
    },
    {
     "name": "stderr",
     "output_type": "stream",
     "text": [
      "\u001b[1m\u001b[22m`stat_bin()` using `bins = 30`. Pick better value with `binwidth`.\n",
      "\u001b[1m\u001b[22m`stat_bin()` using `bins = 30`. Pick better value with `binwidth`.\n"
     ]
    },
    {
     "data": {
      "image/png": "[encoded data removed]",
      "text/plain": [
       "plot without title"
      ]
     },
     "metadata": {
      "image/png": {
       "height": 420,
       "width": 420
      }
     },
     "output_type": "display_data"
    }
   ],
   "source": [
    "df = read.csv('./HAFCorr.ByChrom.Meta.csv')\n",
    "df = df %>% gather(2:5, key = seg.2014, value = cor.coef)\n",
    "p.chroms.RegCoef = ggplot(df, aes(x = cor.coef, fill = Type, colour = Type)) +\n",
    "    geom_histogram( color=\"#e9ecef\", alpha=0.6, position = 'identity') +\n",
    "    scale_fill_manual(values=c(\"#69b3a2\", \"grey\")) +\n",
    "    #xlim(-0.045, 0.045) +\n",
    "    xlab('Pearson Correlation Coefficient') +\n",
    "    theme_bw(base_size = 15) +\n",
    "    theme(axis.text.x = element_text(size = 18),\n",
    "          axis.text.y = element_text(size = 18),\n",
    "         axis.title.x = element_text(size = 20),\n",
    "         axis.title.y = element_text(size = 20),\n",
    "         legend.text = element_text(size = 20),\n",
    "         legend.title=element_blank(),\n",
    "         strip.text = element_text(size = 20))  +\n",
    "    facet_grid(. ~ chrom) \n",
    "    labs(fill=NULL) \n",
    "p.chroms.RegCoef\n",
    "\n",
    "ggsave('../../Figures/2014Comp/InterAnnual_HAFCorr.ByChrom.pdf', p.chroms.RegCoef, width = 35, height = 10)"
   ]
  },
  {
   "cell_type": "code",
   "execution_count": 55,
   "metadata": {},
   "outputs": [
    {
     "name": "stderr",
     "output_type": "stream",
     "text": [
      "\u001b[1m\u001b[22m`stat_bin()` using `bins = 30`. Pick better value with `binwidth`.\n",
      "Warning message:\n",
      "“\u001b[1m\u001b[22mRemoved 1156 rows containing non-finite values (`stat_bin()`).”\n"
     ]
    }
   ],
   "source": [
    "ggsave(\"../Figures/2014Comp/HAFCorCoeff.chroms.pdf\", p.chroms.RegCoef, height = 8, width = 20)\n"
   ]
  },
  {
   "cell_type": "code",
   "execution_count": null,
   "metadata": {
    "collapsed": true
   },
   "outputs": [],
   "source": []
  }
 ],
 "metadata": {
  "kernelspec": {
   "display_name": "R",
   "language": "R",
   "name": "ir"
  },
  "language_info": {
   "codemirror_mode": "r",
   "file_extension": ".r",
   "mimetype": "text/x-r-source",
   "name": "R",
   "pygments_lexer": "r",
   "version": "3.5.1"
  }
 },
 "nbformat": 4,
 "nbformat_minor": 2
}
